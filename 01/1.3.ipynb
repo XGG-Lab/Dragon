{
 "cells": [
  {
   "cell_type": "markdown",
   "metadata": {},
   "source": [
    "## 1.3 The Evolution of Programming Languages"
   ]
  },
  {
   "cell_type": "markdown",
   "metadata": {},
   "source": [
    "### 1.3.1\n",
    "\n",
    "> Indicate which of the following terms:\n",
    "> \n",
    "> a) imperative b) declarative c) von Neumann\n",
    "> \n",
    "> d) object-oriented e) functional f) third-generation\n",
    "> \n",
    "> g) fourth-generation h) scripting\n",
    ">\n",
    "> apply to which of the following languages:\n",
    ">\n",
    "> 1) C 2) C++ 3) Cobol 4) Fortran 5) Java\n",
    "> \n",
    "> 6) Lisp 7) ML 8) Perl 9) Python 10) VB"
   ]
  },
  {
   "cell_type": "markdown",
   "metadata": {},
   "source": [
    "* imperative: C, C++, Cobol, Fortran, Java, Perl, Python, VB\n",
    "* declarative: Lisp, ML\n",
    "* von Neumann: C, C++, Fortran\n",
    "* object-oriented: C++, Cobol, Java, Python, VB\n",
    "* functional: Lisp, ML\n",
    "* third-generation: C, C++, Cobol, Fortran, Java, Lisp, ML, Perl, Python, VB\n",
    "* fourth-generation:\n",
    "* scripting: Lisp, ML, Perl, Python"
   ]
  }
 ],
 "metadata": {
  "kernelspec": {
   "display_name": "Python 2",
   "language": "python",
   "name": "python2"
  },
  "language_info": {
   "codemirror_mode": {
    "name": "ipython",
    "version": 2
   },
   "file_extension": ".py",
   "mimetype": "text/x-python",
   "name": "python",
   "nbconvert_exporter": "python",
   "pygments_lexer": "ipython2",
   "version": "2.7.12"
  }
 },
 "nbformat": 4,
 "nbformat_minor": 2
}
