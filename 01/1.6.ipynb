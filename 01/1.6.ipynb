{
 "cells": [
  {
   "cell_type": "markdown",
   "metadata": {},
   "source": [
    "## 1.6 Programming Language Basics"
   ]
  },
  {
   "cell_type": "markdown",
   "metadata": {},
   "source": [
    "### 1.6.1\n",
    "\n",
    "> For the block-structured C code of Fig. 1.13(a), indicate the values assigned to $w$, $x$, $y$, and $z$."
   ]
  },
  {
   "cell_type": "markdown",
   "metadata": {},
   "source": [
    "w = 13, x = 11, y = 13, z = 11"
   ]
  },
  {
   "cell_type": "markdown",
   "metadata": {},
   "source": [
    "### 1.6.2\n",
    "\n",
    "> Repeat Exercise 1.6.1 for the code of Fig. 1.13(b)."
   ]
  },
  {
   "cell_type": "markdown",
   "metadata": {},
   "source": [
    "w = 9, x = 7, y = 13, z = 11"
   ]
  },
  {
   "cell_type": "markdown",
   "metadata": {},
   "source": [
    "### 1.6.3\n",
    "\n",
    "> For the block-structure code of Fig. 1.14, assuming the usual static scoping of declarations, give the scope for each of the twelve declarations."
   ]
  },
  {
   "cell_type": "markdown",
   "metadata": {},
   "source": [
    "* w: B1, B1, B3, B4, B4\n",
    "* x: B1, B2, B3, B4, B4\n",
    "* y: B1, B1, B1, B1, B5\n",
    "* z: B1, B2, B2, B1, B5"
   ]
  },
  {
   "cell_type": "markdown",
   "metadata": {},
   "source": [
    "### 1.6.4\n",
    "\n",
    "> What is printed by the following C code?"
   ]
  },
  {
   "cell_type": "markdown",
   "metadata": {},
   "source": [
    "* 3\n",
    "* 2"
   ]
  }
 ],
 "metadata": {
  "kernelspec": {
   "display_name": "Python 2",
   "language": "python",
   "name": "python2"
  },
  "language_info": {
   "codemirror_mode": {
    "name": "ipython",
    "version": 2
   },
   "file_extension": ".py",
   "mimetype": "text/x-python",
   "name": "python",
   "nbconvert_exporter": "python",
   "pygments_lexer": "ipython2",
   "version": "2.7.12"
  }
 },
 "nbformat": 4,
 "nbformat_minor": 2
}
