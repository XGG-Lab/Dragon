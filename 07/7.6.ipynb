{
 "cells": [
  {
   "cell_type": "markdown",
   "metadata": {},
   "source": [
    "## 7.6 Introduction to Trace-Based Collection"
   ]
  },
  {
   "cell_type": "markdown",
   "metadata": {},
   "source": [
    "### 7.6.1\n",
    "\n",
    "> Show the steps of a mark-and-sweep garbage collector on\n",
    "\n",
    "> a) Fig. 7.19 with the pointer $A \\rightarrow B$ deleted."
   ]
  },
  {
   "cell_type": "markdown",
   "metadata": {},
   "source": [
    "$$\\begin{array}{lll}\n",
    "X &\\rightarrow& ~|~ A \\\\\n",
    "&\\rightarrow& A ~|~ C\\\\\n",
    "&\\rightarrow& A C ~|~ F\\\\\n",
    "&\\rightarrow& A C F ~|~ H\\\\\n",
    "&\\rightarrow& A C F H ~|~ I\\\\\n",
    "&\\rightarrow& A C F H I ~|~ G\\\\\n",
    "&\\rightarrow& A C F H I G ~|~ E\\\\\n",
    "&\\rightarrow& A C F H I G E ~|~\\\\\n",
    "\\end{array}$$\n",
    "\n",
    "$Free = [B, D]$"
   ]
  },
  {
   "cell_type": "markdown",
   "metadata": {},
   "source": [
    "> b) Fig. 7.19 with the pointer $A \\rightarrow C$ deleted."
   ]
  },
  {
   "cell_type": "markdown",
   "metadata": {},
   "source": [
    "$$\\begin{array}{lll}\n",
    "X &\\rightarrow& ~|~ A \\\\\n",
    "&\\rightarrow& A ~|~ B \\\\\n",
    "&\\rightarrow& A B ~|~ D E \\\\\n",
    "&\\rightarrow& A B D ~|~ E G \\\\\n",
    "&\\rightarrow& A B D E ~|~ G C \\\\\n",
    "&\\rightarrow& A B D E G ~|~ C H \\\\\n",
    "&\\rightarrow& A B D E G C ~|~ H F \\\\\n",
    "&\\rightarrow& A B D E G C H ~|~ F I \\\\\n",
    "&\\rightarrow& A B D E G C H F ~|~ I \\\\\n",
    "&\\rightarrow& A B D E G C H F I ~|~ \\\\\n",
    "\\end{array}$$\n",
    "\n",
    "$Free = []$"
   ]
  },
  {
   "cell_type": "markdown",
   "metadata": {},
   "source": [
    "> c) Fig. 7.20 with the pointer $A \\rightarrow D$ deleted."
   ]
  },
  {
   "cell_type": "markdown",
   "metadata": {},
   "source": [
    "$$\\begin{array}{lll}\n",
    "X, Y &\\rightarrow& ~|~ A B \\\\\n",
    "&\\rightarrow& A ~|~ B E \\\\\n",
    "&\\rightarrow& A B ~|~ E C \\\\\n",
    "&\\rightarrow& A B E ~|~ C H \\\\\n",
    "&\\rightarrow& A B E C ~|~ H I \\\\\n",
    "&\\rightarrow& A B E C H ~|~ I \\\\\n",
    "&\\rightarrow& A B E C H I ~|~ \\\\\n",
    "\\end{array}$$\n",
    "\n",
    "$Free = [D, G, F]$"
   ]
  },
  {
   "cell_type": "markdown",
   "metadata": {},
   "source": [
    "> d) Fig. 7.20 with the object $B$ deleted."
   ]
  },
  {
   "cell_type": "markdown",
   "metadata": {},
   "source": [
    "$$\\begin{array}{lll}\n",
    "X, Y &\\rightarrow& ~|~ A \\\\\n",
    "&\\rightarrow& A ~|~ D E \\\\\n",
    "&\\rightarrow& A D ~|~ E F G H \\\\\n",
    "&\\rightarrow& A D E ~|~ F G H \\\\\n",
    "&\\rightarrow& A D E F ~|~ G H I \\\\\n",
    "&\\rightarrow& A D E F G ~|~ H I \\\\\n",
    "&\\rightarrow& A D E F G H ~|~ I \\\\\n",
    "&\\rightarrow& A D E F G H I ~|~ \\\\\n",
    "\\end{array}$$\n",
    "\n",
    "$Free = [B, C]$"
   ]
  },
  {
   "cell_type": "markdown",
   "metadata": {},
   "source": [
    "### 7.6.2\n",
    "\n",
    "> The Baker mark-and-sweep algorithm moves objects among four lists: $Free$, $Unreached$, $Unscanned$, and $Scanned$. For each of the object networks of Exercise 7.6.1, indicate for each object the sequence of lists on which it finds itself from just before garbage collection begins until just after it finishes.\n",
    "\n",
    "> a)"
   ]
  },
  {
   "cell_type": "markdown",
   "metadata": {},
   "source": [
    "$Unreached = [A, C, F, H, I, G, E]$\n",
    "\n",
    "$Free = [B, D]$"
   ]
  },
  {
   "cell_type": "markdown",
   "metadata": {},
   "source": [
    "> b)"
   ]
  },
  {
   "cell_type": "markdown",
   "metadata": {},
   "source": [
    "$Unreached = [A, B, D, E, G, C, H, F, I]$\n",
    "\n",
    "$Free = []$"
   ]
  },
  {
   "cell_type": "markdown",
   "metadata": {},
   "source": [
    "> c)"
   ]
  },
  {
   "cell_type": "markdown",
   "metadata": {},
   "source": [
    "$Unreached = [A, B, E, C, H, I]$\n",
    "\n",
    "$Free = [D, G, F]$"
   ]
  },
  {
   "cell_type": "markdown",
   "metadata": {},
   "source": [
    "> d)"
   ]
  },
  {
   "cell_type": "markdown",
   "metadata": {},
   "source": [
    "$Unreached = [A, D, E, F, G, H, I]$\n",
    "\n",
    "$Free = [B, C]$"
   ]
  },
  {
   "cell_type": "markdown",
   "metadata": {},
   "source": [
    "### 7.6.3\n",
    "\n",
    "> Suppose we perform a mark-and-compact garbage collection on each of the networks of Exercise 7.6.1. Also, suppose that\n",
    "\n",
    "> _i_. Each object has size 100 bytes, and\n",
    "\n",
    "> _ii_. Initially, the nine objects in the heap are arranged in alphabetical order, starting at byte 0 of the heap.\n",
    "\n",
    "> What is the address of each object after garbage collection?\n",
    "\n",
    "> a)"
   ]
  },
  {
   "cell_type": "markdown",
   "metadata": {},
   "source": [
    "| $A(0)$ | $C(100)$ | $E(200)$ | $F(300)$ | $G(400)$ | $H(500)$ | $I(600)$ |\n",
    "|:-|:-|:-|:-|:-|:-|:-|\n"
   ]
  },
  {
   "cell_type": "markdown",
   "metadata": {},
   "source": [
    "> b)"
   ]
  },
  {
   "cell_type": "markdown",
   "metadata": {},
   "source": [
    "| $A(0)$ | $B(100)$ | $C(200)$ | $D(300)$ | $E(400)$ | $F(500)$ | $G(600)$ | $H(700)$ | $I(800)$ |\n",
    "|:-|:-|:-|:-|:-|:-|:-|:-|:-|\n"
   ]
  },
  {
   "cell_type": "markdown",
   "metadata": {},
   "source": [
    "> c)"
   ]
  },
  {
   "cell_type": "markdown",
   "metadata": {},
   "source": [
    "| $A(0)$ | $B(100)$ | $C(200)$ | $E(300)$ | $H(400)$ | $I(500)$ |\n",
    "|:-|:-|:-|:-|:-|:-|\n"
   ]
  },
  {
   "cell_type": "markdown",
   "metadata": {},
   "source": [
    "> d)"
   ]
  },
  {
   "cell_type": "markdown",
   "metadata": {},
   "source": [
    "| $A(0)$ | $D(100)$ | $E(200)$ | $F(300)$ | $G(400)$ | $H(500)$ | $I(600)$ |\n",
    "|:-|:-|:-|:-|:-|:-|:-|\n"
   ]
  },
  {
   "cell_type": "markdown",
   "metadata": {},
   "source": [
    "### 7.6.4\n",
    "\n",
    "> Suppose we execute Cheney's copying garbage collection algorithm on each of the networks of Exercise 7.6.1. Also, suppose that\n",
    "\n",
    "> _i_. Each object has size 100 bytes,\n",
    "\n",
    "> _ii_. The unscanned list is managed as a queue, and when an object has more than one pointer, the reached objects are added to the queue in alphabetical order, and\n",
    "\n",
    "> _iii_. The $From$ semispace starts at location 0, and the $To$ semispace starts at location 10,000.\n",
    "\n",
    "> What is the value of $NewLocation(o)$ for each object $o$ that remains after garbage collection?\n",
    "\n",
    "> a)"
   ]
  },
  {
   "cell_type": "markdown",
   "metadata": {},
   "source": [
    "| $A(10000)$ | $C(10100)$ | $F(10200)$ | $H(10300)$ | $I(10400)$ | $G(10500)$ | $E(10600)$ |\n",
    "|:-|:-|:-|:-|:-|:-|:-|\n"
   ]
  },
  {
   "cell_type": "markdown",
   "metadata": {},
   "source": [
    "> b)"
   ]
  },
  {
   "cell_type": "markdown",
   "metadata": {},
   "source": [
    "| $A(10000)$ | $B(10100)$ | $D(10200)$ | $E(10300)$ | $G(10400)$ | $C(10500)$ | $H(10600)$ | $F(10700)$ | $I(10800)$ |\n",
    "|:-|:-|:-|:-|:-|:-|:-|:-|:-|\n"
   ]
  },
  {
   "cell_type": "markdown",
   "metadata": {},
   "source": [
    "> c)"
   ]
  },
  {
   "cell_type": "markdown",
   "metadata": {},
   "source": [
    "| $A(10000)$ | $B(10100)$ | $E(10200)$ | $C(10300)$ | $H(10400)$ | $I(10500)$ |\n",
    "|:-|:-|:-|:-|:-|:-|\n"
   ]
  },
  {
   "cell_type": "markdown",
   "metadata": {},
   "source": [
    "> d)"
   ]
  },
  {
   "cell_type": "markdown",
   "metadata": {},
   "source": [
    "| $A(10000)$ | $D(10100)$ | $E(10200)$ | $F(10300)$ | $G(10400)$ | $H(10500)$ | $I(10600)$ |\n",
    "|:-|:-|:-|:-|:-|:-|:-|\n"
   ]
  }
 ],
 "metadata": {
  "kernelspec": {
   "display_name": "Python 2",
   "language": "python",
   "name": "python2"
  },
  "language_info": {
   "codemirror_mode": {
    "name": "ipython",
    "version": 2
   },
   "file_extension": ".py",
   "mimetype": "text/x-python",
   "name": "python",
   "nbconvert_exporter": "python",
   "pygments_lexer": "ipython2",
   "version": "2.7.12"
  }
 },
 "nbformat": 4,
 "nbformat_minor": 2
}
