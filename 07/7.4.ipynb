{
 "cells": [
  {
   "cell_type": "markdown",
   "metadata": {},
   "source": [
    "## 7.4 Heap Management"
   ]
  },
  {
   "cell_type": "markdown",
   "metadata": {},
   "source": [
    "### 7.4.1\n",
    "\n",
    "> Suppose the heap consists of seven chunks, starting at address 0. The sizes of the chunks, in order, are $80, 30, 60, 50, 70, 20, 40$ bytes. When we place an object in a chunk, we put it at the high end if there is enough space remaining to form a smaller chunk. However, we cannot tolerate chunks of fewer that 8 bytes, so if an object is almost as large as the selected chunk, we give it the entire chunk and place the objects of the following sizes: $32, 64, 48, 16$, in that order, what does the free space list look like after satisfying the requests, if the method of selecting chunks is\n",
    "\n",
    "> a) First fit."
   ]
  },
  {
   "cell_type": "markdown",
   "metadata": {},
   "source": [
    "| 80 | 30 | 60 | 50 | 70 | 20 | 40 |\n",
    "|:---|:---|:---|:---|:---|:---|:---|\n",
    "\n",
    "| 48 | [32] | 30 | 60 | 50 | 70 | 20 | 40 |\n",
    "|:---|:-----|:---|:---|:---|:---|:---|:---|\n",
    "\n",
    "| 48 | [32] | 30 | 60 | 50 | [64] + 6 | 20 | 40 |\n",
    "|:---|:-----|:---|:---|:---|:---------|:---|:---|\n",
    "\n",
    "| [48] | [32] | 30 | 60 | 50 | [64] + 6 | 20 | 40 |\n",
    "|:-----|:-----|:---|:---|:---|:---------|:---|:---|\n",
    "\n",
    "| [48] | [32] | 14 | [16] | 60 | 50 | [64] + 6 | 20 | 40 |\n",
    "|:-----|:-----|:---|:-----|:---|:---|:---------|:---|:---|\n"
   ]
  },
  {
   "cell_type": "markdown",
   "metadata": {},
   "source": [
    "> b) Best fit."
   ]
  },
  {
   "cell_type": "markdown",
   "metadata": {},
   "source": [
    "| 80 | 30 | 60 | 50 | 70 | 20 | 40 |\n",
    "|:---|:---|:---|:---|:---|:---|:---|\n",
    "\n",
    "| 80 | 30 | 60 | 50 | 70 | 20 | 8 | [32] |\n",
    "|:---|:---|:---|:---|:---|:---|:--|:-----|\n",
    "\n",
    "| 80 | 30 | 60 | 50 | [64] + 6 | 20 | 8 | [32] |\n",
    "|:---|:---|:---|:---|:---------|:---|:--|:-----|\n",
    "\n",
    "| 80 | 30 | 60 | [48] + 2 | [64] + 6 | 20 | 8 | [32] |\n",
    "|:---|:---|:---|:---------|:---------|:---|:--|:-----|\n",
    "\n",
    "| 80 | 30 | 60 | [48] + 2 | [64] + 6 | [16] + 4 | 8 | [32] |\n",
    "|:---|:---|:---|:---------|:---------|:---------|:--|:-----|\n"
   ]
  }
 ],
 "metadata": {
  "kernelspec": {
   "display_name": "Python 2",
   "language": "python",
   "name": "python2"
  },
  "language_info": {
   "codemirror_mode": {
    "name": "ipython",
    "version": 2
   },
   "file_extension": ".py",
   "mimetype": "text/x-python",
   "name": "python",
   "nbconvert_exporter": "python",
   "pygments_lexer": "ipython2",
   "version": "2.7.12"
  }
 },
 "nbformat": 4,
 "nbformat_minor": 2
}
