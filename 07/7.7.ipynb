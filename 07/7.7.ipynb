{
 "cells": [
  {
   "cell_type": "markdown",
   "metadata": {},
   "source": [
    "## 7.7 Short-Pause Garbage Collection"
   ]
  },
  {
   "cell_type": "markdown",
   "metadata": {},
   "source": [
    "### 7.7.1\n",
    "\n",
    "> Suppose that the network of objects from Fig. 7.20 is managed by an incremental algorithm that uses the four lists _Unreached_, _Unscanned_, _Scanned_, and _Free_, as in Bakers's algorithm. To be specific, the _Unscanned_ list is manged as a queue, and when more than one object is to be placed on this list due to the scannning of one object, we do so in alphabetical order. Suppose also that we use write barriers to assure that no reachable object is made garbage. Starting with $A$ and $B$ on the _Unscanned_ list, suppose the following events occur:\n",
    "\n",
    "> i. $A$ is scanned.\n",
    "\n",
    "> ii. The pointer $A \\rightarrow D$ is rewritten to be $A \\rightarrow H$.\n",
    "\n",
    "> iii. $B$ is scanned.\n",
    "\n",
    "> iv. $D$ is scanned.\n",
    "\n",
    "> v. The pointer $B \\rightarrow C$ is rewritten to be $B \\rightarrow I$.\n",
    "\n",
    "> Simulate the entire incremental garbage collection, assuming no more pointers are rewritten. Which objects are garbage? Which objects are aplaced on the _Free_ list?"
   ]
  },
  {
   "cell_type": "markdown",
   "metadata": {},
   "source": [
    "* init:\n",
    "    * $Unreached = [C, D, E, F, G, H, I]$\n",
    "    * $Unscanned = [A, B]$\n",
    "    * $Scanned = []$\n",
    "* i: $A$ is scanned.\n",
    "    * $Unreached = [C, F, G, H, I]$\n",
    "    * $Unscanned = [B, D, E]$\n",
    "    * $Scanned = [A]$\n",
    "* ii: The pointer $A \\rightarrow D$ is rewritten to be $A \\rightarrow H$.\n",
    "    * $Unreached = [C, F, G, I]$\n",
    "    * $Unscanned = [B, D, E, H]$\n",
    "    * $Scanned = [A]$\n",
    "* iii: $B$ is scanned.\n",
    "    * $Unreached = [F, G, I]$\n",
    "    * $Unscanned = [D, E, H, C]$\n",
    "    * $Scanned = [A, B]$\n",
    "* iv: $D$ is scanned\n",
    "    * $Unreached = [I]$\n",
    "    * $Unscanned = [E, H, C, F, G]$\n",
    "    * $Scanned = [A, B, D]$\n",
    "* v: The pointer $B \\rightarrow C$ is rewritten to be $B \\rightarrow I$.\n",
    "    * $Unreached = []$\n",
    "    * $Unscanned = [E, H, C, F, G, I]$\n",
    "    * $Scanned = [A, B, D]$\n",
    "* final:\n",
    "    * $Unreached = []$\n",
    "    * $Unscanned = []$\n",
    "    * $Scanned = [A, B, D, E, H, C, F, G, I]$\n",
    "\n",
    "Garbage: $[C, D, F, G]$\n",
    "Free: $[]$"
   ]
  },
  {
   "cell_type": "markdown",
   "metadata": {},
   "source": [
    "### 7.7.2\n",
    "\n",
    "> Repeat Exercise 7.7.1 on the assumption that\n",
    "\n",
    "> a) Events (ii) and (v) are interchanged in order."
   ]
  },
  {
   "cell_type": "markdown",
   "metadata": {},
   "source": [
    "* init:\n",
    "    * $Unreached = [C, D, E, F, G, H, I]$\n",
    "    * $Unscanned = [A, B]$\n",
    "    * $Scanned = []$\n",
    "* i: $A$ is scanned.\n",
    "    * $Unreached = [C, F, G, H, I]$\n",
    "    * $Unscanned = [B, D, E]$\n",
    "    * $Scanned = [A]$\n",
    "* v: The pointer $B \\rightarrow C$ is rewritten to be $B \\rightarrow I$.\n",
    "    * $Unreached = [C, F, G, H, I]$\n",
    "    * $Unscanned = [B, D, E]$\n",
    "    * $Scanned = [A]$\n",
    "* iii: $B$ is scanned.\n",
    "    * $Unreached = [C, F, G, H]$\n",
    "    * $Unscanned = [D, E, I]$\n",
    "    * $Scanned = [A, B]$\n",
    "* iv: $D$ is scanned\n",
    "    * $Unreached = [C]$\n",
    "    * $Unscanned = [E, I, F, G, H]$\n",
    "    * $Scanned = [A, B, D]$\n",
    "* ii: The pointer $A \\rightarrow D$ is rewritten to be $A \\rightarrow H$.\n",
    "    * $Unreached = [C]$\n",
    "    * $Unscanned = [E, I, F, G, H]$\n",
    "    * $Scanned = [A, B, D]$\n",
    "* final:\n",
    "    * $Unreached = [C]$\n",
    "    * $Unscanned = []$\n",
    "    * $Scanned = [A, B, D, E, I, F, G, H]$\n",
    "\n",
    "Garbage: $[C, D, F, G]$\n",
    "Free: $[C]$"
   ]
  },
  {
   "cell_type": "markdown",
   "metadata": {},
   "source": [
    "> b) Events (ii) and (v) occur before (i), (iii), and (iv)."
   ]
  },
  {
   "cell_type": "markdown",
   "metadata": {},
   "source": [
    "* init:\n",
    "    * $Unreached = [C, D, E, F, G, H, I]$\n",
    "    * $Unscanned = [A, B]$\n",
    "    * $Scanned = []$\n",
    "* ii: The pointer $A \\rightarrow D$ is rewritten to be $A \\rightarrow H$.\n",
    "    * $Unreached = [C, D, E, F, G, H, I]$\n",
    "    * $Unscanned = [A, B]$\n",
    "    * $Scanned = []$\n",
    "* v: The pointer $B \\rightarrow C$ is rewritten to be $B \\rightarrow I$.\n",
    "    * $Unreached = [C, D, E, F, G, H, I]$\n",
    "    * $Unscanned = [A, B]$\n",
    "    * $Scanned = []$\n",
    "* i: $A$ is scanned.\n",
    "    * $Unreached = [C, D, F, G, I]$\n",
    "    * $Unscanned = [B, E, H]$\n",
    "    * $Scanned = [A]$\n",
    "* iii: $B$ is scanned.\n",
    "    * $Unreached = [C, D, F, G]$\n",
    "    * $Unscanned = [E, H, I]$\n",
    "    * $Scanned = [A, B]$\n",
    "* iv: $D$ is scanned\n",
    "    * $Unreached = [C, D, F, G]$\n",
    "    * $Unscanned = [E, H, I]$\n",
    "    * $Scanned = [A, B]$\n",
    "* final:\n",
    "    * $Unreached = [C, D, F, G]$\n",
    "    * $Unscanned = []$\n",
    "    * $Scanned = [A, B, E, H, I]$\n",
    "\n",
    "Garbage: $[C, D, F, G]$\n",
    "Free: $[C, D, F, G]$"
   ]
  },
  {
   "cell_type": "markdown",
   "metadata": {},
   "source": [
    "### 7.7.3\n",
    "\n",
    "> Suppose the heap consists of exactly the nine cars on three trains shown in Fig. 7.30. Object $o$ in car 11 has references from cars 12, 23, and 32. When we garbage collect car 11, where might $o$ wind up?"
   ]
  },
  {
   "cell_type": "markdown",
   "metadata": {},
   "source": [
    "* 21, 22, 23, 24(, 25)\n",
    "* 31, 32, 33, 34"
   ]
  },
  {
   "cell_type": "markdown",
   "metadata": {},
   "source": [
    "### 7.7.4\n",
    "\n",
    "> Repeat Exercise 7.7.3 for the cases that $o$ has\n",
    "\n",
    "> a) Only references from cars 22 and 31."
   ]
  },
  {
   "cell_type": "markdown",
   "metadata": {},
   "source": [
    "* 21, 22, 23, 24(, 25)\n",
    "* 31, 32, 33, 34"
   ]
  },
  {
   "cell_type": "markdown",
   "metadata": {},
   "source": [
    "> b) No references other than from car 11."
   ]
  },
  {
   "cell_type": "markdown",
   "metadata": {},
   "source": [
    "* 12, 13"
   ]
  },
  {
   "cell_type": "markdown",
   "metadata": {},
   "source": [
    "### 7.7.5\n",
    "\n",
    "> Suppose the heap consists of exactly the nine cars on three trains shown in Fig. 7.30. We are currently in panic mode. Object $o_1$ in car 11 has only one reference, from object $o_2$ in car 12. That reference is rewritten. When we garbage collect car 11, what could happen to $o_1$?"
   ]
  },
  {
   "cell_type": "markdown",
   "metadata": {},
   "source": [
    "Move $o_1$ to another train."
   ]
  }
 ],
 "metadata": {
  "kernelspec": {
   "display_name": "Python 2",
   "language": "python",
   "name": "python2"
  },
  "language_info": {
   "codemirror_mode": {
    "name": "ipython",
    "version": 2
   },
   "file_extension": ".py",
   "mimetype": "text/x-python",
   "name": "python",
   "nbconvert_exporter": "python",
   "pygments_lexer": "ipython2",
   "version": "2.7.12"
  }
 },
 "nbformat": 4,
 "nbformat_minor": 2
}
