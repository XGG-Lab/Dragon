{
 "cells": [
  {
   "cell_type": "markdown",
   "metadata": {},
   "source": [
    "## 7.2 Stack Allocation of Space"
   ]
  },
  {
   "cell_type": "markdown",
   "metadata": {},
   "source": [
    "### 7.2.1\n",
    "\n",
    "> Suppose that the program of Fig. 7.2 uses a _partition_ function that always picks $a[m]$ as the separator $v$. Also, when the array $a[m], \\cdots, a[n]$ is reordered, assume that the order is preserved as much as possible. That is, first come all the elements less than $v$, in their original order, then all elements equal to $v$, and finally all elements greater than $v$, in their original order.\n",
    "\n",
    "> a) Draw the activation tree when the numbers $9,8,7,6,5,4,3,2,1$ are sorted."
   ]
  },
  {
   "cell_type": "markdown",
   "metadata": {},
   "source": [
    "* $m$\n",
    "* $q(1, 9)$\n",
    "* $p(1, 9), q(1, 8), q(10, 9)$\n",
    "* $p(1, 8), q(1, 7), q(9, 8)$\n",
    "* $p(1, 7), q(1, 6), q(8, 7)$\n",
    "* $p(1, 6), q(1, 5), q(7, 6)$\n",
    "* $p(1, 5), q(1, 4), q(6, 5)$\n",
    "* $p(1, 4), q(1, 3), q(5, 4)$\n",
    "* $p(1, 3), q(1, 2), q(4, 3)$\n",
    "* $p(1, 2), q(1, 1), q(3, 2)$"
   ]
  },
  {
   "cell_type": "markdown",
   "metadata": {},
   "source": [
    "> b) What is the largest number of activiation records that ever appear together on the stack?"
   ]
  },
  {
   "cell_type": "markdown",
   "metadata": {},
   "source": [
    "10"
   ]
  },
  {
   "cell_type": "markdown",
   "metadata": {},
   "source": [
    "### 7.2.2\n",
    "\n",
    "> Repeat Exercise 7.2.1 when the initial order of the numbers is $1, 3, 5, 7, 9, 2, 4, 6, 8$."
   ]
  },
  {
   "cell_type": "markdown",
   "metadata": {},
   "source": [
    "* $m$\n",
    "* $q(1, 9)$\n",
    "* $p(1, 9), q(1, 0), q(2, 9)$\n",
    "* $p(2, 9), q(2, 2), q(4, 9)$\n",
    "* $p(4, 9), q(4, 4), q(6, 9)$\n",
    "* $p(6, 9), q(6, 6), q(8, 9)$\n",
    "* $p(8, 9), q(8, 8), q(10, 9)$\n",
    "\n",
    "7"
   ]
  },
  {
   "cell_type": "markdown",
   "metadata": {},
   "source": [
    "### 7.2.3\n",
    "\n",
    "> In Fig. 7.9 is C code to compute Fibonacci numbers recursively. Suppose that the activation record for $f$ includes the following elements in order: (return value, argument $n$, local $s$, local $t$); there will normally be other elements in the activation record as well. The questions below assume that the initial is $f(5)$.\n",
    "\n",
    "> a) Show the complete activation tree."
   ]
  },
  {
   "cell_type": "markdown",
   "metadata": {},
   "source": [
    "![](./img/7.2.3.a.png)"
   ]
  },
  {
   "cell_type": "markdown",
   "metadata": {},
   "source": [
    "> b) What does the stack and its activation records look like the first time $f(1)$ is about to return?"
   ]
  },
  {
   "cell_type": "markdown",
   "metadata": {},
   "source": [
    "|  |\n",
    "|:-|\n",
    "| $\\begin{array}{l}\\text{return}=? \\\\ n=5 \\\\ s=? \\\\ t=?\\end{array}$ |\n",
    "| $\\begin{array}{l}\\text{return}=? \\\\ n=4 \\\\ s=? \\\\ t=?\\end{array}$ |\n",
    "| $\\begin{array}{l}\\text{return}=? \\\\ n=3 \\\\ s=? \\\\ t=?\\end{array}$ |\n",
    "| $\\begin{array}{l}\\text{return}=? \\\\ n=2 \\\\ s=? \\\\ t=?\\end{array}$ |\n",
    "| $\\begin{array}{l}\\text{return}=1 \\\\ n=1 \\\\ s=? \\\\ t=?\\end{array}$ |"
   ]
  },
  {
   "cell_type": "markdown",
   "metadata": {},
   "source": [
    "> c) What does the stack and its activation records look like the fifth time $f(1)$ is about to return?"
   ]
  },
  {
   "cell_type": "markdown",
   "metadata": {},
   "source": [
    "|  |\n",
    "|:-|\n",
    "| $\\begin{array}{l}\\text{return}=? \\\\ n=5 \\\\ s=5 \\\\ t=?\\end{array}$ |\n",
    "| $\\begin{array}{l}\\text{return}=? \\\\ n=3 \\\\ s=2 \\\\ t=?\\end{array}$ |\n",
    "| $\\begin{array}{l}\\text{return}=1 \\\\ n=1 \\\\ s=? \\\\ t=?\\end{array}$ |"
   ]
  },
  {
   "cell_type": "markdown",
   "metadata": {},
   "source": [
    "### 7.2.4\n",
    "\n",
    "> Here is a sketch of two C functions $f$ and $g$:\n",
    "\n",
    "> ```\n",
    "int f(int x) { int i; ... return i+1; ... }\n",
    "int g(int y) { int j; ... f(j+1) ... }\n",
    "```\n",
    "> That is, function $g$ calls $f$. Draw the top of the stack, starting with the activation record for $g$, after $g$ calls $f$, and $f$ is about to return. You can consider only return values, parameters, control links, and space for local variables. Answer the following quesionts:\n",
    "\n",
    "> a) Which function creates the space on the stack for each element?"
   ]
  },
  {
   "cell_type": "markdown",
   "metadata": {},
   "source": [
    "$g$"
   ]
  },
  {
   "cell_type": "markdown",
   "metadata": {},
   "source": [
    "> b) Which function writes the value of each element?"
   ]
  },
  {
   "cell_type": "markdown",
   "metadata": {},
   "source": [
    "$f$"
   ]
  },
  {
   "cell_type": "markdown",
   "metadata": {},
   "source": [
    "> c) To which activation record does the element belong?"
   ]
  },
  {
   "cell_type": "markdown",
   "metadata": {},
   "source": [
    "$f$"
   ]
  },
  {
   "cell_type": "markdown",
   "metadata": {},
   "source": [
    "### 7.2.5\n",
    "\n",
    "> In a language that passes parameters by reference, there is a function $f(x, y)$ that does the following:\n",
    "\n",
    "> ```\n",
    "x = x + 1; y = y + 2; return x+y;\n",
    "```\n",
    "\n",
    "> If $a$ is assigned the value 3, and then $f(a, a)$ is called, what is returned?"
   ]
  },
  {
   "cell_type": "markdown",
   "metadata": {},
   "source": [
    "$6 + 6 = 12$"
   ]
  },
  {
   "cell_type": "markdown",
   "metadata": {},
   "source": [
    "### 7.2.6\n",
    "\n",
    "> The C function $f$ is defined by:\n",
    "\n",
    "> ```\n",
    "int f(int x, *py, **ppz) {\n",
    "    **ppz += 1; *py += 2; x += 3; return x+*py+**ppz;\n",
    "}\n",
    "```\n",
    "\n",
    "> Variable $a$ is a pointer to $b$; variable $b$ is a pointer to $c$, and $c$ is an integer currently with value 4. If we call $f(c, b, a)$, what is returned?"
   ]
  },
  {
   "cell_type": "markdown",
   "metadata": {},
   "source": [
    "$7 + 7 + 7 = 21$"
   ]
  }
 ],
 "metadata": {
  "kernelspec": {
   "display_name": "Python 2",
   "language": "python",
   "name": "python2"
  },
  "language_info": {
   "codemirror_mode": {
    "name": "ipython",
    "version": 2
   },
   "file_extension": ".py",
   "mimetype": "text/x-python",
   "name": "python",
   "nbconvert_exporter": "python",
   "pygments_lexer": "ipython2",
   "version": "2.7.12"
  }
 },
 "nbformat": 4,
 "nbformat_minor": 2
}
