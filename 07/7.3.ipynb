{
 "cells": [
  {
   "cell_type": "markdown",
   "metadata": {},
   "source": [
    "## 7.3 Access to Nonlocal Data on the Stack"
   ]
  },
  {
   "cell_type": "markdown",
   "metadata": {},
   "source": [
    "### 7.3.1\n",
    "\n",
    "> In Fig. 7.15 is a ML function `main` that computes Fibonacci numbers in a nonstandard way. Show the stack of activation records that result from a call to `main`, up until the time that the first call (to `fib0(1)`) is about to return. Show the access link in each of the activation records on the stack."
   ]
  },
  {
   "cell_type": "markdown",
   "metadata": {},
   "source": [
    "![](./img/7.3.1.png)\n",
    "\n",
    "```\n",
    "+-----------+\n",
    "| main()    |\n",
    "+-----------+\n",
    "|access link|\n",
    "+------------<--------------+\n",
    "| fib0(4)   |   |       |   |\n",
    "+---------------+       |   |\n",
    "|access link|           |   |\n",
    "+------------<------+   |   |\n",
    "| fib1(4)   |   |   |   |   |\n",
    "+---------------+   |   |   |\n",
    "|access link|       |   |   |\n",
    "+------------<--+   |   |   |\n",
    "| fib2(4)   |   |   |   |   |\n",
    "+---------------+   |   |   |\n",
    "|access link|       |   |   |\n",
    "+-----------+       |   |   |\n",
    "| fib1(3)   |       |   |   |\n",
    "+-------------------+   |   |\n",
    "|access link|           |   |\n",
    "+-----------+           |   |\n",
    "| fib0(2)   |           |   |\n",
    "+-----------------------+   |\n",
    "|access link|               |\n",
    "+------------<--+           |\n",
    "| fib1(2)   |   |           |\n",
    "+---------------+           |\n",
    "|access link|               |\n",
    "+-----------+               |\n",
    "| fib0(1)   |               |\n",
    "+---------------------------+\n",
    "|access link|\n",
    "+-----------+\n",
    "```"
   ]
  },
  {
   "cell_type": "markdown",
   "metadata": {},
   "source": [
    "### 7.3.2\n",
    "\n",
    "> Suppose that we implement the functions of Fig. 7.15 using a display. Show the display at the moment the first call to `fib0(1)` is about to return. Also, indicate the saved display entry in each of the activation records on the stack at that time."
   ]
  },
  {
   "cell_type": "markdown",
   "metadata": {},
   "source": [
    "```\n",
    "+------+                  +-----------+\n",
    "| d[1] +------------------> main()    |\n",
    "+------+                  +-----------+\n",
    "| d[2] +---------+        |           |\n",
    "+------+         |        +-----------+\n",
    "| d[3] +-----+   |        | fib0(4)   |\n",
    "+------+     |   |        +-----------+\n",
    "| d[4] +-+   |   |        |saved d[2] |\n",
    "+------+ |   |   |        +------------<--+\n",
    "         |   |   |        | fib1(4)   |   |\n",
    "         |   |   |        +-----------+   |\n",
    "         |   |   |        |saved d[3] |   |\n",
    "         |   |   |        +------------<------+\n",
    "         |   |   |        | fib2(4)   |   |   |\n",
    "         |   |   |        +-----------+   |   |\n",
    "         +---------------->saved d[4] |   |   |\n",
    "             |   |        +-----------+   |   |\n",
    "             |   |        | fib1(3)   |   |   |\n",
    "             |   |        +-------------------+\n",
    "             |   |        |saved d[3] |   |\n",
    "             |   |        +------------<------+\n",
    "             |   |        | fib0(2)   |   |   |\n",
    "             |   |        +---------------+   |\n",
    "             |   |        |saved d[2] |       |\n",
    "             |   |        +------------<--+   |\n",
    "             |   |        | fib1(2)   |   |   |\n",
    "             |   |        +-------------------+\n",
    "             +------------>saved d[3] |   |\n",
    "                 |        +-----------+   |\n",
    "                 |        | fib0(1)   |   |\n",
    "                 |        +---------------+\n",
    "                 +-------->saved d[2] |\n",
    "                          +-----------+\n",
    "```"
   ]
  }
 ],
 "metadata": {
  "kernelspec": {
   "display_name": "Python 2",
   "language": "python",
   "name": "python2"
  },
  "language_info": {
   "codemirror_mode": {
    "name": "ipython",
    "version": 2
   },
   "file_extension": ".py",
   "mimetype": "text/x-python",
   "name": "python",
   "nbconvert_exporter": "python",
   "pygments_lexer": "ipython2",
   "version": "2.7.12"
  }
 },
 "nbformat": 4,
 "nbformat_minor": 2
}
