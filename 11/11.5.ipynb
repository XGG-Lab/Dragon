{
 "cells": [
  {
   "cell_type": "markdown",
   "metadata": {},
   "source": [
    "## 11.5 Data Reuse"
   ]
  },
  {
   "cell_type": "markdown",
   "metadata": {},
   "source": [
    "### 11.5.1\n",
    "\n",
    "> Compute the ranks of each of the matrices in Fig. 11.20. Give both a maximal set of linearly independent columns and a maximal set of linearly independent rows.\n",
    "\n",
    "> a) $$\n",
    "\\left [\n",
    "\\begin{matrix}\n",
    "0 & 1 & 5 \\\\\n",
    "1 & 2 & 6 \\\\\n",
    "2 & 3 & 7 \\\\\n",
    "3 & 4 & 8 \\\\\n",
    "\\end{matrix}\n",
    "\\right ]\n",
    "$$"
   ]
  },
  {
   "cell_type": "markdown",
   "metadata": {},
   "source": [
    "Rank: 2\n",
    "\n",
    "Linearly independent rows:\n",
    "* $[0, 1, 5]$\n",
    "* $[1, 2, 6]$"
   ]
  },
  {
   "cell_type": "markdown",
   "metadata": {},
   "source": [
    "> b) $$\n",
    "\\left [\n",
    "\\begin{matrix}\n",
    "1 & 2 & 3 & 4 \\\\\n",
    "5 & 6 & 7 & 8 \\\\\n",
    "9 & 10 & 12 & 15 \\\\\n",
    "3 & 2 & 2 & 3 \\\\\n",
    "\\end{matrix}\n",
    "\\right ]\n",
    "$$"
   ]
  },
  {
   "cell_type": "markdown",
   "metadata": {},
   "source": [
    "Rank: 3\n",
    "\n",
    "Linearly independent rows:\n",
    "* $[1, 2, 3, 4]$\n",
    "* $[5, 6, 7, 8]$\n",
    "* $[3, 2, 2, 3]$"
   ]
  },
  {
   "cell_type": "markdown",
   "metadata": {},
   "source": [
    "> c) $$\n",
    "\\left [\n",
    "\\begin{matrix}\n",
    "0 & 0 & 1 \\\\\n",
    "0 & 1 & 1 \\\\\n",
    "1 & 1 & 1 \\\\\n",
    "5 & 6 & 3 \\\\\n",
    "\\end{matrix}\n",
    "\\right ]\n",
    "$$"
   ]
  },
  {
   "cell_type": "markdown",
   "metadata": {},
   "source": [
    "Rank: 3\n",
    "\n",
    "Linearly independent rows:\n",
    "* $[0, 0, 1]$\n",
    "* $[0, 1, 1]$\n",
    "* $[1, 1, 1]$"
   ]
  },
  {
   "cell_type": "markdown",
   "metadata": {},
   "source": [
    "### 11.5.2\n",
    "\n",
    "> Find a basis for the null space of each matrix in Fig. 11. 20.\n",
    "\n",
    "> a)"
   ]
  },
  {
   "cell_type": "markdown",
   "metadata": {},
   "source": [
    "$[4, -5, 1]$"
   ]
  },
  {
   "cell_type": "markdown",
   "metadata": {},
   "source": [
    "> b)"
   ]
  },
  {
   "cell_type": "markdown",
   "metadata": {},
   "source": [
    "$[-1, 3, -3, 1]$"
   ]
  },
  {
   "cell_type": "markdown",
   "metadata": {},
   "source": [
    "> c)"
   ]
  },
  {
   "cell_type": "markdown",
   "metadata": {},
   "source": [
    "null"
   ]
  },
  {
   "cell_type": "markdown",
   "metadata": {},
   "source": [
    "### 11.5.5"
   ]
  },
  {
   "cell_type": "markdown",
   "metadata": {},
   "source": [
    "The vector $[1, 0, \\dots, 0, 0]$ must be in the null space of the truncated matrix."
   ]
  }
 ],
 "metadata": {
  "kernelspec": {
   "display_name": "Python 2",
   "language": "python",
   "name": "python2"
  },
  "language_info": {
   "codemirror_mode": {
    "name": "ipython",
    "version": 2
   },
   "file_extension": ".py",
   "mimetype": "text/x-python",
   "name": "python",
   "nbconvert_exporter": "python",
   "pygments_lexer": "ipython2",
   "version": "2.7.12"
  }
 },
 "nbformat": 4,
 "nbformat_minor": 2
}
