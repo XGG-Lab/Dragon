{
 "cells": [
  {
   "cell_type": "markdown",
   "metadata": {},
   "source": [
    "## 11.2 Matrix Multiply: An In-Depth Example"
   ]
  },
  {
   "cell_type": "markdown",
   "metadata": {},
   "source": [
    "### 11.2.1\n",
    "\n",
    "> The block-based matrix-multiplication algorithm of Fig. 11.8 does not have the initialization of the matrix $Z$ to zero, as the code of Fig. 11.5 does. Add the steps that initialize $Z$ to all zeros in Fig 11.8."
   ]
  },
  {
   "cell_type": "markdown",
   "metadata": {},
   "source": [
    "```\n",
    "for (ii = 0; ii < n; ii = ii+B)\n",
    "    for (jj = 0; jj < n; jj = jj+B)\n",
    "        for (i = ii; i < ii+B; i++)\n",
    "            for (j = jj; j < jj+B; j++)\n",
    "                Z[i, j] = 0.0;\n",
    "        for (kk = 0; kk < n; kk = kk+B)\n",
    "            for (i = ii; i < ii+B; i++)\n",
    "                for (j = jj; j < jj+B; j++)\n",
    "                    for (k = kk; k < kk+B; k++)\n",
    "                        Z[i, j] = Z[i, j] + X[i, k]*Y[k, j];\n",
    "```"
   ]
  }
 ],
 "metadata": {
  "kernelspec": {
   "display_name": "Python 2",
   "language": "python",
   "name": "python2"
  },
  "language_info": {
   "codemirror_mode": {
    "name": "ipython",
    "version": 2
   },
   "file_extension": ".py",
   "mimetype": "text/x-python",
   "name": "python",
   "nbconvert_exporter": "python",
   "pygments_lexer": "ipython2",
   "version": "2.7.12"
  }
 },
 "nbformat": 4,
 "nbformat_minor": 2
}
