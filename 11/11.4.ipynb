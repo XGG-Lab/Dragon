{
 "cells": [
  {
   "cell_type": "markdown",
   "metadata": {},
   "source": [
    "## 11.4 Affine Array Indexes"
   ]
  },
  {
   "cell_type": "markdown",
   "metadata": {},
   "source": [
    "### 11.4.1\n",
    "\n",
    "> For each of the following array accesses, give the vector $\\mathbf{f}$ and the matrix $\\mathbf{F}$ that describe them. Assume that the vector of indexes $\\mathbf{i}$ is $i, j, \\dots$, and that all loop indexes have affine limits.\n",
    "\n",
    "> a) $X[2*i+3, 2*j-i]$."
   ]
  },
  {
   "cell_type": "markdown",
   "metadata": {},
   "source": [
    "$$\n",
    "\\left [\n",
    "\\begin{matrix}\n",
    "2 & 0 \\\\\n",
    "-1 & 2 \\\\\n",
    "\\end{matrix}\n",
    "\\right ]\n",
    "\\left [\n",
    "\\begin{matrix}\n",
    "i \\\\\n",
    "j \\\\\n",
    "\\end{matrix}\n",
    "\\right ]\n",
    "+\n",
    "\\left [\n",
    "\\begin{matrix}\n",
    "3 \\\\\n",
    "0 \\\\\n",
    "\\end{matrix}\n",
    "\\right ]\n",
    "$$"
   ]
  },
  {
   "cell_type": "markdown",
   "metadata": {},
   "source": [
    "> b) $Y[i-j,j-k,k-i]$."
   ]
  },
  {
   "cell_type": "markdown",
   "metadata": {},
   "source": [
    "$$\n",
    "\\left [\n",
    "\\begin{matrix}\n",
    "1 & -1 & 0 \\\\\n",
    "0 & 1 & -1 \\\\\n",
    "-1 & 0 & 1 \\\\\n",
    "\\end{matrix}\n",
    "\\right ]\n",
    "\\left [\n",
    "\\begin{matrix}\n",
    "i \\\\\n",
    "j \\\\\n",
    "k \\\\\n",
    "\\end{matrix}\n",
    "\\right ]\n",
    "+\n",
    "\\left [\n",
    "\\begin{matrix}\n",
    "0 \\\\\n",
    "0 \\\\\n",
    "0 \\\\\n",
    "\\end{matrix}\n",
    "\\right ]\n",
    "$$"
   ]
  },
  {
   "cell_type": "markdown",
   "metadata": {},
   "source": [
    "> c) $Z[3, 2*j, k-2*i+1]$."
   ]
  },
  {
   "cell_type": "markdown",
   "metadata": {},
   "source": [
    "$$\n",
    "\\left [\n",
    "\\begin{matrix}\n",
    "0 & 0 & 0 \\\\\n",
    "0 & 2 & 0 \\\\\n",
    "-2 & 0 & 1 \\\\\n",
    "\\end{matrix}\n",
    "\\right ]\n",
    "\\left [\n",
    "\\begin{matrix}\n",
    "i \\\\\n",
    "j \\\\\n",
    "k \\\\\n",
    "\\end{matrix}\n",
    "\\right ]\n",
    "+\n",
    "\\left [\n",
    "\\begin{matrix}\n",
    "3 \\\\\n",
    "0 \\\\\n",
    "1 \\\\\n",
    "\\end{matrix}\n",
    "\\right ]\n",
    "$$"
   ]
  }
 ],
 "metadata": {
  "kernelspec": {
   "display_name": "Python 2",
   "language": "python",
   "name": "python2"
  },
  "language_info": {
   "codemirror_mode": {
    "name": "ipython",
    "version": 2
   },
   "file_extension": ".py",
   "mimetype": "text/x-python",
   "name": "python",
   "nbconvert_exporter": "python",
   "pygments_lexer": "ipython2",
   "version": "2.7.12"
  }
 },
 "nbformat": 4,
 "nbformat_minor": 2
}
