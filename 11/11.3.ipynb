{
 "cells": [
  {
   "cell_type": "markdown",
   "metadata": {},
   "source": [
    "## 11.3 Iteration Spaces"
   ]
  },
  {
   "cell_type": "markdown",
   "metadata": {},
   "source": [
    "### 11.3.1\n",
    "\n",
    "> Convert each of the following loops to a form where the loop indexes are each incremented by 1:\n",
    "\n",
    "> a) `for (i=10; i<50; i=i+7) X[i, i+1] = 0;`."
   ]
  },
  {
   "cell_type": "markdown",
   "metadata": {},
   "source": [
    "```\n",
    "for (j = 0; j <= 5; j++)\n",
    "    X[7*j+10, 7*j+11] = 0;\n",
    "```"
   ]
  },
  {
   "cell_type": "markdown",
   "metadata": {},
   "source": [
    "> b) `for (i= -3; i<=10; i=i+2) X[i] = X[i+1];`."
   ]
  },
  {
   "cell_type": "markdown",
   "metadata": {},
   "source": [
    "```\n",
    "for (j = 0; j <= 6; j++)\n",
    "    X[2*j-3] = X[2*j-2];\n",
    "```"
   ]
  },
  {
   "cell_type": "markdown",
   "metadata": {},
   "source": [
    "> c) `for (i=50; i>=10; i--) X[i] = 0;`."
   ]
  },
  {
   "cell_type": "markdown",
   "metadata": {},
   "source": [
    "```\n",
    "for (j = 0; j <= 40; j++)\n",
    "    X[50-j] = 0;\n",
    "```"
   ]
  },
  {
   "cell_type": "markdown",
   "metadata": {},
   "source": [
    "### 11.3.2\n",
    "\n",
    "> Draw or describe the iteration spaces for each of the following loop nests:\n",
    "\n",
    "> a) The loop nest of Fig. 11.17(a)."
   ]
  },
  {
   "cell_type": "markdown",
   "metadata": {},
   "source": [
    "/\\"
   ]
  },
  {
   "cell_type": "markdown",
   "metadata": {},
   "source": [
    "> b) The loop nest of Fig. 11.17(b)."
   ]
  },
  {
   "cell_type": "markdown",
   "metadata": {},
   "source": [
    "//"
   ]
  },
  {
   "cell_type": "markdown",
   "metadata": {},
   "source": [
    "### 11.3.3\n",
    "\n",
    "> Write the constraints implied by each of the loop nests of Fig. 11.17 in the form of (11.1). That is, give the values of the vectors $\\mathbf{i}$ and $\\mathbf{b}$ and the matrix $\\mathbf{B}$.\n",
    "\n",
    "> a)\n",
    "```\n",
    "for (i = 1; i < 30; i++)\n",
    "    for (j = i+2; j < 40-i; j++)\n",
    "        X[i,j] = 0;\n",
    "```"
   ]
  },
  {
   "cell_type": "markdown",
   "metadata": {},
   "source": [
    "$$\n",
    "\\left [\n",
    "\\begin{matrix}\n",
    " 1 &  0 \\\\\n",
    "-1 &  0 \\\\\n",
    "-1 &  1 \\\\\n",
    "-1 & -1 \\\\\n",
    "\\end{matrix}\n",
    "\\right ]\n",
    "\\left [\n",
    "\\begin{matrix}\n",
    "i \\\\\n",
    "j \\\\\n",
    "\\end{matrix}\n",
    "\\right ]\n",
    "+\n",
    "\\left [\n",
    "\\begin{matrix}\n",
    "-1 \\\\\n",
    "29 \\\\\n",
    "-2 \\\\\n",
    "39 \\\\\n",
    "\\end{matrix}\n",
    "\\right ]\n",
    "\\ge\n",
    "\\left [\n",
    "\\begin{matrix}\n",
    "0 \\\\\n",
    "0 \\\\\n",
    "0 \\\\\n",
    "0 \\\\\n",
    "\\end{matrix}\n",
    "\\right ]\n",
    "$$"
   ]
  },
  {
   "cell_type": "markdown",
   "metadata": {},
   "source": [
    "> b)\n",
    "```\n",
    "for (i = 10; i <= 1000; i++)\n",
    "    for (j = i; j < i+10; j++)\n",
    "        X[i,j] = 0;\n",
    "```"
   ]
  },
  {
   "cell_type": "markdown",
   "metadata": {},
   "source": [
    "$$\n",
    "\\left [\n",
    "\\begin{matrix}\n",
    " 1 &  0 \\\\\n",
    "-1 &  0 \\\\\n",
    "-1 &  1 \\\\\n",
    " 1 & -1 \\\\\n",
    "\\end{matrix}\n",
    "\\right ]\n",
    "\\left [\n",
    "\\begin{matrix}\n",
    "i \\\\\n",
    "j \\\\\n",
    "\\end{matrix}\n",
    "\\right ]\n",
    "+\n",
    "\\left [\n",
    "\\begin{matrix}\n",
    "-10 \\\\\n",
    "1000 \\\\\n",
    "0 \\\\\n",
    "9 \\\\\n",
    "\\end{matrix}\n",
    "\\right ]\n",
    "\\ge\n",
    "\\left [\n",
    "\\begin{matrix}\n",
    "0 \\\\\n",
    "0 \\\\\n",
    "0 \\\\\n",
    "0 \\\\\n",
    "\\end{matrix}\n",
    "\\right ]\n",
    "$$"
   ]
  },
  {
   "cell_type": "markdown",
   "metadata": {},
   "source": [
    "> c)\n",
    "```\n",
    "for (i = 0; i < 100; i++)\n",
    "    for (j = 0; j < 100+i; j++)\n",
    "        for (k = i+j; k < 100-i-j; k++)\n",
    "            X[i,j,k] = 0;\n",
    "```"
   ]
  },
  {
   "cell_type": "markdown",
   "metadata": {},
   "source": [
    "$$\n",
    "\\left [\n",
    "\\begin{matrix}\n",
    " 1 &  0 &  0 \\\\\n",
    "-1 &  0 &  0 \\\\\n",
    " 0 &  1 &  0 \\\\\n",
    " 1 & -1 &  0 \\\\\n",
    "-1 & -1 &  1 \\\\\n",
    "-1 & -1 & -1 \\\\\n",
    "\\end{matrix}\n",
    "\\right ]\n",
    "\\left [\n",
    "\\begin{matrix}\n",
    "i \\\\\n",
    "j \\\\\n",
    "k \\\\\n",
    "\\end{matrix}\n",
    "\\right ]\n",
    "+\n",
    "\\left [\n",
    "\\begin{matrix}\n",
    "0 \\\\\n",
    "99 \\\\\n",
    "0 \\\\\n",
    "99 \\\\\n",
    "0 \\\\\n",
    "99 \\\\\n",
    "\\end{matrix}\n",
    "\\right ]\n",
    "\\ge\n",
    "\\left [\n",
    "\\begin{matrix}\n",
    "0 \\\\\n",
    "0 \\\\\n",
    "0 \\\\\n",
    "0 \\\\\n",
    "0 \\\\\n",
    "0 \\\\\n",
    "\\end{matrix}\n",
    "\\right ]\n",
    "$$"
   ]
  },
  {
   "cell_type": "markdown",
   "metadata": {},
   "source": [
    "### 11.3.4\n",
    "\n",
    "> Reverse each of the loop-nesting orders for the nests of Fig. 11.17.\n",
    "\n",
    "> a)\n",
    "```\n",
    "for (i = 1; i < 30; i++)\n",
    "    for (j = i+2; j < 40-i; j++)\n",
    "        X[i,j] = 0;\n",
    "```"
   ]
  },
  {
   "cell_type": "markdown",
   "metadata": {},
   "source": [
    "```\n",
    "for (j = 3; j <= 38; j++)\n",
    "    for (i = 1; i <= min(29, j-2, 39-j); i++)\n",
    "        X[i,j] = 0;\n",
    "```"
   ]
  },
  {
   "cell_type": "markdown",
   "metadata": {},
   "source": [
    "> b)\n",
    "```\n",
    "for (i = 10; i <= 1000; i++)\n",
    "    for (j = i; j < i+10; j++)\n",
    "        X[i,j] = 0;\n",
    "```"
   ]
  },
  {
   "cell_type": "markdown",
   "metadata": {},
   "source": [
    "```\n",
    "for (j = 10; j <= 1009; j++)\n",
    "    for (i = max(10, j-9); i <= min(1000, j); i++)\n",
    "        X[i,j] = 0;\n",
    "```"
   ]
  },
  {
   "cell_type": "markdown",
   "metadata": {},
   "source": [
    "> c)\n",
    "```\n",
    "for (i = 0; i < 100; i++)\n",
    "    for (j = 0; j < 100+i; j++)\n",
    "        for (k = i+j; k < 100-i-j; k++)\n",
    "            X[i,j,k] = 0;\n",
    "```"
   ]
  },
  {
   "cell_type": "markdown",
   "metadata": {},
   "source": [
    "```\n",
    "for (k = 0; k <= 99; k++)\n",
    "    for (j = 0; j <= min(k, 99-k, 198, (99+k)/2, (198-k)/2); j++)\n",
    "        for (i = max(0, j-99); i <= min(99, k-j, 99-j-k); i++)\n",
    "            X[i,j,k] = 0;\n",
    "```"
   ]
  },
  {
   "cell_type": "markdown",
   "metadata": {},
   "source": [
    "### 11.3.5\n",
    "\n",
    "> Use the Fourier-Motzkin elimination algorithm to eliminate $i$ from each of the sets of constraints obtained in Exercise 11.3.3.\n",
    "\n",
    "> a)\n",
    "```\n",
    "for (i = 1; i < 30; i++)\n",
    "    for (j = i+2; j < 40-i; j++)\n",
    "        X[i,j] = 0;\n",
    "```"
   ]
  },
  {
   "cell_type": "markdown",
   "metadata": {},
   "source": [
    "$$\n",
    "\\left [\n",
    "\\begin{matrix}\n",
    " 1 \\\\\n",
    "-1 \\\\\n",
    "\\end{matrix}\n",
    "\\right ]\n",
    "\\left [\n",
    "\\begin{matrix}\n",
    "j \\\\\n",
    "\\end{matrix}\n",
    "\\right ]\n",
    "+\n",
    "\\left [\n",
    "\\begin{matrix}\n",
    "3 \\\\\n",
    "38 \\\\\n",
    "\\end{matrix}\n",
    "\\right ]\n",
    "\\ge\n",
    "\\left [\n",
    "\\begin{matrix}\n",
    "0 \\\\\n",
    "0 \\\\\n",
    "\\end{matrix}\n",
    "\\right ]\n",
    "$$"
   ]
  },
  {
   "cell_type": "markdown",
   "metadata": {},
   "source": [
    "> b)\n",
    "```\n",
    "for (i = 10; i <= 1000; i++)\n",
    "    for (j = i; j < i+10; j++)\n",
    "        X[i,j] = 0;\n",
    "```"
   ]
  },
  {
   "cell_type": "markdown",
   "metadata": {},
   "source": [
    "$$\n",
    "\\left [\n",
    "\\begin{matrix}\n",
    " 1 \\\\\n",
    "-1 \\\\\n",
    "\\end{matrix}\n",
    "\\right ]\n",
    "\\left [\n",
    "\\begin{matrix}\n",
    "j \\\\\n",
    "\\end{matrix}\n",
    "\\right ]\n",
    "+\n",
    "\\left [\n",
    "\\begin{matrix}\n",
    "10 \\\\\n",
    "1009 \\\\\n",
    "\\end{matrix}\n",
    "\\right ]\n",
    "\\ge\n",
    "\\left [\n",
    "\\begin{matrix}\n",
    "0 \\\\\n",
    "0 \\\\\n",
    "\\end{matrix}\n",
    "\\right ]\n",
    "$$"
   ]
  },
  {
   "cell_type": "markdown",
   "metadata": {},
   "source": [
    "> c)\n",
    "```\n",
    "for (i = 0; i < 100; i++)\n",
    "    for (j = 0; j < 100+i; j++)\n",
    "        for (k = i+j; k < 100-i-j; k++)\n",
    "            X[i,j,k] = 0;\n",
    "```"
   ]
  },
  {
   "cell_type": "markdown",
   "metadata": {},
   "source": [
    "$$\n",
    "\\left [\n",
    "\\begin{matrix}\n",
    " 1 &  0 \\\\\n",
    "-1 &  0 \\\\\n",
    "-1 & -1 \\\\\n",
    "-2 &  1 \\\\\n",
    "-2 & -1 \\\\\n",
    "\\end{matrix}\n",
    "\\right ]\n",
    "\\left [\n",
    "\\begin{matrix}\n",
    "j \\\\\n",
    "k \\\\\n",
    "\\end{matrix}\n",
    "\\right ]\n",
    "+\n",
    "\\left [\n",
    "\\begin{matrix}\n",
    "198 \\\\\n",
    "0 \\\\\n",
    "0 \\\\\n",
    "-99 \\\\\n",
    "198 \\\\\n",
    "\\end{matrix}\n",
    "\\right ]\n",
    "\\ge\n",
    "\\left [\n",
    "\\begin{matrix}\n",
    "0 \\\\\n",
    "0 \\\\\n",
    "0 \\\\\n",
    "0 \\\\\n",
    "0 \\\\\n",
    "\\end{matrix}\n",
    "\\right ]\n",
    "$$"
   ]
  },
  {
   "cell_type": "markdown",
   "metadata": {},
   "source": [
    "### 11.3.6\n",
    "\n",
    "> Use the Fourier-Motzkin elimination algorithm to eliminate $j$ from each of the sets of constraints obtained in Exercise 11.3.3.\n",
    "\n",
    "> a)\n",
    "```\n",
    "for (i = 1; i < 30; i++)\n",
    "    for (j = i+2; j < 40-i; j++)\n",
    "        X[i,j] = 0;\n",
    "```"
   ]
  },
  {
   "cell_type": "markdown",
   "metadata": {},
   "source": [
    "$$\n",
    "\\left [\n",
    "\\begin{matrix}\n",
    " 1 \\\\\n",
    "-1 \\\\\n",
    "\\end{matrix}\n",
    "\\right ]\n",
    "\\left [\n",
    "\\begin{matrix}\n",
    "i \\\\\n",
    "\\end{matrix}\n",
    "\\right ]\n",
    "+\n",
    "\\left [\n",
    "\\begin{matrix}\n",
    "0 \\\\\n",
    "37/2 \\\\\n",
    "\\end{matrix}\n",
    "\\right ]\n",
    "\\ge\n",
    "\\left [\n",
    "\\begin{matrix}\n",
    "0 \\\\\n",
    "0 \\\\\n",
    "\\end{matrix}\n",
    "\\right ]\n",
    "$$"
   ]
  },
  {
   "cell_type": "markdown",
   "metadata": {},
   "source": [
    "> b)\n",
    "```\n",
    "for (i = 10; i <= 1000; i++)\n",
    "    for (j = i; j < i+10; j++)\n",
    "        X[i,j] = 0;\n",
    "```"
   ]
  },
  {
   "cell_type": "markdown",
   "metadata": {},
   "source": [
    "$$\n",
    "\\left [\n",
    "\\begin{matrix}\n",
    " 1 \\\\\n",
    "-1 \\\\\n",
    "\\end{matrix}\n",
    "\\right ]\n",
    "\\left [\n",
    "\\begin{matrix}\n",
    "i \\\\\n",
    "\\end{matrix}\n",
    "\\right ]\n",
    "+\n",
    "\\left [\n",
    "\\begin{matrix}\n",
    "10 \\\\\n",
    "1000 \\\\\n",
    "\\end{matrix}\n",
    "\\right ]\n",
    "\\ge\n",
    "\\left [\n",
    "\\begin{matrix}\n",
    "0 \\\\\n",
    "0 \\\\\n",
    "\\end{matrix}\n",
    "\\right ]\n",
    "$$"
   ]
  },
  {
   "cell_type": "markdown",
   "metadata": {},
   "source": [
    "> c)\n",
    "```\n",
    "for (i = 0; i < 100; i++)\n",
    "    for (j = 0; j < 100+i; j++)\n",
    "        for (k = i+j; k < 100-i-j; k++)\n",
    "            X[i,j,k] = 0;\n",
    "```"
   ]
  },
  {
   "cell_type": "markdown",
   "metadata": {},
   "source": [
    "$$\n",
    "\\left [\n",
    "\\begin{matrix}\n",
    " 1 &  0 \\\\\n",
    "-1 &  0 \\\\\n",
    " 1 &  0 \\\\\n",
    "-1 &  1 \\\\\n",
    "-1 & -1 \\\\\n",
    "\\end{matrix}\n",
    "\\right ]\n",
    "\\left [\n",
    "\\begin{matrix}\n",
    "i \\\\\n",
    "k \\\\\n",
    "\\end{matrix}\n",
    "\\right ]\n",
    "+\n",
    "\\left [\n",
    "\\begin{matrix}\n",
    "0 \\\\\n",
    "99 \\\\\n",
    "99 \\\\\n",
    "0 \\\\\n",
    "99 \\\\\n",
    "\\end{matrix}\n",
    "\\right ]\n",
    "\\ge\n",
    "\\left [\n",
    "\\begin{matrix}\n",
    "0 \\\\\n",
    "0 \\\\\n",
    "0 \\\\\n",
    "0 \\\\\n",
    "0 \\\\\n",
    "\\end{matrix}\n",
    "\\right ]\n",
    "$$"
   ]
  },
  {
   "cell_type": "markdown",
   "metadata": {},
   "source": [
    "### 11.3.7\n",
    "\n",
    "> For each of the loop nests in Fig. 11.17, rewrite the code so the axis $i$ is replaced by the major diagonal.\n",
    "\n",
    "> ```\n",
    "for (i = 1; i < 30; i++)\n",
    "    for (j = i+2; j < 40-i; j++)\n",
    "        X[i,j] = 0;\n",
    "```"
   ]
  },
  {
   "cell_type": "markdown",
   "metadata": {},
   "source": [
    "```\n",
    "for (k = 2; k <= 37; k++)\n",
    "    for (j = k+1; j <= min(k + 29, (k + 39)/2); j++)\n",
    "        X[j-k,j] = 0;\n",
    "```"
   ]
  },
  {
   "cell_type": "markdown",
   "metadata": {},
   "source": [
    "### 11.3.8\n",
    "\n",
    "> Repeat Exercise 11.3.7 for the following changes of axes:\n",
    "\n",
    "> a) Replace $i$ by $i + j$."
   ]
  },
  {
   "cell_type": "markdown",
   "metadata": {},
   "source": [
    "```\n",
    "for (k = 4; k <= 39; k++)\n",
    "    for (j = max(k-29, (k+3)/2); j <= k-1; j++)\n",
    "        X[j-k,j] = 0;\n",
    "```"
   ]
  },
  {
   "cell_type": "markdown",
   "metadata": {},
   "source": [
    "> b) Replace $j$ by $i - 2j$."
   ]
  },
  {
   "cell_type": "markdown",
   "metadata": {},
   "source": [
    "```\n",
    "for (k = -75; k <= -5; k++)\n",
    "    for (i = 2-k%2; i <= min(29, -k-4, (78+k)/3); i += 2)\n",
    "        X[i,(i-k)/2] = 0;\n",
    "```"
   ]
  },
  {
   "cell_type": "markdown",
   "metadata": {},
   "source": [
    "### 11.3.9\n",
    "\n",
    "> Let $A$, $B$ and $C$ be integer constants in the following loop, with $C>1$ and $B>A$:\n",
    "\n",
    "> ```\n",
    "for (i = A; i <= B; i = i + C)\n",
    "    Z[i] = 0\n",
    "```\n",
    "\n",
    "> Rewrite the loop so that the incrementation of the loop variable is 1 and the initialization is to 0, that is, to be of the form\n",
    "\n",
    "> ```\n",
    "for (j = 0; j <= D; j++)\n",
    "    Z[E*j + F] = 0\n",
    "```\n",
    "\n",
    "> for integers $D$, $E$, and $F$. Express $D$, $E$, and $F$ in terms of $A$, $B$ and $C$."
   ]
  },
  {
   "cell_type": "markdown",
   "metadata": {},
   "source": [
    "* $D = \\left \\lfloor \\frac{B - A}{C} \\right \\rfloor$\n",
    "* $E = C$\n",
    "* $F = A$"
   ]
  },
  {
   "cell_type": "markdown",
   "metadata": {},
   "source": [
    "### 11.3.10\n",
    "\n",
    "> For a generic two-loop nest\n",
    "\n",
    "> ```\n",
    "for (i = 0; i <= A; i++)\n",
    "    for (j = B*i+C; j <= D*i+E; j++)\n",
    "```\n",
    "\n",
    "> with $A$ through $E$ integer constants, write the constraints that define the loop nest's iteration space in matrix-vector form, i.e., in the form $\\mathbf{Bi} + \\mathbf{b} = \\mathbf{0}$."
   ]
  },
  {
   "cell_type": "markdown",
   "metadata": {},
   "source": [
    "$$\n",
    "\\left [\n",
    "\\begin{matrix}\n",
    " 1 &  0 \\\\\n",
    "-1 &  0 \\\\\n",
    "-B &  1 \\\\\n",
    " D & -1 \\\\\n",
    "\\end{matrix}\n",
    "\\right ]\n",
    "\\left [\n",
    "\\begin{matrix}\n",
    "i \\\\\n",
    "j \\\\\n",
    "\\end{matrix}\n",
    "\\right ]\n",
    "+\n",
    "\\left [\n",
    "\\begin{matrix}\n",
    "0 \\\\\n",
    "A \\\\\n",
    "-C \\\\\n",
    "E \\\\\n",
    "\\end{matrix}\n",
    "\\right ]\n",
    "\\ge\n",
    "\\left [\n",
    "\\begin{matrix}\n",
    "0 \\\\\n",
    "0 \\\\\n",
    "0 \\\\\n",
    "0 \\\\\n",
    "\\end{matrix}\n",
    "\\right ]\n",
    "$$"
   ]
  },
  {
   "cell_type": "markdown",
   "metadata": {},
   "source": [
    "### 11.3.11\n",
    "\n",
    "> Repeat Exercise 11.3.10 for a generic two-loop nest with symbolic integer constants $m$ and $n$ as in\n",
    "\n",
    "> ```\n",
    "for (i = 0; i <= m; i++)\n",
    "    for (j = A*i+B; j <= C*i+n; j++)\n",
    "```"
   ]
  },
  {
   "cell_type": "markdown",
   "metadata": {},
   "source": [
    "$$\n",
    "\\left [\n",
    "\\begin{matrix}\n",
    " 1 &  0 & 0 & 0 \\\\\n",
    "-1 &  0 & 1 & 0 \\\\\n",
    "-A &  1 & 0 & 0 \\\\\n",
    " C & -1 & 0 & 1 \\\\\n",
    "\\end{matrix}\n",
    "\\right ]\n",
    "\\left [\n",
    "\\begin{matrix}\n",
    "i \\\\\n",
    "j \\\\\n",
    "m \\\\\n",
    "n \\\\\n",
    "\\end{matrix}\n",
    "\\right ]\n",
    "+\n",
    "\\left [\n",
    "\\begin{matrix}\n",
    "0 \\\\\n",
    "0 \\\\\n",
    "-B \\\\\n",
    "0 \\\\\n",
    "\\end{matrix}\n",
    "\\right ]\n",
    "\\ge\n",
    "\\left [\n",
    "\\begin{matrix}\n",
    "0 \\\\\n",
    "0 \\\\\n",
    "0 \\\\\n",
    "0 \\\\\n",
    "\\end{matrix}\n",
    "\\right ]\n",
    "$$"
   ]
  }
 ],
 "metadata": {
  "kernelspec": {
   "display_name": "Python 2",
   "language": "python",
   "name": "python2"
  },
  "language_info": {
   "codemirror_mode": {
    "name": "ipython",
    "version": 2
   },
   "file_extension": ".py",
   "mimetype": "text/x-python",
   "name": "python",
   "nbconvert_exporter": "python",
   "pygments_lexer": "ipython2",
   "version": "2.7.12"
  }
 },
 "nbformat": 4,
 "nbformat_minor": 2
}
