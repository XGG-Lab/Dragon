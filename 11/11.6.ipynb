{
 "cells": [
  {
   "cell_type": "markdown",
   "metadata": {},
   "source": [
    "## 11.6 Array Data-Dependence Analysis"
   ]
  },
  {
   "cell_type": "markdown",
   "metadata": {},
   "source": [
    "### 11.6.1\n",
    "\n",
    "> Find the GCD's of the following sets of integers:\n",
    "\n",
    "> a) $\\{ 16, 24, 56 \\}$"
   ]
  },
  {
   "cell_type": "markdown",
   "metadata": {},
   "source": [
    "8"
   ]
  },
  {
   "cell_type": "markdown",
   "metadata": {},
   "source": [
    "> b) $\\{ -45, 105, 240 \\}$"
   ]
  },
  {
   "cell_type": "markdown",
   "metadata": {},
   "source": [
    "15"
   ]
  },
  {
   "cell_type": "markdown",
   "metadata": {},
   "source": [
    "> c) $\\{ 84, 105, 180, 315, 350 \\}$"
   ]
  },
  {
   "cell_type": "markdown",
   "metadata": {},
   "source": [
    "1"
   ]
  },
  {
   "cell_type": "markdown",
   "metadata": {},
   "source": [
    "### 11.6.7\n",
    "\n",
    "> Apply the loop-residue test to the following set of constraints:\n",
    "\n",
    "> $$\n",
    "\\begin{array}{ll}\n",
    "0 \\le x \\le 99 & y \\le x - 50 \\\\\n",
    "0 \\le y \\le 99 & z \\le y - 60 \\\\\n",
    "0 \\le z \\le 99 & \\\\\n",
    "\\end{array}\n",
    "$$"
   ]
  },
  {
   "cell_type": "markdown",
   "metadata": {},
   "source": [
    "$z \\le y - 60 \\le x - 110 \\le v_0 - 11 \\le z - 11$"
   ]
  },
  {
   "cell_type": "markdown",
   "metadata": {},
   "source": [
    "### 11.6.8\n",
    "\n",
    "> Apply the loop-residue test to the following set of constraints:\n",
    "\n",
    "> $$\n",
    "\\begin{array}{ll}\n",
    "0 \\le x \\le 99 & y \\le x - 50 \\\\\n",
    "0 \\le y \\le 99 & z \\le y + 40 \\\\\n",
    "0 \\le z \\le 99 & x \\le z + 20 \\\\\n",
    "\\end{array}\n",
    "$$"
   ]
  },
  {
   "cell_type": "markdown",
   "metadata": {},
   "source": [
    "No negative weight."
   ]
  },
  {
   "cell_type": "markdown",
   "metadata": {},
   "source": [
    "### 11.6.9\n",
    "\n",
    "> Apply the loop-residue test to the following set of constraints:\n",
    "\n",
    "> $$\n",
    "\\begin{array}{ll}\n",
    "0 \\le x \\le 99 & y \\le x - 100 \\\\\n",
    "0 \\le y \\le 99 & z \\le y + 60 \\\\\n",
    "0 \\le z \\le 99 & x \\le z + 50 \\\\\n",
    "\\end{array}\n",
    "$$"
   ]
  },
  {
   "cell_type": "markdown",
   "metadata": {},
   "source": [
    "$y \\le x - 100 \\le v_0 - 1 \\le y - 1$"
   ]
  }
 ],
 "metadata": {
  "kernelspec": {
   "display_name": "Python 2",
   "language": "python",
   "name": "python2"
  },
  "language_info": {
   "codemirror_mode": {
    "name": "ipython",
    "version": 2
   },
   "file_extension": ".py",
   "mimetype": "text/x-python",
   "name": "python",
   "nbconvert_exporter": "python",
   "pygments_lexer": "ipython2",
   "version": "2.7.12"
  }
 },
 "nbformat": 4,
 "nbformat_minor": 2
}
