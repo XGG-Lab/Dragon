{
 "cells": [
  {
   "cell_type": "markdown",
   "metadata": {},
   "source": [
    "## 8.2 The Target Language"
   ]
  },
  {
   "cell_type": "markdown",
   "metadata": {},
   "source": [
    "### 8.2.1\n",
    "\n",
    "> Generate code for the following three-address statements assuming all variables are stored in memory locations.\n",
    "\n",
    "> a) `x = 1`"
   ]
  },
  {
   "cell_type": "markdown",
   "metadata": {},
   "source": [
    "```\n",
    "LD R1, #1\n",
    "ST x, R1\n",
    "```"
   ]
  },
  {
   "cell_type": "markdown",
   "metadata": {},
   "source": [
    "> b) `x = a`"
   ]
  },
  {
   "cell_type": "markdown",
   "metadata": {},
   "source": [
    "```\n",
    "LD R1, a\n",
    "ST x, R1\n",
    "```"
   ]
  },
  {
   "cell_type": "markdown",
   "metadata": {},
   "source": [
    "> c) `x = a + 1`"
   ]
  },
  {
   "cell_type": "markdown",
   "metadata": {},
   "source": [
    "```\n",
    "LD  R1, a\n",
    "ADD R1, R1, #1\n",
    "ST  x, R1\n",
    "```"
   ]
  },
  {
   "cell_type": "markdown",
   "metadata": {},
   "source": [
    "> d) `x = a + b`"
   ]
  },
  {
   "cell_type": "markdown",
   "metadata": {},
   "source": [
    "```\n",
    "LD  R1, a\n",
    "LD  R2, b\n",
    "ADD R1, R1, R2\n",
    "ST  x, R1\n",
    "```"
   ]
  },
  {
   "cell_type": "markdown",
   "metadata": {},
   "source": [
    "> e) The two statements\n",
    "\n",
    "> ```\n",
    "x = b * c\n",
    "y = a + x\n",
    "```"
   ]
  },
  {
   "cell_type": "markdown",
   "metadata": {},
   "source": [
    "```\n",
    "LD  R1, b\n",
    "LD  R2, c\n",
    "MUL R2, R1, R2\n",
    "LD  R1, a\n",
    "ADD R1, R1, R2\n",
    "ST  y, R1\n",
    "```"
   ]
  },
  {
   "cell_type": "markdown",
   "metadata": {},
   "source": [
    "### 8.2.2\n",
    "\n",
    "> Generate code for the following three-address statements assuming `a` and `b` are arrays whose elements are 4-byte values.\n",
    "\n",
    "> a) The four-statement sequence\n",
    "\n",
    "> ```\n",
    "x = a[i]\n",
    "y = b[j]\n",
    "a[i] = y\n",
    "b[j] = x\n",
    "```"
   ]
  },
  {
   "cell_type": "markdown",
   "metadata": {},
   "source": [
    "```\n",
    "LD  R1, i\n",
    "MUL R1, R1, #4\n",
    "LD  R2, a(R1)\n",
    "LD  R3, j\n",
    "MUL R3, R3, #4\n",
    "LD  R4, b(R3)\n",
    "ST  a(R1), R4\n",
    "ST  b(R3), R2\n",
    "```"
   ]
  },
  {
   "cell_type": "markdown",
   "metadata": {},
   "source": [
    "> b) The three-statement sequence\n",
    "\n",
    "> ```\n",
    "x = a[i]\n",
    "y = b[i]\n",
    "z = x * y\n",
    "```"
   ]
  },
  {
   "cell_type": "markdown",
   "metadata": {},
   "source": [
    "```\n",
    "LD  R1, i\n",
    "MUL R1, R1, #4\n",
    "LD  R2, a(R1)\n",
    "LD  R1, a(R2)\n",
    "MUL R1, R2, R1\n",
    "ST  z, R1\n",
    "```"
   ]
  },
  {
   "cell_type": "markdown",
   "metadata": {},
   "source": [
    "> c) The three-statement sequence\n",
    "\n",
    "> ```\n",
    "x = a[i]\n",
    "y = b[x]\n",
    "a[i] = y\n",
    "```"
   ]
  },
  {
   "cell_type": "markdown",
   "metadata": {},
   "source": [
    "```\n",
    "LD  R1, i\n",
    "MUL R1, R1, #4\n",
    "LD  R2, a(R1)\n",
    "MUL R2, R2, #4\n",
    "LD  R2, b(R2)\n",
    "ST  a(R1), R2\n",
    "```"
   ]
  },
  {
   "cell_type": "markdown",
   "metadata": {},
   "source": [
    "### 8.2.3\n",
    "\n",
    "> Generate code for the following three-address sequence assuming that `p` and `q` are in memory locations:\n",
    "\n",
    "> ```\n",
    "y = *q\n",
    "q = q + 4\n",
    "*p = y\n",
    "p = p + 4\n",
    "```"
   ]
  },
  {
   "cell_type": "markdown",
   "metadata": {},
   "source": [
    "```\n",
    "LD  R1, q\n",
    "LD  R2, 0(R1)\n",
    "ADD R1, R1, #4\n",
    "LD  R3, p\n",
    "LD  R4, 0(R3)\n",
    "ADD R3, R3, #4\n",
    "```"
   ]
  },
  {
   "cell_type": "markdown",
   "metadata": {},
   "source": [
    "### 8.2.4\n",
    "\n",
    "> Generate code for the following sequence assuming that `x`, `y`, and `z` are in memory locations:\n",
    "\n",
    "> ```\n",
    "    if x < y goto L1\n",
    "    z = 0\n",
    "    goto L2\n",
    "L1: z = 1\n",
    "```"
   ]
  },
  {
   "cell_type": "markdown",
   "metadata": {},
   "source": [
    "```\n",
    "    LD   R1, x\n",
    "    LD   R2, y\n",
    "    SUB  R1, R1, R2\n",
    "    BLTZ R1, L1\n",
    "    LD   R1, #0\n",
    "    ST   z, R1\n",
    "    BR   L2\n",
    "L1: LD   R1, #1\n",
    "    ST   z, R1\n",
    "```"
   ]
  },
  {
   "cell_type": "markdown",
   "metadata": {},
   "source": [
    "### 8.2.5\n",
    "\n",
    "> Generate code for the following sequence assuming that `n` is in a memory location:\n",
    "\n",
    "> ```\n",
    "    s = 0\n",
    "    i = 0\n",
    "L1: if i > n goto L2\n",
    "    s = s + i\n",
    "    i = i + 1\n",
    "    goto L1\n",
    "L2:\n",
    "```"
   ]
  },
  {
   "cell_type": "markdown",
   "metadata": {},
   "source": [
    "```\n",
    "    LD   R1, #0\n",
    "    ST   s, R1\n",
    "    ST   i, R1\n",
    "L1: LD   R1, i\n",
    "    LD   R2, n\n",
    "    SUB  R2, R1, R2\n",
    "    LGTZ R2, L2\n",
    "    LD   R2, s\n",
    "    ADD  R2, R2, R1\n",
    "    ST   s, R2\n",
    "    ADD  R1, R1, #1\n",
    "    ST   i, R1\n",
    "    BR   L1\n",
    "L2:\n",
    "```"
   ]
  },
  {
   "cell_type": "markdown",
   "metadata": {},
   "source": [
    "### 8.2.6\n",
    "\n",
    "> Determine the costs of the following instruction sequences:\n",
    "\n",
    "> a)\n",
    "> ```\n",
    "LD  R0, y\n",
    "LD  R1, z\n",
    "ADD R0, R0, R1\n",
    "ST  x, R0\n",
    "```"
   ]
  },
  {
   "cell_type": "markdown",
   "metadata": {},
   "source": [
    "$2 + 2 + 1 + 2 = 7$"
   ]
  },
  {
   "cell_type": "markdown",
   "metadata": {},
   "source": [
    "> b)\n",
    "> ```\n",
    "LD  R0, i\n",
    "MUL R0, R0, 8\n",
    "LD  R1, a(R0)\n",
    "ST  b, R1\n",
    "```"
   ]
  },
  {
   "cell_type": "markdown",
   "metadata": {},
   "source": [
    "$2 + 1 + 2 + 2 = 7$"
   ]
  },
  {
   "cell_type": "markdown",
   "metadata": {},
   "source": [
    "> c)\n",
    "> ```\n",
    "LD  R0, c\n",
    "LD  R1, i\n",
    "MUL R1, R1, 8\n",
    "ST  a(R1), R0\n",
    "```"
   ]
  },
  {
   "cell_type": "markdown",
   "metadata": {},
   "source": [
    "$2 + 2 + 1 + 2 = 7$"
   ]
  },
  {
   "cell_type": "markdown",
   "metadata": {},
   "source": [
    "> d)\n",
    "> ```\n",
    "LD R0, p\n",
    "LD R1, 0(R0)\n",
    "ST x, R1\n",
    "```"
   ]
  },
  {
   "cell_type": "markdown",
   "metadata": {},
   "source": [
    "$2 + 2 + 2 = 6$"
   ]
  },
  {
   "cell_type": "markdown",
   "metadata": {},
   "source": [
    "> e)\n",
    "> ```\n",
    "LD R0, p\n",
    "LD R1, x\n",
    "ST 0(R0), R1\n",
    "```"
   ]
  },
  {
   "cell_type": "markdown",
   "metadata": {},
   "source": [
    "$2 + 2 + 2 = 6$"
   ]
  },
  {
   "cell_type": "markdown",
   "metadata": {},
   "source": [
    "> f)\n",
    "> ```\n",
    "LD   R0, x\n",
    "LD   R1, y\n",
    "SUB  R0, R0, R1\n",
    "BLTZ *R3, R0\n",
    "```"
   ]
  },
  {
   "cell_type": "markdown",
   "metadata": {},
   "source": [
    "$2 + 2 + 1 + 2 = 7$"
   ]
  }
 ],
 "metadata": {
  "kernelspec": {
   "display_name": "Python 2",
   "language": "python",
   "name": "python2"
  },
  "language_info": {
   "codemirror_mode": {
    "name": "ipython",
    "version": 2
   },
   "file_extension": ".py",
   "mimetype": "text/x-python",
   "name": "python",
   "nbconvert_exporter": "python",
   "pygments_lexer": "ipython2",
   "version": "2.7.12"
  }
 },
 "nbformat": 4,
 "nbformat_minor": 2
}
