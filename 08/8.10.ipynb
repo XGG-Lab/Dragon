{
 "cells": [
  {
   "cell_type": "markdown",
   "metadata": {},
   "source": [
    "## 8.10 Optimal Code Generation for Expressions"
   ]
  },
  {
   "cell_type": "markdown",
   "metadata": {},
   "source": [
    "### 8.10.1\n",
    "\n",
    "> Compute Ershov numbers for the following expressions:\n",
    "\n",
    "> a) `a/(b+c)-d*(e+f)`."
   ]
  },
  {
   "cell_type": "markdown",
   "metadata": {},
   "source": [
    "```\n",
    "                    +-----+\n",
    "                    |  t5 | 3\n",
    "                    +-+-+-+\n",
    "                      | |\n",
    "          +-----------+ +----------+\n",
    "          |                        |\n",
    "       +--v--+                  +--v--+\n",
    "       |  t2 | 2                |  t4 | 2\n",
    "       +-+-+-+                  +-+-+-+\n",
    "         | |                      | |\n",
    "     +---+ +---+              +---+ +---+\n",
    "     |         |              |         |\n",
    "  +--v--+   +--v--+        +--v--+   +--v--+\n",
    "1 |  a  |   |  t1 | 2    1 |  d  |   |  t3 | 2\n",
    "  +-----+   +-+-+-+        +-----+   +-+-+-+\n",
    "              | |                      | |\n",
    "          +---+ +---+              +---+ +---+\n",
    "          |         |              |         |\n",
    "       +--v--+   +--v--+        +--v--+   +--v--+\n",
    "     1 |  b  |   |  c  | 1    1 |  e  |   |  f  | 1\n",
    "       +-----+   +-----+        +-----+   +-----+\n",
    "```"
   ]
  },
  {
   "cell_type": "markdown",
   "metadata": {},
   "source": [
    "> b) `a+b*(c*(d+e))`."
   ]
  },
  {
   "cell_type": "markdown",
   "metadata": {},
   "source": [
    "```\n",
    "       +-----+\n",
    "       |  t4 | 2\n",
    "       +-+-+-+\n",
    "         | |\n",
    "     +---+ +---+\n",
    "     |         |\n",
    "  +--v--+   +--v--+\n",
    "1 |  a  |   |  t3 | 2\n",
    "  +-----+   +-+-+-+\n",
    "              | |\n",
    "          +---+ +---+\n",
    "          |         |\n",
    "       +--v--+   +--v--+\n",
    "     1 |  b  |   |  t3 | 2\n",
    "       +-----+   +-+-+-+\n",
    "                   | |\n",
    "               +---+ +---+\n",
    "               |         |\n",
    "            +--v--+   +--v--+\n",
    "          1 |  c  |   |  t1 | 2\n",
    "            +-----+   +-+-+-+\n",
    "                        | |\n",
    "                    +---+ +---+\n",
    "                    |         |\n",
    "                 +--v--+   +--v--+\n",
    "               1 |  d  |   |  e  | 1\n",
    "                 +-----+   +-----+\n",
    "```"
   ]
  },
  {
   "cell_type": "markdown",
   "metadata": {},
   "source": [
    "> c) `(-a+*p)*((b-*q)/(-c+*r))`."
   ]
  },
  {
   "cell_type": "markdown",
   "metadata": {},
   "source": [
    "```\n",
    "                      +-----+\n",
    "                    3 | t10 |\n",
    "                      +-+-+-+\n",
    "                        | |\n",
    "          +-------------+ +-------------+\n",
    "          |                             |\n",
    "       +--v--+                       +--v--+\n",
    "     2 |  t3 |                       |  t9 | 3\n",
    "       +-+-+-+                       +-+-+-+\n",
    "         | |                           | |\n",
    "     +---+ +---+              +--------+ +--------+\n",
    "     |         |              |                   |\n",
    "  +--v--+   +--v--+        +--v--+             +--v--+\n",
    "1 |  t1 |   |  t2 | 1    2 |  t5 |             |  t8 | 2\n",
    "  +--+--+   +--+--+        +-+-+-+             +-+-+-+\n",
    "     |         |             | |                 | |\n",
    "     |         |         +---+ +---+         +---+ +---+\n",
    "     |         |         |         |         |         |\n",
    "  +--v--+   +--v--+   +--v--+   +--v--+   +--v--+   +--v--+\n",
    "1 |  a  | 1 |  p  | 1 |  c  | 1 |  t4 | 1 |  t6 |   |  t7 | 1\n",
    "  +-----+   +-----+   +-----+   +--+--+   +--+--+   +--+--+\n",
    "                                   |         |         |\n",
    "                                   |         |         |\n",
    "                                   |         |         |\n",
    "                                +--v--+   +--v--+   +--v--+\n",
    "                              1 |  q  | 1 |  c  |   |  r  | 1\n",
    "                                +-----+   +-----+   +-----+\n",
    "```"
   ]
  },
  {
   "cell_type": "markdown",
   "metadata": {},
   "source": [
    "### 8.10.2\n",
    "\n",
    "> Generate optimal code using two registers for each of the expressions of Exercise 8.10.1.\n",
    "\n",
    "> a) `a/(b+c)-d*(e+f)`."
   ]
  },
  {
   "cell_type": "markdown",
   "metadata": {},
   "source": [
    "```\n",
    "LD  R2, f\n",
    "LD  R1, e\n",
    "ADD R2, R1, R2\n",
    "LD  R1, d\n",
    "MUL R2, R1, R2\n",
    "ST  t4, R2\n",
    "LD  R2, c\n",
    "LD  R1, b\n",
    "ADD R2, R1, R2\n",
    "LD  R1, a\n",
    "DIV R2, R1, R2\n",
    "LD  R1, t4\n",
    "SUB R2, R2, R1\n",
    "```"
   ]
  },
  {
   "cell_type": "markdown",
   "metadata": {},
   "source": [
    "> b) `a+b*(c*(d+e))`."
   ]
  },
  {
   "cell_type": "markdown",
   "metadata": {},
   "source": [
    "```\n",
    "LD  R2, e\n",
    "LD  R1, d\n",
    "MUL R2, R1, R2\n",
    "LD  R1, c\n",
    "MUL R2, R1, R2\n",
    "LD  R1, b\n",
    "MUL R2, R1, R2\n",
    "LD  R1, a\n",
    "ADD R2, R1, R2\n",
    "```"
   ]
  },
  {
   "cell_type": "markdown",
   "metadata": {},
   "source": [
    "> c) `(-a+*p)*((b-*q)/(-c+*r))`."
   ]
  },
  {
   "cell_type": "markdown",
   "metadata": {},
   "source": [
    "```\n",
    "LD  R2, r\n",
    "ST  R2, *R2\n",
    "LD  R1, c\n",
    "SUB R1, #0, R1\n",
    "ADD R2, R1, R2\n",
    "ST  t8, R2\n",
    "LD  R2, q\n",
    "ST  R2, *R2\n",
    "LD  R1, b\n",
    "SUB R2, R1, R2\n",
    "LD  R1, t8\n",
    "DIV R2, R2, R1\n",
    "ST  t9, R2\n",
    "LD  R1, p\n",
    "ST  R1, *R1\n",
    "LD  R0, a\n",
    "SUB R0, #0, R0\n",
    "ADD R1, R0, R1\n",
    "LD  R1, t9\n",
    "MUL R2, R2, R1\n",
    "```"
   ]
  },
  {
   "cell_type": "markdown",
   "metadata": {},
   "source": [
    "### 8.10.3\n",
    "\n",
    "> Generate optimal code using three registers for each of the expressions of Exercise 8.10.1.\n",
    "\n",
    "> a) `a/(b+c)-d*(e+f)`."
   ]
  },
  {
   "cell_type": "markdown",
   "metadata": {},
   "source": [
    "```\n",
    "LD  R3, f\n",
    "LD  R2, e\n",
    "ADD R3, R2, R3\n",
    "LD  R2, d\n",
    "MUL R3, R2, R3\n",
    "LD  R2, c\n",
    "LD  R1, b\n",
    "ADD R2, R1, R2\n",
    "LD  R1, a\n",
    "DIV R2, R1, R2\n",
    "SUB R3, R2, R3\n",
    "```"
   ]
  },
  {
   "cell_type": "markdown",
   "metadata": {},
   "source": [
    "> b) `a+b*(c*(d+e))`."
   ]
  },
  {
   "cell_type": "markdown",
   "metadata": {},
   "source": [
    "```\n",
    "LD  R2, e\n",
    "LD  R1, d\n",
    "MUL R2, R1, R2\n",
    "LD  R1, c\n",
    "MUL R2, R1, R2\n",
    "LD  R1, b\n",
    "MUL R2, R1, R2\n",
    "LD  R1, a\n",
    "ADD R2, R1, R2\n",
    "```"
   ]
  },
  {
   "cell_type": "markdown",
   "metadata": {},
   "source": [
    "> c) `(-a+*p)*((b-*q)/(-c+*r))`."
   ]
  },
  {
   "cell_type": "markdown",
   "metadata": {},
   "source": [
    "```\n",
    "LD  R3, r\n",
    "ST  R3, *R3\n",
    "LD  R2, c\n",
    "SUB R2, #0, R2\n",
    "ADD R3, R2, R3\n",
    "LD  R2, q\n",
    "ST  R2, *R2\n",
    "LD  R1, b\n",
    "SUB R2, R1, R2\n",
    "DIV R3, R2, R3\n",
    "LD  R2, p\n",
    "ST  R2, *R2\n",
    "LD  R1, a\n",
    "SUB R1, #0, R1\n",
    "ADD R2, R1, R2\n",
    "MUL R3, R2, R3\n",
    "```"
   ]
  },
  {
   "cell_type": "markdown",
   "metadata": {},
   "source": [
    "### 8.10.4\n",
    "\n",
    "> Generalize the computation of Ershov numbers to expression trees with interior nodes with three or more children."
   ]
  },
  {
   "cell_type": "markdown",
   "metadata": {},
   "source": [
    "The node with $n$ children has the Ershov number that is the smallest Ershov number is its children plus $n - 1$."
   ]
  },
  {
   "cell_type": "markdown",
   "metadata": {},
   "source": [
    "### 8.10.5\n",
    "\n",
    "> An assignment to an array element, such as `a[i] = x`, appears to be an operator with three operands: `a`, `i`, and `x`. How would you modify the tree-labeling scheme to generate optimal code for this machine model?"
   ]
  },
  {
   "cell_type": "markdown",
   "metadata": {},
   "source": [
    "ST $R_{r-1}$, $R_{r-3}$($R_{r-2}$), $R_{r-1}$"
   ]
  },
  {
   "cell_type": "markdown",
   "metadata": {},
   "source": [
    "### 8.10.6\n",
    "\n",
    "> The original Ershov numbers were used for a machine that allowed the right operand of an expression to be in memory, rather than a register. How would you modify the tree-labeling scheme to generate optimal code for this machine model?"
   ]
  },
  {
   "cell_type": "markdown",
   "metadata": {},
   "source": [
    "### 8.10.7\n",
    "\n",
    "> Some machines require two registers for certain single-precision values. Suppose that the result of a multiplication of single-register quantities requires two consecutive registers, and when we divide `a/b`, the value of a must be held in two consecutive registers. How would you modify the tree labeling scheme to generate optimal code for this machine model?"
   ]
  },
  {
   "cell_type": "markdown",
   "metadata": {},
   "source": [
    "OP $R_{r-2}$, $R_{r-4}$, $R_{r-2}$"
   ]
  }
 ],
 "metadata": {
  "kernelspec": {
   "display_name": "Python 2",
   "language": "python",
   "name": "python2"
  },
  "language_info": {
   "codemirror_mode": {
    "name": "ipython",
    "version": 2
   },
   "file_extension": ".py",
   "mimetype": "text/x-python",
   "name": "python",
   "nbconvert_exporter": "python",
   "pygments_lexer": "ipython2",
   "version": "2.7.12"
  }
 },
 "nbformat": 4,
 "nbformat_minor": 2
}
