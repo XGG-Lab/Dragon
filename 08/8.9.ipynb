{
 "cells": [
  {
   "cell_type": "markdown",
   "metadata": {},
   "source": [
    "## 8.9 Instruction Selection by Tree Rewriting"
   ]
  },
  {
   "cell_type": "markdown",
   "metadata": {},
   "source": [
    "### 8.9.1\n",
    "\n",
    "> Construct syntax trees for each of the following statements assuming all nonconstant operands are in memory locations:\n",
    "\n",
    "> a) `x = a * b + c * d`"
   ]
  },
  {
   "cell_type": "markdown",
   "metadata": {},
   "source": [
    "![](./img/8.9.1.a.png)\n",
    "\n",
    "```\n",
    "LD  R0, a\n",
    "LD  R1, b\n",
    "MUL R0, R0, R1\n",
    "LD  R2, C\n",
    "LD  R3, d\n",
    "MUL R2, R2, R3\n",
    "ADD R0, R0, R2\n",
    "ST  x, R0\n",
    "```"
   ]
  },
  {
   "cell_type": "markdown",
   "metadata": {},
   "source": [
    "> b) `x[i] = y[j] * z[k]`"
   ]
  },
  {
   "cell_type": "markdown",
   "metadata": {},
   "source": [
    "![](./img/8.9.1.b.png)\n",
    "\n",
    "```\n",
    "LD  R0, #x\n",
    "ADD R0, R0, SP\n",
    "LD  R1, i\n",
    "ADD R0, R0, R1\n",
    "LD  R1, #y\n",
    "ADD R1, R1, SP\n",
    "LD  R2, z\n",
    "ADD R1, R1, R2\n",
    "LD  R1, *R1\n",
    "LD  R2, #x\n",
    "ADD R2, R2, SP\n",
    "LD  R3, i\n",
    "ADD R2, R2, R3\n",
    "LD  R2, *R2\n",
    "MUL R1, R1, R2\n",
    "ST  *R0, R1\n",
    "```"
   ]
  },
  {
   "cell_type": "markdown",
   "metadata": {},
   "source": [
    "> c) `x = x + 1`"
   ]
  },
  {
   "cell_type": "markdown",
   "metadata": {},
   "source": [
    "![](./img/8.9.1.c.png)\n",
    "\n",
    "```\n",
    "LD  R0, x\n",
    "INC R0\n",
    "ST  x, R0\n",
    "```"
   ]
  },
  {
   "cell_type": "markdown",
   "metadata": {},
   "source": [
    "### 8.9.2\n",
    "\n",
    "> Repeat Exercise 8.9.1 above using the syntax-directed translation scheme in Fig. 8.21 in place of the tree-rewriting scheme.\n",
    "\n",
    "> a) `x = a * b + c * d`"
   ]
  },
  {
   "cell_type": "markdown",
   "metadata": {},
   "source": [
    "$= M_x + * M_a M_b * M_c M_d$"
   ]
  },
  {
   "cell_type": "markdown",
   "metadata": {},
   "source": [
    "> b) `x[i] = y[j] * z[k]`"
   ]
  },
  {
   "cell_type": "markdown",
   "metadata": {},
   "source": [
    "$= \\mathbf{ind} + + C_x R_{SP} M_i * \\mathbf{ind} + + C_y R_{SP} M_j \\mathbf{ind} + + C_z R_{SP} M_k$"
   ]
  },
  {
   "cell_type": "markdown",
   "metadata": {},
   "source": [
    "> c) `x = x + 1`"
   ]
  },
  {
   "cell_type": "markdown",
   "metadata": {},
   "source": [
    "$= M_x + M_x C_1$"
   ]
  },
  {
   "cell_type": "markdown",
   "metadata": {},
   "source": [
    "### 8.9.3\n",
    "\n",
    "> Extend the tree-rewriting scheme in Fig. 8.20 to apply to while-statements."
   ]
  },
  {
   "cell_type": "markdown",
   "metadata": {},
   "source": [
    "* ifFalse Ri goto next\n",
    "* generate code for subtree\n",
    "* goto while"
   ]
  },
  {
   "cell_type": "markdown",
   "metadata": {},
   "source": [
    "### 8.9.4\n",
    "\n",
    "> How would you extend tree rewriting to apply to DAG's?"
   ]
  },
  {
   "cell_type": "markdown",
   "metadata": {},
   "source": [
    "* Keep the tree node after reduction if it has more than one reference to it.\n",
    "* Reuse the register if the register is currently contains the operand nodes."
   ]
  }
 ],
 "metadata": {
  "kernelspec": {
   "display_name": "Python 2",
   "language": "python",
   "name": "python2"
  },
  "language_info": {
   "codemirror_mode": {
    "name": "ipython",
    "version": 2
   },
   "file_extension": ".py",
   "mimetype": "text/x-python",
   "name": "python",
   "nbconvert_exporter": "python",
   "pygments_lexer": "ipython2",
   "version": "2.7.12"
  }
 },
 "nbformat": 4,
 "nbformat_minor": 2
}
