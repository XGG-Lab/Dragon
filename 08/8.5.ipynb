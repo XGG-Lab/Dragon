{
 "cells": [
  {
   "cell_type": "markdown",
   "metadata": {},
   "source": [
    "## 8.5 Optimization of Basic Blocks"
   ]
  },
  {
   "cell_type": "markdown",
   "metadata": {},
   "source": [
    "### 8.5.1\n",
    "\n",
    "> Construct the DAG for the basic block\n",
    "\n",
    "> ```\n",
    "d = b * c\n",
    "e = a + b\n",
    "b = b * c\n",
    "a = e - d\n",
    "```"
   ]
  },
  {
   "cell_type": "markdown",
   "metadata": {},
   "source": [
    "```\n",
    "          +--+--+\n",
    "          |  -  |  a\n",
    "          +-+++-+\n",
    "            | |\n",
    "        +---+ +---+\n",
    "        |         |\n",
    "     +--v--+   +--v--+\n",
    "  e  |  +  |   |  *  |  d,b\n",
    "     +-+++-+   +-+-+-+\n",
    "       | |       | |\n",
    "   +---+ +--+ +--+ +---+\n",
    "   |        | |        |\n",
    "   v        v v        v\n",
    "   a0        b0        c   \n",
    "```"
   ]
  },
  {
   "cell_type": "markdown",
   "metadata": {},
   "source": [
    "### 8.5.2\n",
    "\n",
    "> Simplify the three-address code of Exercise 8.5.1, assuming\n",
    "\n",
    "> a) Only $a$ is live on exit from the block."
   ]
  },
  {
   "cell_type": "markdown",
   "metadata": {},
   "source": [
    "```\n",
    "d = b * c\n",
    "e = a + b\n",
    "a = e - d\n",
    "```"
   ]
  },
  {
   "cell_type": "markdown",
   "metadata": {},
   "source": [
    "> b) $a$, $b$, and $c$ are live on exit from the block."
   ]
  },
  {
   "cell_type": "markdown",
   "metadata": {},
   "source": [
    "```\n",
    "e = a + b\n",
    "b = b * c\n",
    "a = e - b\n",
    "```"
   ]
  },
  {
   "cell_type": "markdown",
   "metadata": {},
   "source": [
    "### 8.5.3\n",
    "\n",
    "> Construct the DAG for the code in block $B_6$ of Fig. 8.9. Do not forget to include the comparison $i \\le 10$."
   ]
  },
  {
   "cell_type": "markdown",
   "metadata": {},
   "source": [
    "```\n",
    "        +-----+\n",
    "        | []= | a[t0]\n",
    "        ++-+-++\n",
    "         | | |\n",
    "+--------+ | +-------+\n",
    "|          |         |\n",
    "v       +--v--+      v       +-----+\n",
    "a    t6 |  *  |     1.0      |  <= |\n",
    "        +-+-+-+              +-+-+-+\n",
    "          | |                  | |\n",
    "   +------+ +--+           +---+ +---+\n",
    "   |           |           |         |\n",
    "   v        +-----+     +-----+      v\n",
    "   88    t5 |  -  |   i |  +  |      10\n",
    "            +-+++-+     +-++-++\n",
    "              | |         |  |\n",
    "        +-----------------+  |\n",
    "        |     | |            |\n",
    "        +-----+ +----+-------+\n",
    "        v            v\n",
    "        i0           1\n",
    "\n",
    "```"
   ]
  },
  {
   "cell_type": "markdown",
   "metadata": {},
   "source": [
    "### 8.5.4\n",
    "\n",
    "> Construct the DAG for the code in block $B_3$ of Fig. 8.9."
   ]
  },
  {
   "cell_type": "markdown",
   "metadata": {},
   "source": [
    "```\n",
    "         +-----+\n",
    "         | []= | a[t4]\n",
    "         ++-+-++\n",
    "          | | |\n",
    " +--------+ | +--------+\n",
    " |          |          |\n",
    " v       +--v--+       v\n",
    " a0   t4 |  -  |      0.0\n",
    "         +-+-+-+\n",
    "           | |\n",
    "       +---+ +---+\n",
    "       |         |\n",
    "    +--v--+      v       +-----+\n",
    " t3 |  *  |      88      | <=  |\n",
    "    +-+-+-+              +---+-+\n",
    "      | |                  | |\n",
    "+-----+ +---+          +---+ +---+\n",
    "|           |          |         |\n",
    "v        +--v--+    +--v--+      v\n",
    "8     t2 |  +  |  j |  +  |      10\n",
    "         +-+-+-+    +-+-+-+\n",
    "           | |        | |\n",
    "       +---+ +--------+ +---+\n",
    "       |         ||         |\n",
    "    +--v--+      vv         v\n",
    " t1 |  *  |      j0         1\n",
    "    +-+-+-+\n",
    "      | |\n",
    "+-----+ +---+\n",
    "v           v\n",
    "10          i\n",
    "```"
   ]
  },
  {
   "cell_type": "markdown",
   "metadata": {},
   "source": []
  },
  {
   "cell_type": "markdown",
   "metadata": {},
   "source": [
    "### 8.5.5\n",
    "\n",
    "> Extend Algorithm 8.7 to process three-statements of the form\n",
    "\n",
    "> a) `a[i] = b`\n",
    "\n",
    "> b) `a = b[i]`\n",
    "\n",
    "> c) `a = *b`\n",
    "\n",
    "> d) `*a = b`"
   ]
  },
  {
   "cell_type": "markdown",
   "metadata": {},
   "source": [
    "1. ...\n",
    "2. set $a$ to \"not live\" and \"no next use\".\n",
    "3. set $b$ (and $i$) to \"live\" and the next uses of $b$ (and $i$) to statement"
   ]
  },
  {
   "cell_type": "markdown",
   "metadata": {},
   "source": [
    "### 8.5.6\n",
    "\n",
    "> Construct the DAG for the basic block\n",
    "\n",
    "> ```\n",
    "a[i] = b\n",
    "*p = c\n",
    "d = a[j]\n",
    "e = *p\n",
    "*p = a[i]\n",
    "```\n",
    "\n",
    "> on the assumption that\n",
    "\n",
    "> a) `p` can point anywhere."
   ]
  },
  {
   "cell_type": "markdown",
   "metadata": {},
   "source": [
    "Calculate `a[i]` twice."
   ]
  },
  {
   "cell_type": "markdown",
   "metadata": {},
   "source": [
    "> b) `p` can point only to `b` or `d`."
   ]
  },
  {
   "cell_type": "markdown",
   "metadata": {},
   "source": [
    "```\n",
    "          +-----+                                 +-----+\n",
    "          | *=  | *p                            e | =*  |\n",
    "          +--+--+                                 +--+--+\n",
    "             |                                       |\n",
    "             |                                       |\n",
    "             |                                       |\n",
    "          +--v--+             +-----+             +--v--+\n",
    "     a[i] | []= |           d | []= |         *p0 | *=  |\n",
    "          ++-+-++             ++-+-++             +--+--+\n",
    "           | | |               | | |                 |\n",
    "           | | |               | | |                 |\n",
    "           | | |               | | |                 |\n",
    "           | | |               | | |                 |\n",
    "        +------------------------+ |                 |\n",
    "        |  | | |               |   |                 |\n",
    "+------------------------------+   |                 |\n",
    "|       |  | | |                   |                 |\n",
    "|       |  | | +------------------------+            |\n",
    "|       |  | |                     |    |            |\n",
    "|       <--+ +------+         +----+    |            |\n",
    "v       v           v         v         v            v\n",
    "d       a           i         j         b            c\n",
    "```"
   ]
  },
  {
   "cell_type": "markdown",
   "metadata": {},
   "source": [
    "### 8.5.7\n",
    "\n",
    "> Revise the DAG-construction algorithm to take advantage of such situations, and apply your algorithm to the code of Exercise 8.5.6."
   ]
  },
  {
   "cell_type": "markdown",
   "metadata": {},
   "source": [
    "```\n",
    "a[i] = b\n",
    "d = a[j]\n",
    "e = c\n",
    "*p = b\n",
    "```"
   ]
  },
  {
   "cell_type": "markdown",
   "metadata": {},
   "source": [
    "### 8.5.8\n",
    "\n",
    "> Suppose a basic block is formed from the C assignment statements\n",
    "\n",
    "> ```\n",
    "x = a + b + c + d + e + f;\n",
    "y = a + c + e;\n",
    "```\n",
    "\n",
    "> a) Give the three-address statements for this block."
   ]
  },
  {
   "cell_type": "markdown",
   "metadata": {},
   "source": [
    "```\n",
    "t1 = a + b\n",
    "t2 = t1 + c\n",
    "t3 = t2 + d\n",
    "t4 = t3 + e\n",
    "t5 = t4 + f\n",
    "x = t5\n",
    "t6 = a + c\n",
    "t7 = t6 + e\n",
    "y = t7\n",
    "```"
   ]
  },
  {
   "cell_type": "markdown",
   "metadata": {},
   "source": [
    "> b) Use the associative and commutative laws to modify the block to use the fewest possible number of instructions, assuming both `x` and `y` are live on exit from the block."
   ]
  },
  {
   "cell_type": "markdown",
   "metadata": {},
   "source": [
    "```\n",
    "t1 = a + c\n",
    "t2 = t1 + e\n",
    "y = t2\n",
    "t3 = t2 + b\n",
    "t4 = t3 + d\n",
    "t5 = t4 + f\n",
    "x = t5\n",
    "```"
   ]
  }
 ],
 "metadata": {
  "kernelspec": {
   "display_name": "Python 2",
   "language": "python",
   "name": "python2"
  },
  "language_info": {
   "codemirror_mode": {
    "name": "ipython",
    "version": 2
   },
   "file_extension": ".py",
   "mimetype": "text/x-python",
   "name": "python",
   "nbconvert_exporter": "python",
   "pygments_lexer": "ipython2",
   "version": "2.7.12"
  }
 },
 "nbformat": 4,
 "nbformat_minor": 2
}
