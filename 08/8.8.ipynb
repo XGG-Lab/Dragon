{
 "cells": [
  {
   "cell_type": "markdown",
   "metadata": {},
   "source": [
    "## 8.8 Register Allocation and Assignment"
   ]
  },
  {
   "cell_type": "markdown",
   "metadata": {},
   "source": [
    "### 8.8.1\n",
    "\n",
    "> Construct the register-interference graph for the program in Fig. 8.17."
   ]
  },
  {
   "cell_type": "markdown",
   "metadata": {},
   "source": [
    "B1:\n",
    "\n",
    "* a: {b, c, d, e, f}\n",
    "* b: {a, c, d}\n",
    "* c: {a, b}\n",
    "* d: {a, b}\n",
    "* e: {a, f}\n",
    "* f: {a, e}"
   ]
  },
  {
   "cell_type": "markdown",
   "metadata": {},
   "source": [
    "### 8.8.2\n",
    "\n",
    "> Devise a register-allocation strategy on the assumption that we automatically store all registers on the stack before procedure call and restore them after the return."
   ]
  },
  {
   "cell_type": "markdown",
   "metadata": {},
   "source": [
    "All registers are live before procedure call, no register is live after the return."
   ]
  }
 ],
 "metadata": {
  "kernelspec": {
   "display_name": "Python 2",
   "language": "python",
   "name": "python2"
  },
  "language_info": {
   "codemirror_mode": {
    "name": "ipython",
    "version": 2
   },
   "file_extension": ".py",
   "mimetype": "text/x-python",
   "name": "python",
   "nbconvert_exporter": "python",
   "pygments_lexer": "ipython2",
   "version": "2.7.12"
  }
 },
 "nbformat": 4,
 "nbformat_minor": 2
}
