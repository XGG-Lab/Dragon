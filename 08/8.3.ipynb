{
 "cells": [
  {
   "cell_type": "markdown",
   "metadata": {},
   "source": [
    "## 8.3 Addresses in the Target Code"
   ]
  },
  {
   "cell_type": "markdown",
   "metadata": {},
   "source": [
    "### 8.3.1\n",
    "\n",
    "> Generate code for the following three-address statements assuming stack allocation where register `SP` points to the top of the stack.\n",
    "\n",
    "> ```\n",
    "call p\n",
    "call q\n",
    "return\n",
    "call r\n",
    "return\n",
    "return\n",
    "```"
   ]
  },
  {
   "cell_type": "markdown",
   "metadata": {},
   "source": [
    "```\n",
    "100: LD  SP, #stackStart\n",
    "108: ADD SP, SP, #psize\n",
    "116: ST  0(SP), #132\n",
    "124: BR  #pstart\n",
    "132: SUB SP, SP, #psize\n",
    "140: ADD SP, SP, #qsize\n",
    "148: ST  0(SP), #164\n",
    "156: BR  #qstart\n",
    "164: SUB SP, SP, #qsize\n",
    "172: BR  *0(SP)\n",
    "```"
   ]
  },
  {
   "cell_type": "markdown",
   "metadata": {},
   "source": [
    "### 8.3.2\n",
    "\n",
    "> Generate code for the following three-address statements assuming stack allocation where register `SP` points to the top of the stack.\n",
    "\n",
    "> a) `x = 1`\n",
    "\n",
    "> b) `x = a`\n",
    "\n",
    "> c) `x = a + 1`\n",
    "\n",
    "> d) `x = a + b`\n",
    "\n",
    "> e) The two statements\n",
    "\n",
    "> ```\n",
    "x = b * c\n",
    "y = a + x\n",
    "```"
   ]
  },
  {
   "cell_type": "markdown",
   "metadata": {},
   "source": [
    "### 8.3.3\n",
    "\n",
    "> Generate code for the following three-address statements again assuming stack allocation and assuming `a` and `b` are arrays whose elements are 4-byte values.\n",
    "\n",
    "> a) The four-statement sequence\n",
    "\n",
    "> ```\n",
    "x = a[i]\n",
    "y = b[j]\n",
    "a[i] = y\n",
    "b[j] = x\n",
    "```\n",
    "\n",
    "> b) The three-statement sequence\n",
    "\n",
    "> ```\n",
    "x = a[i]\n",
    "y = b[i]\n",
    "z = x * y\n",
    "```\n",
    "\n",
    "> c) The three-statement sequence\n",
    "\n",
    "> ```\n",
    "x = a[i]\n",
    "y = b[x]\n",
    "a[i] = y\n",
    "```"
   ]
  }
 ],
 "metadata": {
  "kernelspec": {
   "display_name": "Python 2",
   "language": "python",
   "name": "python2"
  }
 },
 "nbformat": 4,
 "nbformat_minor": 2
}
