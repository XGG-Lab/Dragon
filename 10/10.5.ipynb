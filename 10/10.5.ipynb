{
 "cells": [
  {
   "cell_type": "markdown",
   "metadata": {},
   "source": [
    "## 10.5 Software Pipelinin"
   ]
  },
  {
   "cell_type": "markdown",
   "metadata": {},
   "source": [
    "### 10.5.1\n",
    "\n",
    "> Compute the bounds for each of five other pairs of nodes."
   ]
  },
  {
   "cell_type": "markdown",
   "metadata": {},
   "source": [
    "* $S(a) + 2 \\le S(b)$\n",
    "* $S(a) + 3 \\le S(c)$\n",
    "* $S(a) + 4 \\le S(d)$\n",
    "* $S(b) + 2 \\le S(d) \\le S(b) - 1 + T$\n",
    "  * $T = 3$: $S(b) + 2 \\le S(d) \\le S(b) + 2$\n",
    "  * $T = 4$: $S(b) + 2 \\le S(d) \\le S(b) + 3$\n",
    "* $S(c) + 1 \\le S(d) \\le S(c) - 2 + T$\n",
    "  * $T = 3$: $S(c) + 1 \\le S(d) \\le S(c) + 1$\n",
    "  * $T = 4$: $S(c) + 1 \\le S(d) \\le S(c) + 2$"
   ]
  },
  {
   "cell_type": "markdown",
   "metadata": {},
   "source": [
    "### 10.5.3\n",
    "\n",
    "> a)"
   ]
  },
  {
   "cell_type": "markdown",
   "metadata": {},
   "source": [
    "2"
   ]
  },
  {
   "cell_type": "markdown",
   "metadata": {},
   "source": [
    "> b)"
   ]
  },
  {
   "cell_type": "markdown",
   "metadata": {},
   "source": [
    "3"
   ]
  }
 ],
 "metadata": {
  "kernelspec": {
   "display_name": "Python 2",
   "language": "python",
   "name": "python2"
  },
  "language_info": {
   "codemirror_mode": {
    "name": "ipython",
    "version": 2
   },
   "file_extension": ".py",
   "mimetype": "text/x-python",
   "name": "python",
   "nbconvert_exporter": "python",
   "pygments_lexer": "ipython2",
   "version": "2.7.12"
  }
 },
 "nbformat": 4,
 "nbformat_minor": 2
}
