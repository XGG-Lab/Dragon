{
 "cells": [
  {
   "cell_type": "markdown",
   "metadata": {},
   "source": [
    "## 10.2 Code-Scheduling Constraints"
   ]
  },
  {
   "cell_type": "markdown",
   "metadata": {},
   "source": [
    "### 10.2.1\n",
    "\n",
    "> The assignments in Fig. 10.5 have certain dependences. For each of the following pairs of statements, classify the dependence.\n",
    "\n",
    "> ```\n",
    "1) a = b\n",
    "2) c = d\n",
    "3) b = c\n",
    "4) d = a\n",
    "5) c = d\n",
    "6) a = b\n",
    "```\n",
    "\n",
    "> a) Statements (1) and (4)."
   ]
  },
  {
   "cell_type": "markdown",
   "metadata": {},
   "source": [
    "True dependence."
   ]
  },
  {
   "cell_type": "markdown",
   "metadata": {},
   "source": [
    "> b) Statements (3) and (5)."
   ]
  },
  {
   "cell_type": "markdown",
   "metadata": {},
   "source": [
    "Antidependence."
   ]
  },
  {
   "cell_type": "markdown",
   "metadata": {},
   "source": [
    "> c) Statements (1) and (6)."
   ]
  },
  {
   "cell_type": "markdown",
   "metadata": {},
   "source": [
    "Output dependence."
   ]
  },
  {
   "cell_type": "markdown",
   "metadata": {},
   "source": [
    "> d) Statements (3) and (6)."
   ]
  },
  {
   "cell_type": "markdown",
   "metadata": {},
   "source": [
    "True dependence."
   ]
  },
  {
   "cell_type": "markdown",
   "metadata": {},
   "source": [
    "> e) Statements (4) and (6)."
   ]
  },
  {
   "cell_type": "markdown",
   "metadata": {},
   "source": [
    "Antidependence."
   ]
  },
  {
   "cell_type": "markdown",
   "metadata": {},
   "source": [
    "### 10.2.2\n",
    "\n",
    "> Evaluate the expression `((u+v)+(w+x))+(y+z)` exactly as parenthesized. Give register-level machine code to provide the maximum possible parallelism."
   ]
  },
  {
   "cell_type": "markdown",
   "metadata": {},
   "source": [
    "| `r1 = u` | `r2 = v` | `r3 = w` | `r4 = x` | `r5 = y` | `r6 = z` |\n",
    "|:-|:-|:-|:-|:-|:-|\n",
    "| `r7 = r1+r2` | `r8 = r3+r4` | `r9 = r5+r6` | | | |\n",
    "| `r10 = r7+r8` | | | | | |\n",
    "| `r11 = r10+r9` | | | | | |"
   ]
  },
  {
   "cell_type": "markdown",
   "metadata": {},
   "source": [
    "### 10.2.3\n",
    "\n",
    "> Repeat Exercise 10.2.2 for the following expressions:\n",
    "\n",
    "> a) `(u + (v + (w + x))) + (y + z)`."
   ]
  },
  {
   "cell_type": "markdown",
   "metadata": {},
   "source": [
    "| `r1 = u` | `r2 = v` | `r3 = w` | `r4 = x` | `r5 = y` | `r6 = z` |\n",
    "|:-|:-|:-|:-|:-|:-|\n",
    "| `r7 = r3+r4` | `r8 = r5+r6` | | | | |\n",
    "| `r9 = r2+r7` | | | | | |\n",
    "| `r10 = r1+r9` | | | | | |\n",
    "| `r11 = r10+r8` | | | | | |"
   ]
  },
  {
   "cell_type": "markdown",
   "metadata": {},
   "source": [
    "> b) `(u + (v + w)) + (x + (y + z))`."
   ]
  },
  {
   "cell_type": "markdown",
   "metadata": {},
   "source": [
    "| `r1 = u` | `r2 = v` | `r3 = w` | `r4 = x` | `r5 = y` | `r6 = z` |\n",
    "|:-|:-|:-|:-|:-|:-|\n",
    "| `r7 = r2+r3` | `r8 = r5+r6` | | | | |\n",
    "| `r9 = r1+r7` | `r10 = r4+r8` | | | | |\n",
    "| `r11 = r9+r10` | | | | | |\n",
    "\n",
    "Minimum: 3 registers, 8 saved."
   ]
  },
  {
   "cell_type": "markdown",
   "metadata": {},
   "source": [
    "### 10.2.4\n",
    "\n",
    "> The expression of Exercise 10.2.2 can be executed by the sequence of instructions shown in Fig. 10.6. If we have as much parallelism as we need, how many steps are needed to execute the instructions?"
   ]
  },
  {
   "cell_type": "markdown",
   "metadata": {},
   "source": [
    "| `r1 = u` | `r2 = v` | `r3 = x` |\n",
    "|:-|:-|:-|\n",
    "| `r1 = r1+r2` | | |\n",
    "| `r2 = w` | | |\n",
    "| `r2 = r2+r3` | | |\n",
    "| `r1 = r1+r2` | `r3 = z` | |\n",
    "| `r2 = y` | | |\n",
    "| `r2 = r2+r3` | | |\n",
    "| `r1 = r1+r2` | | |"
   ]
  }
 ],
 "metadata": {
  "kernelspec": {
   "display_name": "Python 2",
   "language": "python",
   "name": "python2"
  },
  "language_info": {
   "codemirror_mode": {
    "name": "ipython",
    "version": 2
   },
   "file_extension": ".py",
   "mimetype": "text/x-python",
   "name": "python",
   "nbconvert_exporter": "python",
   "pygments_lexer": "ipython2",
   "version": "2.7.12"
  }
 },
 "nbformat": 4,
 "nbformat_minor": 2
}
