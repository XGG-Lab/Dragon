{
 "cells": [
  {
   "cell_type": "markdown",
   "metadata": {},
   "source": [
    "## 10.3 Basic-Block Scheduling"
   ]
  },
  {
   "cell_type": "markdown",
   "metadata": {},
   "source": [
    "### 10.3.1\n",
    "\n",
    "> For each of the code fragments of Fig. 10.10, draw the data-dependence graph.\n",
    "\n",
    "> a)\n",
    "```\n",
    "1) LD  R1, a\n",
    "2) LD  R2, b\n",
    "3) SUB R3, R1, R2\n",
    "4) ADD R2, R1, R2\n",
    "5) ST  a, R3\n",
    "6) ST  b, R2\n",
    "```"
   ]
  },
  {
   "cell_type": "markdown",
   "metadata": {},
   "source": [
    "```\n",
    "LD R1, a -> SUB R3, R1, R2: 2\n",
    "LD R1, a -> ADD R2, R1, R2: 2\n",
    "LD R1, a -> ST a, R3: 1\n",
    "\n",
    "LD R2, b -> SUB R3, R1, R2: 2\n",
    "LD R2, b -> ADD R2, R1, R2: 2\n",
    "LD R2, b -> ST b, R2: 1\n",
    "\n",
    "SUB R3, R1, R2 -> ADD R2, R1, R2: 1\n",
    "SUB R3, R1, R2 -> ST a, R3: 1\n",
    "\n",
    "ADD R2, R1, R2 -> ST b, R2: 1\n",
    "```"
   ]
  },
  {
   "cell_type": "markdown",
   "metadata": {},
   "source": [
    "> b)\n",
    "```\n",
    "1) LD  R1, a\n",
    "2) LD  R2, b\n",
    "3) SUB R1, R1, R2\n",
    "4) ADD R2, R1, R2\n",
    "5) ST  a, R1\n",
    "6) ST  b, R2\n",
    "```"
   ]
  },
  {
   "cell_type": "markdown",
   "metadata": {},
   "source": [
    "```\n",
    "LD R1, a -> SUB R1, R1, R2: 2\n",
    "LD R1, a -> ADD R2, R1, R2: 2\n",
    "LD R1, a -> ST a, R1: 1\n",
    "\n",
    "LD R2, b -> SUB R1, R1, R2: 2\n",
    "LD R2, b -> ADD R2, R1, R2: 2\n",
    "LD R2, b -> ST b, R2: 1\n",
    "\n",
    "SUB R1, R1, R2 -> ADD R2, R1, R2: 1\n",
    "SUB R1, R1, R2 -> ST a, R1: 1\n",
    "\n",
    "ADD R2, R1, R2 -> ST b, R2: 1\n",
    "```"
   ]
  },
  {
   "cell_type": "markdown",
   "metadata": {},
   "source": [
    "> c)\n",
    "```\n",
    "1) LD  R1, a\n",
    "2) LD  R2, b\n",
    "3) SUB R3, R1, R2\n",
    "4) ADD R4, R1, R2\n",
    "5) ST  a, R3\n",
    "6) ST  b, R4\n",
    "```"
   ]
  },
  {
   "cell_type": "markdown",
   "metadata": {},
   "source": [
    "```\n",
    "LD R1, a -> SUB R3, R1, R2: 2\n",
    "LD R1, a -> ADD R4, R1, R2: 2\n",
    "LD R1, a -> ST a, R3: 1\n",
    "\n",
    "LD R2, b -> SUB R3, R1, R2: 2\n",
    "LD R2, b -> ADD R4, R1, R2: 2\n",
    "LD R2, b -> ST b, R4: 1\n",
    "\n",
    "SUB R3, R1, R2 -> ST a, R3: 1\n",
    "\n",
    "ADD R4, R1, R2 -> ST b, R4: 1\n",
    "```"
   ]
  },
  {
   "cell_type": "markdown",
   "metadata": {},
   "source": [
    "### 10.3.2\n",
    "\n",
    "> Assume a machine with one ALU resource and one MEM resource. Find a shortest schedule for each of the fragments in Fig. 10.10.\n",
    "\n",
    "> a)"
   ]
  },
  {
   "cell_type": "markdown",
   "metadata": {},
   "source": [
    "| ALU | MEM |\n",
    "|:-|:-|\n",
    "| | `LD R1, a` |\n",
    "| | `LD R2, b` |\n",
    "| `SUB R3, R1, R2` | |\n",
    "| `ADD R2, R1, R2` | `ST a, R3` |\n",
    "| | `ST b, R2` |"
   ]
  },
  {
   "cell_type": "markdown",
   "metadata": {},
   "source": [
    "> b)"
   ]
  },
  {
   "cell_type": "markdown",
   "metadata": {},
   "source": [
    "| ALU | MEM |\n",
    "|:-|:-|\n",
    "| | `LD R1, a` |\n",
    "| | `LD R2, b` |\n",
    "| `SUB R1, R1, R2` | |\n",
    "| `ADD R2, R1, R2` | `ST a, R1` |\n",
    "| | `ST b, R2` |"
   ]
  },
  {
   "cell_type": "markdown",
   "metadata": {},
   "source": [
    "> c)"
   ]
  },
  {
   "cell_type": "markdown",
   "metadata": {},
   "source": [
    "| ALU | MEM |\n",
    "|:-|:-|\n",
    "| | `LD R1, a` |\n",
    "| | `LD R2, b` |\n",
    "| `SUB R3, R1, R2` | |\n",
    "| `ADD R4, R1, R2` | `ST a, R3` |\n",
    "| | `ST b, R4` |"
   ]
  },
  {
   "cell_type": "markdown",
   "metadata": {},
   "source": [
    "### 10.3.3\n",
    "\n",
    "> Repeat Exercise 10.3.2 assuming:\n",
    "\n",
    "> i. The machine has one ALU resource and two MEM resources.\n",
    "\n",
    "> a)"
   ]
  },
  {
   "cell_type": "markdown",
   "metadata": {},
   "source": [
    "| ALU | MEM | MEM |\n",
    "|:-|:-|:-|\n",
    "| | `LD R1, a` | `LD R2, b` |\n",
    "| `SUB R3, R1, R2` | | |\n",
    "| `ADD R2, R1, R2` | `ST a, R3` | |\n",
    "| | `ST b, R2` | |"
   ]
  },
  {
   "cell_type": "markdown",
   "metadata": {},
   "source": [
    "> b)"
   ]
  },
  {
   "cell_type": "markdown",
   "metadata": {},
   "source": [
    "| ALU | MEM | MEM |\n",
    "|:-|:-|:-|\n",
    "| | `LD R1, a` | `LD R2, b` |\n",
    "| `SUB R1, R1, R2` | | |\n",
    "| `ADD R2, R1, R2` | `ST a, R1` | |\n",
    "| | `ST b, R2` | |"
   ]
  },
  {
   "cell_type": "markdown",
   "metadata": {},
   "source": [
    "> c)"
   ]
  },
  {
   "cell_type": "markdown",
   "metadata": {},
   "source": [
    "| ALU | MEM | MEM |\n",
    "|:-|:-|:-|\n",
    "| | `LD R1, a` | `LD R2, b` |\n",
    "| `SUB R3, R1, R2` | | |\n",
    "| `ADD R4, R1, R2` | `ST a, R3` | |\n",
    "| | `ST b, R4` | |"
   ]
  },
  {
   "cell_type": "markdown",
   "metadata": {},
   "source": [
    "> ii. The machine has two ALU resource and one MEM resources.\n",
    "\n",
    "> a)"
   ]
  },
  {
   "cell_type": "markdown",
   "metadata": {},
   "source": [
    "| ALU | ALU | MEM |\n",
    "|:-|:-|:-|\n",
    "| | | `LD R1, a` |\n",
    "| | | `LD R2, b` |\n",
    "| `SUB R3, R1, R2` | | |\n",
    "| `ADD R2, R1, R2` | | `ST a, R3` |\n",
    "| | | `ST b, R2` |"
   ]
  },
  {
   "cell_type": "markdown",
   "metadata": {},
   "source": [
    "> b)"
   ]
  },
  {
   "cell_type": "markdown",
   "metadata": {},
   "source": [
    "| ALU | ALU | MEM |\n",
    "|:-|:-|:-|\n",
    "| | | `LD R1, a` |\n",
    "| | | `LD R2, b` |\n",
    "| `SUB R1, R1, R2` | | |\n",
    "| `ADD R2, R1, R2` | | `ST a, R1` |\n",
    "| | | `ST b, R2` |"
   ]
  },
  {
   "cell_type": "markdown",
   "metadata": {},
   "source": [
    "> c)"
   ]
  },
  {
   "cell_type": "markdown",
   "metadata": {},
   "source": [
    "| ALU | ALU | MEM |\n",
    "|:-|:-|:-|\n",
    "| | | `LD R1, a` |\n",
    "| | | `LD R2, b` |\n",
    "| `SUB R3, R1, R2` | `ADD R4, R1, R2` | |\n",
    "| | | `ST a, R3` |\n",
    "| | | `ST b, R4` |"
   ]
  },
  {
   "cell_type": "markdown",
   "metadata": {},
   "source": [
    "> iii. The machine has two ALU resources and two MEM resources.\n",
    "\n",
    "> a)"
   ]
  },
  {
   "cell_type": "markdown",
   "metadata": {},
   "source": [
    "| ALU | ALU | MEM | MEM |\n",
    "|:-|:-|:-|:-|\n",
    "| | | `LD R1, a` | `LD R2, b` |\n",
    "| `SUB R3, R1, R2` | | | |\n",
    "| `ADD R2, R1, R2` | | `ST a, R3` | |\n",
    "| | | `ST b, R2` | |"
   ]
  },
  {
   "cell_type": "markdown",
   "metadata": {},
   "source": [
    "> b)"
   ]
  },
  {
   "cell_type": "markdown",
   "metadata": {},
   "source": [
    "| ALU | ALU | MEM | MEM |\n",
    "|:-|:-|:-|:-|\n",
    "| | | `LD R1, a` | `LD R2, b` |\n",
    "| `SUB R1, R1, R2` | | | |\n",
    "| `ADD R2, R1, R2` | | `ST a, R1` | |\n",
    "| | | `ST b, R2` | |"
   ]
  },
  {
   "cell_type": "markdown",
   "metadata": {},
   "source": [
    "> c)"
   ]
  },
  {
   "cell_type": "markdown",
   "metadata": {},
   "source": [
    "| ALU | ALU | MEM | MEM |\n",
    "|:-|:-|:-|:-|\n",
    "| | | `LD R1, a` | `LD R2, b` |\n",
    "| `SUB R3, R1, R2` | `ADD R4, R1, R2` | | |\n",
    "| | | `ST a, R3` | `ST b, R4` |"
   ]
  }
 ],
 "metadata": {
  "kernelspec": {
   "display_name": "Python 2",
   "language": "python",
   "name": "python2"
  },
  "language_info": {
   "codemirror_mode": {
    "name": "ipython",
    "version": 2
   },
   "file_extension": ".py",
   "mimetype": "text/x-python",
   "name": "python",
   "nbconvert_exporter": "python",
   "pygments_lexer": "ipython2",
   "version": "2.7.12"
  }
 },
 "nbformat": 4,
 "nbformat_minor": 2
}
