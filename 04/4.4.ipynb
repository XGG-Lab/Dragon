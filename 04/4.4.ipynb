{
 "cells": [
  {
   "cell_type": "markdown",
   "metadata": {},
   "source": [
    "## 4.4 Top-Down Parsing"
   ]
  },
  {
   "cell_type": "markdown",
   "metadata": {},
   "source": [
    "### 4.4.1\n",
    "\n",
    "> For each of the following grammars, devise predictive parsers and show the parsing tables. You may left-factor and/or eliminate left-recursion from your grammars first.\n",
    "\n",
    "> a) The grammar of Exercise 4.2.2(a).\n",
    "\n",
    "> $ S~\\rightarrow~0~S~1~|~0~1$"
   ]
  },
  {
   "cell_type": "markdown",
   "metadata": {},
   "source": [
    "$$\\begin{array}{lcl}\n",
    "S &\\rightarrow& 0~S' \\\\\n",
    "S' &\\rightarrow& S~1~|~1 \\\\\n",
    "\\end{array}$$\n",
    "\n",
    "| NON-TERMINAL | $0$ | $1$ | $\\$$ |\n",
    "|:------------:|:-:|:-:|:-:|\n",
    "| $S$ | $S \\rightarrow 0~S'$|  |  |\n",
    "| $S'$ | $S' \\rightarrow S~1$ | $S' \\rightarrow 1$ |  |\n",
    "\n",
    "[LL(1)](https://cyberzhg.github.io/toolbox/ll1?grammar=UyAtPiAwIFMnClMnIC0+IFMgMSB8IDE=)"
   ]
  },
  {
   "cell_type": "markdown",
   "metadata": {},
   "source": [
    "> b) The grammar of Exercise 4.2.2(b).\n",
    "\n",
    "> $S~\\rightarrow~+~S~S~|~*~S~S~|~a$"
   ]
  },
  {
   "cell_type": "markdown",
   "metadata": {},
   "source": [
    "| NON-TERMINAL | $+$ | $*$ | $a$ | $\\$$ |\n",
    "|:------------:|:-:|:-:|:-:|:-:|\n",
    "| $S$ | $S \\rightarrow +~S~S$| $S \\rightarrow *~S~S$ | $S \\rightarrow a$ |   |\n",
    "\n",
    "[LL(1)](https://cyberzhg.github.io/toolbox/ll1?grammar=UyAtPiArIFMgUyB8ICogUyBTIHwgYQ==)"
   ]
  },
  {
   "cell_type": "markdown",
   "metadata": {},
   "source": [
    "> c) The grammar of Exercise 4.2.2(c).\n",
    "\n",
    "> $S~\\rightarrow~S~(~S~)~S~|~\\epsilon$"
   ]
  },
  {
   "cell_type": "markdown",
   "metadata": {},
   "source": [
    "$$\\begin{array}{lcl}\n",
    "S &\\rightarrow& (~S~)~S~S~|~\\epsilon \\\\\n",
    "\\end{array}$$\n",
    "\n",
    "| NON-TERMINAL | $($ | $)$ | $\\$$ |\n",
    "|:------------:|:-:|:-:|:-:|\n",
    "| $S$ | $S \\rightarrow (~S~)~S~S \\\\ S \\rightarrow \\epsilon$ | $S \\rightarrow \\epsilon$ | $S \\rightarrow \\epsilon$ |\n",
    "\n",
    "[LL(1)](https://cyberzhg.github.io/toolbox/ll1?grammar=UyAtPiAoIFMgKSBTIFMgfCDPtQ==)"
   ]
  },
  {
   "cell_type": "markdown",
   "metadata": {},
   "source": [
    "> d) The grammar of Exercise 4.2.2(d).\n",
    "\n",
    "> $S~\\rightarrow~S~+~S~|~S~S~|~(~S~)|~S~*~|~a$"
   ]
  },
  {
   "cell_type": "markdown",
   "metadata": {},
   "source": [
    "Left factoring:\n",
    "\n",
    "$$\\begin{array}{lcl}\n",
    "S &\\rightarrow& S~S'~|~(~S~)|~a \\\\\n",
    "S' &\\rightarrow& +~S~|~S~|~*~ \\\\\n",
    "\\end{array}$$\n",
    "\n",
    "Left recursion:\n",
    "\n",
    "$$\\begin{array}{lcl}\n",
    "S &\\rightarrow& (~S~)~S^{\\prime\\prime}~|~a~S^{\\prime\\prime} \\\\\n",
    "S' &\\rightarrow& +~S~|~S~|~*~ \\\\\n",
    "S^{\\prime\\prime} &\\rightarrow& S'~S^{\\prime\\prime}~|~\\epsilon \\\\\n",
    "\\end{array}$$\n",
    "\n",
    "| NON-TERMINAL | $($ | $)$ | $+$ | $*$ | $a$ | $\\$$ |\n",
    "|:------------:|:-:|:-:|:-:|:-:|:-:|:-:|\n",
    "| $S$ | $S \\rightarrow (~S~)~S^{\\prime\\prime}$ |   |   |   | $S \\rightarrow a~S^{\\prime\\prime}$ |   |\n",
    "| $S^{\\prime}$ | $S^{\\prime} \\rightarrow S$ |   | $S^{\\prime} \\rightarrow +~S$ | $S^{\\prime} \\rightarrow *$ | $S^{\\prime} \\rightarrow S$ |   |\n",
    "| $S^{\\prime\\prime}$ | $S^{\\prime\\prime} \\rightarrow S'S^{\\prime\\prime} \\\\ S^{\\prime\\prime} \\rightarrow \\epsilon$ | $S^{\\prime\\prime} \\rightarrow \\epsilon$ | $S^{\\prime\\prime} \\rightarrow S'S^{\\prime\\prime} \\\\ S^{\\prime\\prime} \\rightarrow \\epsilon$ | $S^{\\prime\\prime} \\rightarrow S'S^{\\prime\\prime} \\\\ S^{\\prime\\prime} \\rightarrow \\epsilon$ | $S^{\\prime\\prime} \\rightarrow S'S^{\\prime\\prime} \\\\ S^{\\prime\\prime} \\rightarrow \\epsilon$ | $S^{\\prime\\prime} \\rightarrow \\epsilon$ |\n",
    "\n",
    "[LL(1)](https://cyberzhg.github.io/toolbox/ll1?grammar=ICBTIC0+ICggUyApIFMnJwogICAgIHwgYSBTJycKIFMnIC0+ICsgUwogICAgIHwgKCBTICkgUycnCiAgICAgfCBhIFMnJwogICAgIHwgKgpTJycgLT4gUycgUycnCiAgICAgfCDPtQo=)"
   ]
  },
  {
   "cell_type": "markdown",
   "metadata": {},
   "source": [
    "> e) The grammar of Exercise 4.2.2(e).\n",
    "\n",
    "> $$\\begin{array}{lll}\n",
    "S &\\rightarrow& (~L~)~|~a \\\\\n",
    "L &\\rightarrow& L~,~S~|~S~ \\\\\n",
    "\\end{array}$$"
   ]
  },
  {
   "cell_type": "markdown",
   "metadata": {},
   "source": [
    "$$\\begin{array}{lcl}\n",
    "S &\\rightarrow& (~L~)~|~a \\\\\n",
    "L &\\rightarrow& S~L' \\\\\n",
    "L' &\\rightarrow& ,~S~L'~|~\\epsilon \\\\\n",
    "\\end{array}$$\n",
    "\n",
    "| NON-TERMINAL | $($ | $)$ | $,$ | $a$ | $\\$$ |\n",
    "|:------------:|:-:|:-:|:-:|:-:|:-:|\n",
    "| $S$ | $S \\rightarrow (~L~)~$ |   |   | $S \\rightarrow a$ |   |\n",
    "| $L$ | $L \\rightarrow S~L'$ |   |   | $L \\rightarrow S~L'$ |   |\n",
    "| $L'$ |   | $L' \\rightarrow \\epsilon$ | $L' \\rightarrow ,~S~L'$ |   |  |\n",
    "\n",
    "[LL(1)](https://cyberzhg.github.io/toolbox/ll1?grammar=IFMgLT4gKCBMICkKICAgIHwgYQogTCAtPiAoIEwgKSBMJwogICAgfCBhIEwnCkwnIC0+ICwgUyBMJwogICAgfCDPtQo=)"
   ]
  },
  {
   "cell_type": "markdown",
   "metadata": {},
   "source": [
    "> f) The grammar of Exercise 4.2.2(g).\n",
    "\n",
    "> $$\\begin{array}{lll}\n",
    "bexpr &\\rightarrow& bexpr~\\mathbf{or}~bterm~|~bterm \\\\\n",
    "bterm &\\rightarrow& bterm~\\mathbf{and}~bfactor~|~bfactor \\\\\n",
    "bfactor &\\rightarrow& \\mathbf{not}~bfactor~|~(~bexpr~)~|~\\mathbf{true}~|~\\mathbf{false} \\\\\n",
    "\\end{array}$$"
   ]
  },
  {
   "cell_type": "markdown",
   "metadata": {},
   "source": [
    "$$\\begin{array}{lcl}\n",
    "bexpr &\\rightarrow& bterm~bexpr' \\\\\n",
    "bexpr' &\\rightarrow& \\mathbf{or}~bterm~bexpr'~|~\\epsilon \\\\\n",
    "bterm &\\rightarrow& bfactor~bterm' \\\\\n",
    "bterm' &\\rightarrow& \\mathbf{and}~bfactor~bterm'~|~\\epsilon \\\\\n",
    "bfactor &\\rightarrow& \\mathbf{not}~bfactor~|~(~bexpr~)~|~\\mathbf{true}~|~\\mathbf{false} \\\\\n",
    "\\end{array}$$\n",
    "\n",
    "| NON-TERMINAL | $\\mathbf{and}$ | $\\mathbf{or}$ | $\\mathbf{not}$ | $($ | $)$ | $\\mathbf{true}$ | $\\mathbf{false}$ | $\\$$ |\n",
    "|:------------:|:-:|:-:|:-:|:-:|:-:|:-:|:-:|:-:|\n",
    "| $bexpr$ |   |   | $bexpr \\rightarrow bterm~bexpr'$ | $bexpr \\rightarrow bterm~bexpr'$ |   | $bexpr \\rightarrow bterm~bexpr'$ | $bexpr \\rightarrow bterm~bexpr'$ |   |\n",
    "| $bexpr'$ |   | $bexpr' \\rightarrow \\mathbf{or}~bterm~bexpr'$ |   |   | $bexpr' \\rightarrow \\epsilon$ |   |   | $bexpr' \\rightarrow \\epsilon$ |\n",
    "| $bterm$ |   |   | $bterm \\rightarrow bfactor~bterm'$ | $bterm \\rightarrow bfactor~bterm'$ |   | $bterm \\rightarrow bfactor~bterm'$ | $bterm \\rightarrow bfactor~bterm'$ |   |\n",
    "| $bterm'$ | $bterm' \\rightarrow \\mathbf{and}~bfactor~bterm'$ |   |   |   | $bterm' \\rightarrow \\epsilon$ |   |   | $bterm' \\rightarrow \\epsilon$ |\n",
    "| $bfactor$ |   |   | $bfactor \\rightarrow \\mathbf{not}~bfactor$ | $bfactor \\rightarrow (~bexpr~)$ |   | $bfactor \\rightarrow \\mathbf{true}$ | $bfactor \\rightarrow \\mathbf{false}$ |   |\n",
    "\n",
    "[LL(1)](https://cyberzhg.github.io/toolbox/ll1?grammar=ICBiZXhwciAtPiBidGVybSBiZXhwcicKICBidGVybSAtPiBiZmFjdG9yIGJ0ZXJtJwpiZmFjdG9yIC0+IG5vdCBiZmFjdG9yCiAgICAgICAgIHwgKCBiZXhwciApCiAgICAgICAgIHwgdHJ1ZQogICAgICAgICB8IGZhbHNlCiBiZXhwcicgLT4gb3IgYnRlcm0gYmV4cHInCiAgICAgICAgIHwgz7UKIGJ0ZXJtJyAtPiBhbmQgYmZhY3RvciBidGVybScKICAgICAgICAgfCDPtQo=)"
   ]
  },
  {
   "cell_type": "markdown",
   "metadata": {},
   "source": [
    "### 4.4.2\n",
    "\n",
    "> Is it possible, by modifying the grammar in any way, to construct a predictive parser for the language of Exercise 4.2.1 (postfix expressions with oprand $a$)?\n",
    "\n",
    "> $ S~\\rightarrow~S~S~+~|~S~S~*~|~a$"
   ]
  },
  {
   "cell_type": "markdown",
   "metadata": {},
   "source": [
    "$\\begin{array}{lcl}\n",
    "S &\\rightarrow& a~S^{\\prime\\prime} \\\\\n",
    "S^{\\prime\\prime} &\\rightarrow& S~S^\\prime~S^{\\prime\\prime}~|~\\epsilon \\\\\n",
    "S^\\prime &\\rightarrow& +~|~* \\\\\n",
    "\\end{array}$\n",
    "\n",
    "| NON-TERMINAL | $+$ | $*$ | $a$ | $\\$$ |\n",
    "|:------------:|:-:|:-:|:-:|:-:|\n",
    "|$S$|$~$|$~$|$S \\rightarrow a~S^{\\prime\\prime}$|$~$|\n",
    "|$S^\\prime$|$S^\\prime \\rightarrow +$|$S^\\prime \\rightarrow *$|$~$|$~$|\n",
    "|$S^{\\prime\\prime}$|$S^{\\prime\\prime} \\rightarrow \\epsilon$|$S^{\\prime\\prime} \\rightarrow \\epsilon$|$S^{\\prime\\prime} \\rightarrow S~S^\\prime~S^{\\prime\\prime}$|$S^{\\prime\\prime} \\rightarrow \\epsilon$|\n",
    "\n",
    "[LL(1)](https://cyberzhg.github.io/toolbox/ll1?grammar=UyAtPiBhIFMnJwpTJyAtPiArIHwgKgpTJycgLT4gUyBTJyBTJycgfCDPtQ==)"
   ]
  },
  {
   "cell_type": "markdown",
   "metadata": {},
   "source": [
    "### 4.4.3\n",
    "\n",
    "> Compute FIRST and FOLLOW for the grammar of Exercise 4.2.1."
   ]
  },
  {
   "cell_type": "markdown",
   "metadata": {},
   "source": [
    "FIRST($S$) = $\\{ a \\}$\n",
    "\n",
    "FOLLOW($S$) = $\\{ +, *, a, \\$ \\}$\n",
    "\n",
    "[First & Follow](https://cyberzhg.github.io/toolbox/first_follow?grammar=UyAtPiBTIFMgKyB8IFMgUyAqIHwgYQ==)"
   ]
  },
  {
   "cell_type": "markdown",
   "metadata": {},
   "source": [
    "### 4.4.4\n",
    "\n",
    "> Compute FIRST and FOLLOW for each of the grammars of Exercise 4.2.2.\n",
    "\n",
    "> a) $S~\\rightarrow~0~S~1~|~0~1$."
   ]
  },
  {
   "cell_type": "markdown",
   "metadata": {},
   "source": [
    "FIRST($S$) = $\\{ 0 \\}$\n",
    "\n",
    "FOLLOW($S$) = $\\{ 1, $ \\}$\n",
    "\n",
    "[First & Follow](https://cyberzhg.github.io/toolbox/first_follow?grammar=UyAtPiAwIFMgMSB8IDAgMQ==)"
   ]
  },
  {
   "cell_type": "markdown",
   "metadata": {},
   "source": [
    "> b) $S~\\rightarrow~+~S~S~|~*~S~S~|~a$."
   ]
  },
  {
   "cell_type": "markdown",
   "metadata": {},
   "source": [
    "FIRST($S$) = $\\{ +, *, a \\}$\n",
    "\n",
    "FOLLOW($S$) = $\\{ +, *, a, $ \\}$\n",
    "\n",
    "[First & Follow](https://cyberzhg.github.io/toolbox/first_follow?grammar=UyAtPiAwIFMgMSB8IDAgMQ==)"
   ]
  },
  {
   "cell_type": "markdown",
   "metadata": {},
   "source": [
    "> c) $S~\\rightarrow~S~(~S~)~S~|~\\epsilon$."
   ]
  },
  {
   "cell_type": "markdown",
   "metadata": {},
   "source": [
    "FIRST($S$) = $\\{ (, \\epsilon \\}$\n",
    "\n",
    "FOLLOW($S$) = $\\{ (, ), $ \\}$\n",
    "\n",
    "[First & Follow](https://cyberzhg.github.io/toolbox/first_follow?grammar=UyAtPiBTICggUyApIFMgfCDPtQ==)"
   ]
  },
  {
   "cell_type": "markdown",
   "metadata": {},
   "source": [
    "> d) $S~\\rightarrow~S~+~S~|~S~S~|~(~S~)|~S~*~|~a$."
   ]
  },
  {
   "cell_type": "markdown",
   "metadata": {},
   "source": [
    "FIRST($S$) = $\\{ (, a \\}$\n",
    "\n",
    "FOLLOW($S$) = $\\{ +, (, ), *, a, $ \\}$\n",
    "\n",
    "[First & Follow](https://cyberzhg.github.io/toolbox/first_follow?grammar=UyAtPiBTICsgUyB8IFMgUyB8ICggUyApIHwgUyAqIHwgYQ==)"
   ]
  },
  {
   "cell_type": "markdown",
   "metadata": {},
   "source": [
    "> e) $S~\\rightarrow~(~L~)~|~a$ and $L~\\rightarrow~L~,~S~|~S~$."
   ]
  },
  {
   "cell_type": "markdown",
   "metadata": {},
   "source": [
    "FIRST($S$) = $\\{ (, a \\}$\n",
    "\n",
    "FOLLOW($S$) = $\\{ ',', ), $ \\}$\n",
    "\n",
    "FIRST($L$) = $\\{ (, a \\}$\n",
    "\n",
    "FOLLOW($L$) = $\\{ ',', ) \\}$\n",
    "\n",
    "[First & Follow](https://cyberzhg.github.io/toolbox/first_follow?grammar=UyAtPiAoIEwgKSB8IGEgTCAtPiBMICwgUyB8IFM=)"
   ]
  },
  {
   "cell_type": "markdown",
   "metadata": {},
   "source": [
    "> f) $S~\\rightarrow~a~S~b~S~|~b~S~a~S~|~\\epsilon$."
   ]
  },
  {
   "cell_type": "markdown",
   "metadata": {},
   "source": [
    "FIRST($S$) = $\\{ a, b, \\epsilon \\}$\n",
    "\n",
    "FOLLOW($S$) = $\\{ a, b, $ \\}$\n",
    "\n",
    "[First & Follow](https://cyberzhg.github.io/toolbox/first_follow?grammar=UyAtPiBhIFMgYiBTIHwgYiBTIGEgUyB8IM+1)"
   ]
  },
  {
   "cell_type": "markdown",
   "metadata": {},
   "source": [
    "> g) The following grammar for boolean expressions:\n",
    "\n",
    "> $$\n",
    "\\begin{array}{rll}\n",
    "bexpr &\\rightarrow& bexpr~\\mathbf{or}~bterm~|~bterm \\\\\n",
    "bterm &\\rightarrow& bterm~\\mathbf{and}~bfactor~|~bfactor \\\\\n",
    "bfactor &\\rightarrow& \\mathbf{not}~bfactor~|~(~bexpr~)~|~\\mathbf{true}~|~\\mathbf{false} \\\\\n",
    "\\end{array}\n",
    "$$"
   ]
  },
  {
   "cell_type": "markdown",
   "metadata": {},
   "source": [
    "FIRST($bfactor$) = $\\{ \\mathbf{not}, (, \\mathbf{true}, \\mathbf{false} \\}$\n",
    "\n",
    "FOLLOW($bfactor$) = $\\{ ), \\mathbf{and}, \\mathbf{or}, $ \\}$\n",
    "\n",
    "FIRST($bterm$) = $\\{ \\mathbf{not}, (, \\mathbf{true}, \\mathbf{false} \\}$\n",
    "\n",
    "FOLLOW($bterm$) = $\\{ ), \\mathbf{and}, \\mathbf{or}, $ \\}$\n",
    "\n",
    "FIRST($bexpr$) = $\\{ \\mathbf{not}, (, \\mathbf{true}, \\mathbf{false} \\}$\n",
    "\n",
    "FOLLOW($bexpr$) = $\\{ ), \\mathbf{or}, $ \\}$\n",
    "\n",
    "[First & Follow](https://cyberzhg.github.io/toolbox/first_follow?grammar=YmV4cHIgLT4gYmV4cHIgb3IgYnRlcm0gfCBidGVybSAKYnRlcm0gLT4gYnRlcm0gYW5kIGJmYWN0b3IgfCBiZmFjdG9yIApiZmFjdG9yIC0+IG5vdCBiZmFjdG9yIHwgKCBiZXhwciApIHwgdHJ1ZSB8IGZhbHNl)"
   ]
  },
  {
   "cell_type": "markdown",
   "metadata": {},
   "source": [
    "### 4.4.5\n",
    "\n",
    "> The grammar $S~\\rightarrow~a~S~a~|~a~a$ generates all even-length strings of $a$'s. We can devise a recursive-descent parser with backtrack for this grammar. If we choose to expand by production $S~\\rightarrow~a~a$ first, then we shall only recognize the string $aa$. Thus, any reasonable recursive-descent parser will try $S~\\rightarrow~a~S~a$ first.\n",
    "\n",
    "> a) Show that this recursive-descent parser recognizes input $aa$, $aaaa$, and $aaaaaaaa$, but not $aaaaaa$.\n",
    "\n",
    "> b) What language does this recursive-descent parser recognize?"
   ]
  },
  {
   "cell_type": "markdown",
   "metadata": {},
   "source": [
    "$2^n$ $a$s."
   ]
  },
  {
   "cell_type": "markdown",
   "metadata": {},
   "source": [
    "### 4.4.6\n",
    "\n",
    "> A grammar is $\\epsilon$-_free_ if no production body is $\\epsilon$ (called an $\\epsilon$-_production_).\n",
    "\n",
    "> a) Give an algorithm to convert any grammar into an $\\epsilon$-free grammar that generates the same language."
   ]
  },
  {
   "cell_type": "markdown",
   "metadata": {},
   "source": [
    "Find all nullables in a production, enumerate all the situations that each nullable appears or not."
   ]
  },
  {
   "cell_type": "markdown",
   "metadata": {},
   "source": [
    "> b) Apply your algorithm to the grammar $S~\\rightarrow~a~S~b~S~|~b~S~a~S~|~\\epsilon$."
   ]
  },
  {
   "cell_type": "markdown",
   "metadata": {},
   "source": [
    "$$\\begin{array}{lcl}\n",
    "S &\\rightarrow& a~S~b~S \\\\\n",
    "&|& a~S~b \\\\\n",
    "&|& a~b~S \\\\\n",
    "&|& a~b \\\\\n",
    "&|& b~S~a~S \\\\\n",
    "&|& b~S~a \\\\\n",
    "&|& b~a~S \\\\\n",
    "&|& b~a \\\\\n",
    "\\end{array}$$"
   ]
  },
  {
   "cell_type": "markdown",
   "metadata": {},
   "source": [
    "### 4.4.7\n",
    "\n",
    "> A _single production_ is a production whose body is a single nonterminal, i.e., a production of the form $A \\rightarrow B$.\n",
    "\n",
    "> a) Give an algorithm to convert any grammar into a $\\epsilon$-free grammar, with no single productions, that generate the same language."
   ]
  },
  {
   "cell_type": "markdown",
   "metadata": {},
   "source": [
    "If $A \\Rightarrow B$, replace $A$ with $B$."
   ]
  },
  {
   "cell_type": "markdown",
   "metadata": {},
   "source": [
    "> b) Apply your algorithm to the grammar (4.1) in Section 4.1.2.\n",
    "\n",
    "> $$\\begin{array}{lcl}\n",
    "E &\\rightarrow& E~+~T~|~T \\\\\n",
    "T &\\rightarrow& T~*~F~|~F \\\\\n",
    "F &\\rightarrow& (~E~)~|~\\mathbf{id} \\\\\n",
    "\\end{array}$$"
   ]
  },
  {
   "cell_type": "markdown",
   "metadata": {},
   "source": [
    "$$\\begin{array}{lcl}\n",
    "E &\\rightarrow& E~+~T~|~T~*~F~|~(~E~)~|~\\mathbf{id} \\\\\n",
    "T &\\rightarrow& T~*~F~|~(~E~)~|~\\mathbf{id} \\\\\n",
    "\\end{array}$$"
   ]
  },
  {
   "cell_type": "markdown",
   "metadata": {},
   "source": [
    "> c) Show that, as a consequence of part (a), we can convert a grammar into an equivalent grammar that has no _cycles_."
   ]
  },
  {
   "cell_type": "markdown",
   "metadata": {},
   "source": [
    "Always more symbols."
   ]
  },
  {
   "cell_type": "markdown",
   "metadata": {},
   "source": [
    "### 4.4.8\n",
    "\n",
    "> A grammar is said to be in _Chomsky Normal Form_(CNF) if every production is either of the form $A \\rightarrow BC$ or of the form $A \\rightarrow a$, where $A$, $B$, and $C$ are nonterminals and $a$ is a terminal. Show how to convert any grammar into a CNF grammar for the same language."
   ]
  },
  {
   "cell_type": "markdown",
   "metadata": {},
   "source": [
    "$$\\begin{array}{lcl}\n",
    "F &\\rightarrow& BC~|~\\mathbf{id} \\\\\n",
    "B &\\rightarrow& ( \\\\\n",
    "C &\\rightarrow& ED \\\\\n",
    "D &\\rightarrow& ) \\\\\n",
    "\\end{array}$$"
   ]
  },
  {
   "cell_type": "markdown",
   "metadata": {},
   "source": [
    "### 4.4.9\n",
    "\n",
    "> Every language that has a context-free grammar can be recognized in at most $O(n^3)$ time for strings of length $n$. A simple way to do so, called the _Cocke-Younger-Kasami_ (or CYK) algorithm is based on dynamic programming. That is, given a string $a_1a_2\\cdots a_n$, we construct an $n$-by-$n$ table $T$ such that $T_{ij}$ is the set of nonterminals that generate the substring $a_i a_{i+1} \\cdots a_j$. If the underlying grammar is in CNF, then one table entry can be filled in $O(n)$ time, provided we fill the entries in the proper order: lowest value of $j-i$ first. Write an algorithm that correctly fills in the entries of the table, ans show that your algorithm takes $O(n^3)$ time. Having filled in the table, how do you determine whether $a_1 a_2 \\cdots a_n$ is in the language?"
   ]
  },
  {
   "cell_type": "markdown",
   "metadata": {},
   "source": [
    "$dp[i][j][A]$, $i$ and $j$ are the start and end position, $A$ is the index of the symbol.\n",
    "\n",
    "```\n",
    "for i in 1 to n:\n",
    "    if A -> ai:\n",
    "        dp[i][i + 1][A] = true\n",
    "for l in 2 to n:\n",
    "    for i in 1 to n:\n",
    "        j = i + l\n",
    "        for k in i + 1 to j:\n",
    "            if A -> BC and dp[i][k][B] and dp[k][j][C]:\n",
    "                dp[i][j][A] = true\n",
    "```"
   ]
  },
  {
   "cell_type": "markdown",
   "metadata": {},
   "source": [
    "### 4.4.10\n",
    "\n",
    "> Show how, having filled in the table as in Exercise 4.4.9, we can in $O(n)$ time recover a parse tree for $a_1 a_2 \\cdots a_n$."
   ]
  },
  {
   "cell_type": "markdown",
   "metadata": {},
   "source": [
    "Record the production and $k$."
   ]
  },
  {
   "cell_type": "markdown",
   "metadata": {},
   "source": [
    "### 4.4.11\n",
    "\n",
    "> Modify your algorithm of Exercise 4.4.9 so that it will find, for any string, the smallest number of insert, delete, and mutate errors needed to turn the string into a string in the language of the underlying grammar."
   ]
  },
  {
   "cell_type": "markdown",
   "metadata": {},
   "source": [
    "$error[i][j][A]$\n",
    "\n",
    "```\n",
    "for i in 1 to n:\n",
    "    dp[i][i][A] = 1\n",
    "    if A -> ai:\n",
    "        error[i][i + 1][A] = 0\n",
    "    else:\n",
    "        error[i][i + 1][A] = 1\n",
    "\n",
    "error[i][j][A] = min(error[i][j][A], error[i][k][B] + error[k + 1][j][C])\n",
    "```"
   ]
  },
  {
   "cell_type": "markdown",
   "metadata": {},
   "source": [
    "### 4.4.12\n",
    "\n",
    "> In Fig. 4.24 is a grammar for certain statements. You may take $e$ and $s$ to be terminals standing for conditional expressions and \"other statements\", respectively. If we resolve the conflict regarding expansion of the optional \"else\" by preferring to consume an __else__ from the input whenever we see one, we can build a predictive parser for this grammar. Using the idea of synchronizing symbols described in Section 4.4.5.\n",
    "\n",
    "> a) Build an error-correcting predictive parsing table for the grammar.\n",
    "\n",
    "> b) Show the behavior of your parser on the following inputs:"
   ]
  }
 ],
 "metadata": {
  "kernelspec": {
   "display_name": "Python 2",
   "language": "python",
   "name": "python2"
  },
  "language_info": {
   "codemirror_mode": {
    "name": "ipython",
    "version": 2
   },
   "file_extension": ".py",
   "mimetype": "text/x-python",
   "name": "python",
   "nbconvert_exporter": "python",
   "pygments_lexer": "ipython2",
   "version": "2.7.12"
  }
 },
 "nbformat": 4,
 "nbformat_minor": 2
}
