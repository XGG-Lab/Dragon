{
 "cells": [
  {
   "cell_type": "markdown",
   "metadata": {},
   "source": [
    "## 4.5 Bottom-Up Parsing"
   ]
  },
  {
   "cell_type": "markdown",
   "metadata": {},
   "source": [
    "### 4.5.1\n",
    "\n",
    "> For the grammar $S~\\rightarrow~0~S~1~|~0~1$ of Exercise 4.2.2(a), indicate the handle in each of the following right-sentential forms:\n",
    "\n",
    "> a) $000111$.\n",
    "\n",
    "> b) $00S11$."
   ]
  },
  {
   "cell_type": "markdown",
   "metadata": {},
   "source": [
    "| RIGHT SENTENTIAL FORM | HANDLE | REDUCING PRODUCTION |\n",
    "|--:|:-:|:--|\n",
    "| $000111$ | $01$ | $S~\\rightarrow~0~1$ |\n",
    "| $00S11$ | $0S1$ | $S~\\rightarrow~0~S~1$ |"
   ]
  },
  {
   "cell_type": "markdown",
   "metadata": {},
   "source": [
    "### 4.5.2\n",
    "\n",
    "> Repeat Exercise 4.5.1 for the grammar $S~\\rightarrow~S~S~+~|~S~S~*~|~a$ of Exercise 4.2.1 and the following right-sentential forms:\n",
    "\n",
    "> a) $SSS+a*+$.\n",
    "\n",
    "> b) $SS+a*a+$.\n",
    "\n",
    "> c) $aaa*a++$."
   ]
  },
  {
   "cell_type": "markdown",
   "metadata": {},
   "source": [
    "| RIGHT SENTENTIAL FORM | HANDLE | REDUCING PRODUCTION |\n",
    "|--:|:-:|:--|\n",
    "| $SSS+a*+$ | $SS+$ | $S~\\rightarrow~S~S~+$ |\n",
    "| $SS+a*a+$ | $SS+$ | $S~\\rightarrow~S~S~+$ |\n",
    "| $aaa*a++$ | $a$ | $S~\\rightarrow~a$ |"
   ]
  },
  {
   "cell_type": "markdown",
   "metadata": {},
   "source": [
    "### 4.5.3\n",
    "\n",
    "> Give bottom-up parses for the following input strings and grammars:\n",
    "\n",
    "> a) The input $000111$ according to the grammar of Exercise 4.5.1."
   ]
  },
  {
   "cell_type": "markdown",
   "metadata": {},
   "source": [
    "| STACK | INPUT | ACTION |\n",
    "|:------|------:|:-------|\n",
    "| $\\$$ | $000111\\$$ | shift |\n",
    "| $\\$0$ | $00111\\$$ | shift |\n",
    "| $\\$00$ | $0111\\$$ | shift |\n",
    "| $\\$000$ | $111\\$$ | shift |\n",
    "| $\\$0001$ | $11\\$$ | reduce by $S~\\rightarrow~0~1$ |\n",
    "| $\\$00S$ | $11\\$$ | shift |\n",
    "| $\\$00S1$ | $1\\$$ | reduce by $S~\\rightarrow~0~S~1$ |\n",
    "| $\\$0S$ | $1\\$$ | shift |\n",
    "| $\\$0S1$ | $\\$$ | reduce by $S~\\rightarrow~0~S~1$ |\n",
    "| $\\$S$ | $\\$$ | accept |"
   ]
  },
  {
   "cell_type": "markdown",
   "metadata": {},
   "source": [
    "> b) The input $aaa*a++$ according to the grammar of Exercise 4.5.2."
   ]
  },
  {
   "cell_type": "markdown",
   "metadata": {},
   "source": [
    "| STACK | INPUT | ACTION |\n",
    "|:------|------:|:-------|\n",
    "| $\\$$ | $aaa*a++\\$$ | shift |\n",
    "| $\\$a$ | $aa*a++\\$$ | reduce by $S~\\rightarrow~a$ |\n",
    "| $\\$S$ | $aa*a++\\$$ | shift |\n",
    "| $\\$Sa$ | $a*a++\\$$ | reduce by $S~\\rightarrow~a$ |\n",
    "| $\\$SS$ | $a*a++\\$$ | shift |\n",
    "| $\\$SSa$ | $*a++\\$$ | reduce by $S~\\rightarrow~a$ |\n",
    "| $\\$SSS$ | $*a++\\$$ | shift |\n",
    "| $\\$SSS*$ | $a++\\$$ | reduce by $S~\\rightarrow~S~S~*$ |\n",
    "| $\\$SS$ | $a++\\$$ | shift |\n",
    "| $\\$SSa$ | $++\\$$ | reduce by $S~\\rightarrow~a$ |\n",
    "| $\\$SSS$ | $++\\$$ | shift |\n",
    "| $\\$SSS+$ | $+\\$$ | reduce by $S~\\rightarrow~S~S~+$ |\n",
    "| $\\$SS$ | $+\\$$ | shift |\n",
    "| $\\$SS+$ | $\\$$ | reduce by $S~\\rightarrow~S~S~+$ |\n",
    "| $\\$S$ | $\\$$ | accept |"
   ]
  }
 ],
 "metadata": {
  "kernelspec": {
   "display_name": "Python 2",
   "language": "python",
   "name": "python2"
  },
  "language_info": {
   "codemirror_mode": {
    "name": "ipython",
    "version": 2
   },
   "file_extension": ".py",
   "mimetype": "text/x-python",
   "name": "python",
   "nbconvert_exporter": "python",
   "pygments_lexer": "ipython2",
   "version": "2.7.12"
  }
 },
 "nbformat": 4,
 "nbformat_minor": 2
}
