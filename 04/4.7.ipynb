{
 "cells": [
  {
   "cell_type": "markdown",
   "metadata": {},
   "source": [
    "## 4.7 More Powerful LR Parsers"
   ]
  },
  {
   "cell_type": "markdown",
   "metadata": {},
   "source": [
    "### 4.7.1\n",
    "\n",
    "> Construct the\n",
    "\n",
    "> a) canonical LR, and\n",
    "\n",
    "> b) LALR\n",
    "\n",
    "> sets of items for grammar $~S~\\rightarrow~S~S~+~|~S~S~*~|~a$ of Exercise 4.2.1."
   ]
  },
  {
   "cell_type": "markdown",
   "metadata": {},
   "source": [
    "[LR(1)](https://cyberzhg.github.io/toolbox/lr1?grammar=UyAtPiBTIFMgKwogICB8IFMgUyAqCiAgIHwgYQ==)\n",
    "\n",
    "[LALR](https://cyberzhg.github.io/toolbox/lalr?grammar=UyAtPiBTIFMgKwogICB8IFMgUyAqCiAgIHwgYQ==)"
   ]
  },
  {
   "cell_type": "markdown",
   "metadata": {},
   "source": [
    "### 4.7.2\n",
    "\n",
    "> Repeat Exercise 4.7.1 for each of the (augmented) grammars of Exercise 4.2.2 (a) - (g).\n",
    "\n",
    "> a) $S~\\rightarrow~0~S~1~|~0~1$."
   ]
  },
  {
   "cell_type": "markdown",
   "metadata": {},
   "source": [
    "[LR(1)](https://cyberzhg.github.io/toolbox/lr1?grammar=UyAtPiAwIFMgMSB8IDAgMQ==)\n",
    "\n",
    "[LALR](https://cyberzhg.github.io/toolbox/lalr?grammar=UyAtPiAwIFMgMSB8IDAgMQ==)"
   ]
  },
  {
   "cell_type": "markdown",
   "metadata": {},
   "source": [
    "> b) $S~\\rightarrow~+~S~S~|~*~S~S~|~a$."
   ]
  },
  {
   "cell_type": "markdown",
   "metadata": {},
   "source": [
    "[LR(1)](https://cyberzhg.github.io/toolbox/lr1?grammar=UyAtPiArIFMgUyB8ICogUyBTIHwgYQ==)\n",
    "\n",
    "[LALR](https://cyberzhg.github.io/toolbox/lalr?grammar=UyAtPiArIFMgUyB8ICogUyBTIHwgYQ==)"
   ]
  },
  {
   "cell_type": "markdown",
   "metadata": {},
   "source": [
    "> c) $S~\\rightarrow~S~(~S~)~S~|~\\epsilon$."
   ]
  },
  {
   "cell_type": "markdown",
   "metadata": {},
   "source": [
    "[LR(1)](https://cyberzhg.github.io/toolbox/lr1?grammar=UyAtPiBTICggUyApIFMgfCDPtQ==)\n",
    "\n",
    "[LALR](https://cyberzhg.github.io/toolbox/lalr?grammar=UyAtPiBTICggUyApIFMgfCDPtQ==)"
   ]
  },
  {
   "cell_type": "markdown",
   "metadata": {},
   "source": [
    "> d) $S~\\rightarrow~S~+~S~|~S~S~|~(~S~)|~S~*~|~a$."
   ]
  },
  {
   "cell_type": "markdown",
   "metadata": {},
   "source": [
    "[LR(1)](https://cyberzhg.github.io/toolbox/lr1?grammar=UyAtPiBTICsgUyB8IFMgUyB8ICggUyApIHwgUyAqIHwgYQ==)\n",
    "\n",
    "[LALR](https://cyberzhg.github.io/toolbox/lalr?grammar=UyAtPiBTICsgUyB8IFMgUyB8ICggUyApIHwgUyAqIHwgYQ==)"
   ]
  },
  {
   "cell_type": "markdown",
   "metadata": {},
   "source": [
    "> e) $S~\\rightarrow~(~L~)~|~a$ and $L~\\rightarrow~L~,~S~|~S~$."
   ]
  },
  {
   "cell_type": "markdown",
   "metadata": {},
   "source": [
    "[LR(1)](https://cyberzhg.github.io/toolbox/lr1?grammar=UyAtPiAoIEwgKSB8IGEKTCAtPiBMICwgUyB8IFM=)\n",
    "\n",
    "[LALR](https://cyberzhg.github.io/toolbox/lalr?grammar=UyAtPiAoIEwgKSB8IGEKTCAtPiBMICwgUyB8IFM=)"
   ]
  },
  {
   "cell_type": "markdown",
   "metadata": {},
   "source": [
    "> f) $S~\\rightarrow~a~S~b~S~|~b~S~a~S~|~\\epsilon$."
   ]
  },
  {
   "cell_type": "markdown",
   "metadata": {},
   "source": [
    "[LR(1)](https://cyberzhg.github.io/toolbox/lr1?grammar=UyAtPiBhIFMgYiBTIHwgYiBTIGEgUyB8IM+1)\n",
    "\n",
    "[LALR](https://cyberzhg.github.io/toolbox/lalr?grammar=UyAtPiBhIFMgYiBTIHwgYiBTIGEgUyB8IM+1)"
   ]
  },
  {
   "cell_type": "markdown",
   "metadata": {},
   "source": [
    "> g) The following grammar for boolean expressions:\n",
    "\n",
    "> $$\n",
    "\\begin{array}{rll}\n",
    "bexpr &\\rightarrow& bexpr~\\mathbf{or}~bterm~|~bterm \\\\\n",
    "bterm &\\rightarrow& bterm~\\mathbf{and}~bfactor~|~bfactor \\\\\n",
    "bfactor &\\rightarrow& \\mathbf{not}~bfactor~|~(~bexpr~)~|~\\mathbf{true}~|~\\mathbf{false} \\\\\n",
    "\\end{array}\n",
    "$$"
   ]
  },
  {
   "cell_type": "markdown",
   "metadata": {},
   "source": [
    "[LR(1)](https://cyberzhg.github.io/toolbox/lr1?grammar=YmV4cHIgLT4gYmV4cHIgb3IgYnRlcm0gfCBidGVybSAKYnRlcm0gLT4gYnRlcm0gYW5kIGJmYWN0b3IgfCBiZmFjdG9yIApiZmFjdG9yIC0+IG5vdCBiZmFjdG9yIHwgKCBiZXhwciApIHwgdHJ1ZSB8IGZhbHNl)\n",
    "\n",
    "[LALR](https://cyberzhg.github.io/toolbox/lalr?grammar=YmV4cHIgLT4gYmV4cHIgb3IgYnRlcm0gfCBidGVybSAKYnRlcm0gLT4gYnRlcm0gYW5kIGJmYWN0b3IgfCBiZmFjdG9yIApiZmFjdG9yIC0+IG5vdCBiZmFjdG9yIHwgKCBiZXhwciApIHwgdHJ1ZSB8IGZhbHNl)"
   ]
  },
  {
   "cell_type": "markdown",
   "metadata": {},
   "source": [
    "### 4.7.3"
   ]
  },
  {
   "cell_type": "markdown",
   "metadata": {},
   "source": [
    "### 4.7.4\n",
    "\n",
    "> Show that the following grammar\n",
    "\n",
    "> $$\n",
    "\\begin{array}{rll}\n",
    "S&\\rightarrow&A~a~|~b~A~c~|~d~c~|~b~d~a~\\\\\n",
    "A&\\rightarrow&d~\\\\\n",
    "\\end{array}\n",
    "$$\n",
    "\n",
    "> is LALR(1) but not SLR(1)."
   ]
  },
  {
   "cell_type": "markdown",
   "metadata": {},
   "source": [
    "[LALR](https://cyberzhg.github.io/toolbox/lalr?grammar=UyAtPiBBIGEgfCBiIEEgYyB8IGQgYyB8IGIgZCBhCkEgLT4gZA==)\n",
    "\n",
    "[SLR(1)](https://cyberzhg.github.io/toolbox/lr0?grammar=UyAtPiBBIGEgfCBiIEEgYyB8IGQgYyB8IGIgZCBhCkEgLT4gZA==)"
   ]
  },
  {
   "cell_type": "markdown",
   "metadata": {},
   "source": [
    "### 4.7.5\n",
    "\n",
    "> Show that the following grammar\n",
    "\n",
    "> $$\n",
    "\\begin{array}{rll}\n",
    "S&\\rightarrow&A~a~|~b~A~c~|~B~c~|~b~B~a~\\\\\n",
    "A&\\rightarrow&d~\\\\\n",
    "B&\\rightarrow&d\n",
    "\\end{array}\n",
    "$$\n",
    "\n",
    "> is LR(1) but not LALR(1)."
   ]
  },
  {
   "cell_type": "markdown",
   "metadata": {},
   "source": [
    "[LR(1)](https://cyberzhg.github.io/toolbox/lr1?grammar=UyAtPiBBIGEgfCBiIEEgYyB8IEIgYyB8IGIgQiBhCkEgLT4gZApCIC0+IGQ=)\n",
    "\n",
    "[LALR(1)](https://cyberzhg.github.io/toolbox/lalr?grammar=UyAtPiBBIGEgfCBiIEEgYyB8IEIgYyB8IGIgQiBhCkEgLT4gZApCIC0+IGQ=)"
   ]
  }
 ],
 "metadata": {
  "kernelspec": {
   "display_name": "Python 2",
   "language": "python",
   "name": "python2"
  },
  "language_info": {
   "codemirror_mode": {
    "name": "ipython",
    "version": 2
   },
   "file_extension": ".py",
   "mimetype": "text/x-python",
   "name": "python",
   "nbconvert_exporter": "python",
   "pygments_lexer": "ipython2",
   "version": "2.7.12"
  }
 },
 "nbformat": 4,
 "nbformat_minor": 2
}
