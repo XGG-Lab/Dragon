{
 "cells": [
  {
   "cell_type": "markdown",
   "metadata": {},
   "source": [
    "## 4.6 Introduction to LR Parsing: Simple LR"
   ]
  },
  {
   "cell_type": "markdown",
   "metadata": {},
   "source": [
    "### 4.6.1\n",
    "\n",
    "> Describe all the viable prefixes for the following grammars:\n",
    "\n",
    "> a) The grammar $S~\\rightarrow~0~S~1~|~0~1$ of Exercise 4.2.2(a)."
   ]
  },
  {
   "cell_type": "markdown",
   "metadata": {},
   "source": [
    "$$\\begin{array}{lcl}\n",
    "S &\\rightarrow& 0~S' \\\\\n",
    "S' &\\rightarrow& S~1~|~1 \\\\\n",
    "\\end{array}$$\n",
    "\n",
    "Viable prefixes: $0+$"
   ]
  },
  {
   "cell_type": "markdown",
   "metadata": {},
   "source": [
    "> b) The grammar $S~\\rightarrow~S~S~+~|~S~S~*~|~a$ of Exercise 4.2.1."
   ]
  },
  {
   "cell_type": "markdown",
   "metadata": {},
   "source": [
    "$$\\begin{array}{lcl}\n",
    "S &\\rightarrow& a~S^{\\prime\\prime} \\\\\n",
    "S^{\\prime\\prime} &\\rightarrow& S~S^\\prime~S^{\\prime\\prime}~|~\\epsilon \\\\\n",
    "S^\\prime &\\rightarrow& +~|~* \\\\\n",
    "\\end{array}$$\n",
    "\n",
    "Viable prefixes: $S*$"
   ]
  },
  {
   "cell_type": "markdown",
   "metadata": {},
   "source": [
    "> c) The grammar $S~\\rightarrow~S~(~S~)~|~\\epsilon$ of Exercise 4.2.2(c)."
   ]
  },
  {
   "cell_type": "markdown",
   "metadata": {},
   "source": [
    "$$\\begin{array}{lcl}\n",
    "S &\\rightarrow& (~S~)~S~S~|~\\epsilon \\\\\n",
    "\\end{array}$$\n",
    "\n",
    "Viable prefixes: $(*$"
   ]
  },
  {
   "cell_type": "markdown",
   "metadata": {},
   "source": [
    "### 4.6.2\n",
    "\n",
    "> Construct the SLR sets of items for the (augmented) grammar of Exercise 4.2.1. Compute the GOTO function for these sets of items. Show the parsing table for this grammar. Is the grammar SLR?"
   ]
  },
  {
   "cell_type": "markdown",
   "metadata": {},
   "source": [
    "$$\\begin{array}{lcl}\n",
    "G &\\rightarrow& S \\\\\n",
    "S &\\rightarrow& a~S^{\\prime\\prime} \\\\\n",
    "S^{\\prime\\prime} &\\rightarrow& S~S^\\prime~S^{\\prime\\prime}~|~\\epsilon \\\\\n",
    "S^\\prime &\\rightarrow& +~|~* \\\\\n",
    "\\end{array}$$\n",
    "\n",
    "![](./img/4.6.2.png)\n",
    "\n",
    "| STATE | $a$ | $+$ | $*$ | $\\$$ | $S$ | $S'$ | $S^{\\prime\\prime}$ |\n",
    "|:-----:|:-----:|:-----:|:-----:|:------:|:------:|:------:|:------:|\n",
    "| 0 | s2 |  |  |  | 1 |  |  |\n",
    "| 1 |  |  |  | acc |  |  |  |\n",
    "| 2 | s2 | r($S^{\\prime\\prime} \\rightarrow \\epsilon$) | r($S^{\\prime\\prime} \\rightarrow \\epsilon$) | r($S^{\\prime\\prime} \\rightarrow \\epsilon$) | 4 |  | 3 |\n",
    "| 3 | s2 | r($S \\rightarrow aS^{\\prime\\prime}$) | r($S \\rightarrow aS^{\\prime\\prime}$) | r($S \\rightarrow aS^{\\prime\\prime}$) |  |  |  |\n",
    "| 4 |  | s6 | s7 |  |  | 5 |  |\n",
    "| 5 | s2 | r($S^{\\prime\\prime} \\rightarrow \\epsilon$) | r($S^{\\prime\\prime} \\rightarrow \\epsilon$) | r($S^{\\prime\\prime} \\rightarrow \\epsilon$) | 4 |  | 8 |\n",
    "| 6 | r($S' \\rightarrow +$) | r($S' \\rightarrow +$) | r($S' \\rightarrow +$) | r($S' \\rightarrow +$) |  |  |  |\n",
    "| 7 | r($S' \\rightarrow *$) | r($S' \\rightarrow *$) | r($S' \\rightarrow *$) | r($S' \\rightarrow *$) |  |  |  |\n",
    "| 8 |  | r($S^{\\prime\\prime} \\rightarrow SS^\\prime S^{\\prime\\prime}$) | r($S^{\\prime\\prime} \\rightarrow SS^\\prime S^{\\prime\\prime}$) | r($S^{\\prime\\prime} \\rightarrow SS^\\prime S^{\\prime\\prime}$) |  |  |  |\n",
    "\n",
    "It is SLR.\n",
    "\n",
    "[LR(0)/SLR(1)](https://cyberzhg.github.io/toolbox/lr0?grammar=UyAtPiBTIFMgKyB8IFMgUyAqIHwgYQ==)\n",
    "\n",
    "[LR(0)/SLR(1)](https://cyberzhg.github.io/toolbox/lr0?grammar=UyAtPiBhIFMnJwpTJycgLT4gUyBTJyBTJycgfCDPtQpTJyAtPiArIHwgKg==)"
   ]
  },
  {
   "cell_type": "markdown",
   "metadata": {},
   "source": [
    "### 4.6.3\n",
    "\n",
    "> Show the actions of your parsing table from Exercise 4.6.2 on the input $aa*a+$."
   ]
  },
  {
   "cell_type": "markdown",
   "metadata": {},
   "source": [
    "| STACK | SYMBOLS | INPUT | ACTION |\n",
    "|:------|:--------|------:|:-------|\n",
    "| 0 |  | $aa*a+\\$$ | shift |\n",
    "| 0 2 | $a$ | $a*a+\\$$ | shift |\n",
    "| 0 2 2 | $aa$ | $*a+\\$$ | reduce by $S^{\\prime\\prime} \\rightarrow \\epsilon$ |\n",
    "| 0 2 2 3 | $aaS^{\\prime\\prime}$ | $*a+\\$$ | reduce by $S \\rightarrow aS^{\\prime\\prime}$ |\n",
    "| 0 2 4 | $aS$ | $*a+\\$$ | shift |\n",
    "| 0 2 4 7 | $aS*$ | $a+\\$$ | reduce by $S' \\rightarrow *$ |\n",
    "| 0 2 4 5 | $aSS'$ | $a+\\$$ | shift |\n",
    "| 0 2 4 5 2 | $aSS'a$ | $+\\$$ | reduce by $S^{\\prime\\prime} \\rightarrow \\epsilon$ |\n",
    "| 0 2 4 5 2 3 | $aSS'aS^{\\prime\\prime}$ | $+\\$$ | reduce by $S \\rightarrow aS^{\\prime\\prime}$ |\n",
    "| 0 2 4 5 4 | $aSS'S$ | $+\\$$ | shift |\n",
    "| 0 2 4 5 4 6 | $aSS'S+$ | $\\$$ | reduce by $S' \\rightarrow +$ |\n",
    "| 0 2 4 5 4 5 | $aSS'SS'$ | $\\$$ | reduce by $S^{\\prime\\prime} \\rightarrow \\epsilon$ |\n",
    "| 0 2 4 5 4 5 8 | $aSS'SS'S^{\\prime\\prime}$ | $\\$$ | reduce by $S^{\\prime\\prime} \\rightarrow SS'S^{\\prime\\prime}$ |\n",
    "| 0 2 4 5 8 | $aSS'S^{\\prime\\prime}$ | $\\$$ | reduce by $S^{\\prime\\prime} \\rightarrow SS'S^{\\prime\\prime}$ |\n",
    "| 0 2 3 | $aS^{\\prime\\prime}$ | $\\$$ | reduce by $S \\rightarrow aS^{\\prime\\prime}$ |\n",
    "| 0 1 | $S$ | $\\$$ | accept |"
   ]
  },
  {
   "cell_type": "markdown",
   "metadata": {},
   "source": [
    "### 4.6.4\n",
    "\n",
    "> For each of the (augmented) grammars of Exercise 4.2.2(a)-(g):\n",
    "\n",
    "> a) Construct the SLR sets of items and their GOTO function.\n",
    "\n",
    "> b) Indicate any action conflicts in your sets of items.\n",
    "\n",
    "> c) Construct the SLR-parsing table, if one exists.\n",
    "\n",
    "> (a) $S~\\rightarrow~0~S~1~|~0~1$"
   ]
  },
  {
   "cell_type": "markdown",
   "metadata": {},
   "source": [
    "[LR(0)/SLR(1)](https://cyberzhg.github.io/toolbox/lr0?grammar=UyAtPiAwIFMgMQogICB8IDAgMQ==)"
   ]
  },
  {
   "cell_type": "markdown",
   "metadata": {},
   "source": [
    "> (b) $S~\\rightarrow~+~S~S~|*~S~S~|~a$"
   ]
  },
  {
   "cell_type": "markdown",
   "metadata": {},
   "source": [
    "[LR(0)/SLR(1)](https://cyberzhg.github.io/toolbox/lr0?grammar=UyAtPiArIFMgUwogICB8ICogUyBTCiAgIHwgYQ==)"
   ]
  },
  {
   "cell_type": "markdown",
   "metadata": {},
   "source": [
    "> (c) $S~\\rightarrow~S~(~S~)~|~\\epsilon$"
   ]
  },
  {
   "cell_type": "markdown",
   "metadata": {},
   "source": [
    "[LR(0)/SLR(1)](https://cyberzhg.github.io/toolbox/lr0?grammar=UyAtPiBTICggUyApCiAgIHwgz7U=)"
   ]
  },
  {
   "cell_type": "markdown",
   "metadata": {},
   "source": [
    "> d) $S~\\rightarrow~S~+~S~|~S~S~|~(~S~)|~S~*~|~a$ with string $(a+a)*a$."
   ]
  },
  {
   "cell_type": "markdown",
   "metadata": {},
   "source": [
    "[LR(0)/SLR(1)](https://cyberzhg.github.io/toolbox/lr0?grammar=UyAtPiBTICsgUwogICB8IFMgUwogICB8ICggUyApCiAgIHwgUyAqCiAgIHwgYQ==)\n",
    "\n",
    "Not SLR(1)."
   ]
  },
  {
   "cell_type": "markdown",
   "metadata": {},
   "source": [
    "> e) $S~\\rightarrow~(~L~)~|~a$ and $L~\\rightarrow~L~,~S~|~S~$ with string $((a,a),a,(a))$."
   ]
  },
  {
   "cell_type": "markdown",
   "metadata": {},
   "source": [
    "[LR(0)/SLR(1)](https://cyberzhg.github.io/toolbox/lr0?grammar=UyAtPiAoIEwgKQogICB8IGEKTCAtPiBMICwgUwogICB8IFM=)"
   ]
  },
  {
   "cell_type": "markdown",
   "metadata": {},
   "source": [
    "> f) $S~\\rightarrow~a~S~b~S~|~b~S~a~S~|~\\epsilon$ with string $aabbab$."
   ]
  },
  {
   "cell_type": "markdown",
   "metadata": {},
   "source": [
    "[LR(0)/SLR(1)](https://cyberzhg.github.io/toolbox/lr0?grammar=UyAtPiBhIFMgYiBTCiAgIHwgYiBTIGEgUwogICB8IM+1)"
   ]
  },
  {
   "cell_type": "markdown",
   "metadata": {},
   "source": [
    "> g) The following grammar for boolean expressions:"
   ]
  },
  {
   "cell_type": "markdown",
   "metadata": {},
   "source": [
    "[LR(0)/SLR(1)](https://cyberzhg.github.io/toolbox/lr0?grammar=YmV4cHIgLT4gYmV4cHIgb3IgYnRlcm0gfCBidGVybSAKYnRlcm0gLT4gYnRlcm0gYW5kIGJmYWN0b3IgfCBiZmFjdG9yIApiZmFjdG9yIC0+IG5vdCBiZmFjdG9yIHwgKCBiZXhwciApIHwgdHJ1ZSB8IGZhbHNl)"
   ]
  },
  {
   "cell_type": "markdown",
   "metadata": {},
   "source": [
    "### 4.6.5\n",
    "\n",
    "> Show that the following grammar:\n",
    "\n",
    "> $$\n",
    "\\begin{array}{lcl}\n",
    "S &\\rightarrow& A~a~A~b~|~B~b~B~a \\\\\n",
    "A &\\rightarrow& \\epsilon \\\\\n",
    "B &\\rightarrow& \\epsilon \\\\\n",
    "\\end{array}\n",
    "$$\n",
    "\n",
    "> is LL(1) but not SLR(1)."
   ]
  },
  {
   "cell_type": "markdown",
   "metadata": {},
   "source": [
    "LL(1):\n",
    "\n",
    "|   | $a$ | $b$ |\n",
    "|:-:|:--|:--|\n",
    "| $S$ | $S \\rightarrow A~a~A~b$ | $S \\rightarrow B~b~B~a$ |\n",
    "| $A$ | $A \\rightarrow \\epsilon$ | $A \\rightarrow \\epsilon$ |\n",
    "| $B$ | $B \\rightarrow \\epsilon$ | $B \\rightarrow \\epsilon$ |\n",
    "\n",
    "SLR(1):\n",
    "\n",
    "$I_0$: \n",
    "$$\\begin{array}{lcl}\n",
    "G &\\rightarrow& .S \\\\\n",
    "\\hline\n",
    "S &\\rightarrow& .AaAb \\\\\n",
    "S &\\rightarrow& .BbBa \\\\\n",
    "A &\\rightarrow& . \\\\\n",
    "B &\\rightarrow& . \\\\\n",
    "\\end{array}$$\n",
    "\n",
    "GOTO($I_0$, $a$) = r($A \\rightarrow \\epsilon$) / r($B \\rightarrow \\epsilon$)\n",
    "\n",
    "Conflicts."
   ]
  },
  {
   "cell_type": "markdown",
   "metadata": {},
   "source": [
    "### 4.6.6\n",
    "\n",
    "> Show that the following grammar:\n",
    "\n",
    "> $$\n",
    "\\begin{array}{lcl}\n",
    "S &\\rightarrow& S~A~|~A \\\\\n",
    "A &\\rightarrow& a \\\\\n",
    "\\end{array}\n",
    "$$\n",
    "\n",
    "> is SLR(1) but not LL(1)."
   ]
  },
  {
   "cell_type": "markdown",
   "metadata": {},
   "source": [
    "LL(1):\n",
    "\n",
    "Left recursion.\n",
    "\n",
    "SLR(1):\n",
    "\n",
    "![](./img/4.6.6.png)\n",
    "\n",
    "| STATE | $a$ | $\\$$ | $S$ | $A$ |\n",
    "|:-----:|:-----:|:------:|:-----:|:-----:|\n",
    "| 0 | s3 |  | 2 | 1 |\n",
    "| 1 | r($S \\rightarrow A$) | r($S \\rightarrow A$) |  |  |\n",
    "| 2 | s3 | acc |  | 4 |\n",
    "| 3 | r($A \\rightarrow a$) | r($A \\rightarrow a$) |  |  |\n",
    "| 4 | r($S \\rightarrow SA$) | r($S \\rightarrow SA$) |  |  |\n",
    "\n",
    "[LR(0)/SLR(1)](https://cyberzhg.github.io/toolbox/lr0?grammar=UyAtPiBTIEEKICAgfCBBCkEgLT4gYQ==)\n",
    "\n",
    "### 4.6.7\n",
    "\n",
    "### 4.6.8\n",
    "\n",
    "### 4.6.9"
   ]
  }
 ],
 "metadata": {
  "kernelspec": {
   "display_name": "Python 2",
   "language": "python",
   "name": "python2"
  },
  "language_info": {
   "codemirror_mode": {
    "name": "ipython",
    "version": 2
   },
   "file_extension": ".py",
   "mimetype": "text/x-python",
   "name": "python",
   "nbconvert_exporter": "python",
   "pygments_lexer": "ipython2",
   "version": "2.7.12"
  }
 },
 "nbformat": 4,
 "nbformat_minor": 2
}
