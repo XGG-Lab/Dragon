{
 "cells": [
  {
   "cell_type": "markdown",
   "metadata": {},
   "source": [
    "## 4.3 Writing a Grammar"
   ]
  },
  {
   "cell_type": "markdown",
   "metadata": {},
   "source": [
    "### 4.3.1\n",
    "\n",
    "> The following is a grammar for regular expressions over symbols $a$ and $b$ only, using `+` in place of `|` for union, to avoid conflict with the use of vertical bar as a metasymbol in grammars:\n",
    "\n",
    "> $$\n",
    "\\begin{array}{lll}\n",
    "rexpr &\\rightarrow& rexpr~+~rterm~|~rterm \\\\\n",
    "rterm &\\rightarrow& rterm~rfactor~|~rfactor \\\\\n",
    "rfactor &\\rightarrow& rfactor~*~|~rprimary \\\\\n",
    "rprimary &\\rightarrow& \\mathbf{a}~|~\\mathbf{b} \\\\\n",
    "\\end{array}\n",
    "$$\n",
    "\n",
    "> a) Left factor this grammar."
   ]
  },
  {
   "cell_type": "markdown",
   "metadata": {},
   "source": [
    "No left factor."
   ]
  },
  {
   "cell_type": "markdown",
   "metadata": {},
   "source": [
    "> b) Dose left factoring make the grammar suitable for top-down parsing?"
   ]
  },
  {
   "cell_type": "markdown",
   "metadata": {},
   "source": [
    "No."
   ]
  },
  {
   "cell_type": "markdown",
   "metadata": {},
   "source": [
    "> c) In addition to left factoring, eliminate left recursion from the original grammar."
   ]
  },
  {
   "cell_type": "markdown",
   "metadata": {},
   "source": [
    "$$\n",
    "\\begin{array}{lll}\n",
    "rexpr &\\rightarrow& rterm~rexpr' \\\\\n",
    "rexpr' &\\rightarrow& +~rexpr'~|~\\epsilon \\\\\n",
    "rterm &\\rightarrow& rfactor~rterm' \\\\\n",
    "rterm' &\\rightarrow& rfactor~rterm'~|~\\epsilon \\\\\n",
    "rfactor &\\rightarrow& rprimary~rfactor' \\\\\n",
    "rfactor' &\\rightarrow& *~rfactor'~|~\\epsilon \\\\\n",
    "rprimary &\\rightarrow& \\mathbf{a}~|~\\mathbf{b} \\\\\n",
    "\\end{array}\n",
    "$$"
   ]
  },
  {
   "cell_type": "markdown",
   "metadata": {},
   "source": [
    "> d) Is the resulting grammar suitable for top-down parsing?"
   ]
  },
  {
   "cell_type": "markdown",
   "metadata": {},
   "source": [
    "Yes.\n",
    "\n",
    "[tool](https://cyberzhg.github.io/toolbox/cfg2ll?grammar=cmV4cHIgLT4gcmV4cHIgKyBydGVybSB8IHJ0ZXJtCnJ0ZXJtIC0+IHJ0ZXJtIHJmYWN0b3IgfCByZmFjdG9yCnJmYWN0b3IgLT4gcmZhY3RvciAqIHwgcnByaW1hcnkKcnByaW1hcnkgLT4gYSB8IGI=)"
   ]
  },
  {
   "cell_type": "markdown",
   "metadata": {},
   "source": [
    "### 4.3.2\n",
    "\n",
    "> Repeat Exercise 4.3.1 on the following grammars:\n",
    "\n",
    "> a) The grammar of Exercise 4.2.1.\n",
    "\n",
    "> $$\n",
    "S~\\rightarrow~S~S~+~|~S~S~*~|~a$$"
   ]
  },
  {
   "cell_type": "markdown",
   "metadata": {},
   "source": [
    "Left factoring:\n",
    "\n",
    "$$\n",
    "\\begin{array}{lcl}\n",
    "S &\\rightarrow& S~S~S'~|~a \\\\\n",
    "S' &\\rightarrow& +~|~* \\\\\n",
    "\\end{array}\n",
    "$$\n",
    "\n",
    "Left recursion:\n",
    "\n",
    "$$\n",
    "\\begin{array}{lcl}\n",
    "S &\\rightarrow& a~S^{\\prime\\prime} \\\\\n",
    "S^{\\prime\\prime} &\\rightarrow& S~S^\\prime~S^{\\prime\\prime}~|~\\epsilon \\\\\n",
    "S^\\prime &\\rightarrow& +~|~* \\\\\n",
    "\\end{array}\n",
    "$$\n",
    "\n",
    "[tool](https://cyberzhg.github.io/toolbox/cfg2ll.html?grammar=UyAtPiBTIFMgKyB8IFMgUyAqIHwgYQ==)"
   ]
  },
  {
   "cell_type": "markdown",
   "metadata": {},
   "source": [
    "> b) The grammar of Exercise 4.2.2(a).\n",
    "\n",
    "> $$\n",
    "S~\\rightarrow~0~S~1~|~0~1$$"
   ]
  },
  {
   "cell_type": "markdown",
   "metadata": {},
   "source": [
    "Left factoring:\n",
    "\n",
    "$$\n",
    "\\begin{array}{lcl}\n",
    "S &\\rightarrow& 0~S' \\\\\n",
    "S' &\\rightarrow& S~1~|~1 \\\\\n",
    "\\end{array}\n",
    "$$\n",
    "\n",
    "Left recursion:\n",
    "\n",
    "$$\n",
    "\\begin{array}{lcl}\n",
    "S &\\rightarrow& 0~S' \\\\\n",
    "S' &\\rightarrow& 0~S'~1~|~1 \\\\\n",
    "\\end{array}\n",
    "$$\n",
    "\n",
    "[tool](https://cyberzhg.github.io/toolbox/cfg2ll.html?grammar=UyAtPiAwIFMgMSB8IDAgMQ==)"
   ]
  },
  {
   "cell_type": "markdown",
   "metadata": {},
   "source": [
    "> c) The grammar of Exercise 4.2.2(c).\n",
    "\n",
    "> $$\n",
    "S~\\rightarrow~S~(~S~)~S~|~\\epsilon$$"
   ]
  },
  {
   "cell_type": "markdown",
   "metadata": {},
   "source": [
    "Left recursion:\n",
    "\n",
    "$$\n",
    "\\begin{array}{lcl}\n",
    "S &\\rightarrow& (~S~)~S~S~|~\\epsilon \\\\\n",
    "\\end{array}\n",
    "$$\n",
    "\n",
    "[tool](https://cyberzhg.github.io/toolbox/cfg2ll?grammar=UyAtPiBTICggUyApIFMgfCDPtQ==)"
   ]
  },
  {
   "cell_type": "markdown",
   "metadata": {},
   "source": [
    "> d) The grammar of Exercise 4.2.2(e).\n",
    "\n",
    "> $$\n",
    "\\begin{array}{lll}\n",
    "S &\\rightarrow& (~L~)~|~a \\\\\n",
    "L &\\rightarrow& L~,~S~|~S~ \\\\\n",
    "\\end{array}$$"
   ]
  },
  {
   "cell_type": "markdown",
   "metadata": {},
   "source": [
    "Left recursion:\n",
    "\n",
    "$$\n",
    "\\begin{array}{lcl}\n",
    "S &\\rightarrow& (~L~)~|~a \\\\\n",
    "L &\\rightarrow& (~L~)~L'~|~a~L' \\\\\n",
    "L' &\\rightarrow& ,~S~L'~|~\\epsilon \\\\\n",
    "\\end{array}\n",
    "$$\n",
    "\n",
    "[tool](https://cyberzhg.github.io/toolbox/cfg2ll?grammar=UyAtPiAoIEwgKSB8IGEgTCAtPiBMICwgUyB8IFM=)"
   ]
  },
  {
   "cell_type": "markdown",
   "metadata": {},
   "source": [
    "> e) The grammar of Exercise 4.2.2(g).\n",
    "\n",
    "> $$\n",
    "\\begin{array}{lll}\n",
    "bexpr &\\rightarrow& bexpr~\\mathbf{or}~bterm~|~bterm \\\\\n",
    "bterm &\\rightarrow& bterm~\\mathbf{and}~bfactor~|~bfactor \\\\\n",
    "bfactor &\\rightarrow& \\mathbf{not}~bfactor~|~(~bexpr~)~|~\\mathbf{true}~|~\\mathbf{false} \\\\\n",
    "\\end{array}\n",
    "$$"
   ]
  },
  {
   "cell_type": "markdown",
   "metadata": {},
   "source": [
    "Left recursion:\n",
    "\n",
    "$$\n",
    "\\begin{array}{lcl}\n",
    "bexpr &\\rightarrow& bterm~bexpr' \\\\\n",
    "bexpr' &\\rightarrow& \\mathbf{or}~bterm~bexpr'~|~\\epsilon \\\\\n",
    "bterm &\\rightarrow& bfactor~bterm' \\\\\n",
    "bterm' &\\rightarrow& \\mathbf{and}~bfactor~bterm'~|~\\epsilon \\\\\n",
    "bfactor &\\rightarrow& \\mathbf{not}~bfactor~|~(~bexpr~)~|~\\mathbf{true}~|~\\mathbf{false} \\\\\n",
    "\\end{array}\n",
    "$$\n",
    "\n",
    "[tool](https://cyberzhg.github.io/toolbox/cfg2ll?grammar=YmV4cHIgLT4gYmV4cHIgb3IgYnRlcm0gfCBidGVybSAKYnRlcm0gLT4gYnRlcm0gYW5kIGJmYWN0b3IgfCBiZmFjdG9yIApiZmFjdG9yIC0+IG5vdCBiZmFjdG9yIHwgKCBiZXhwciApIHwgdHJ1ZSB8IGZhbHNl)"
   ]
  },
  {
   "cell_type": "markdown",
   "metadata": {},
   "source": [
    "### 4.3.3\n",
    "\n",
    "> The following grammar is proposed to remove the \"dangling-else ambiguity\" discussed in Section 4.3.2:\n",
    "\n",
    "> $$\n",
    "\\begin{array}{lcl}\n",
    "stmt &\\rightarrow& \\mathbf{if}~expr~\\mathbf{then}~stmt \\\\\n",
    "&|& matchedStmt \\\\\n",
    "matchedStmt &\\rightarrow& \\mathbf{if}~expr~\\mathbf{then}~matchedStmt~\\mathbf{else}~stmt \\\\\n",
    "&|& \\mathbf{other} \\\\\n",
    "\\end{array}\n",
    "$$\n",
    "\n",
    "> Show that this grammar is still ambiguous."
   ]
  },
  {
   "cell_type": "markdown",
   "metadata": {},
   "source": [
    "$\\mathbf{if}~A~\\mathbf{then}~\\mathbf{if}~B~\\mathbf{then}~\\mathbf{if}~C~\\mathbf{then}~D~\\mathbf{else}~E~\\mathbf{else}~F$\n",
    "\n",
    "```\n",
    "if A\n",
    "then\n",
    "    if B\n",
    "    then\n",
    "        if C\n",
    "        then D\n",
    "    else E\n",
    "else F\n",
    "```\n",
    "\n",
    "```\n",
    "if A\n",
    "then\n",
    "    if B\n",
    "    then\n",
    "        if C\n",
    "        then D\n",
    "        else E\n",
    "    else F\n",
    "```"
   ]
  }
 ],
 "metadata": {
  "kernelspec": {
   "display_name": "Python 2",
   "language": "python",
   "name": "python2"
  },
  "language_info": {
   "codemirror_mode": {
    "name": "ipython",
    "version": 2
   },
   "file_extension": ".py",
   "mimetype": "text/x-python",
   "name": "python",
   "nbconvert_exporter": "python",
   "pygments_lexer": "ipython2",
   "version": "2.7.12"
  }
 },
 "nbformat": 4,
 "nbformat_minor": 2
}
