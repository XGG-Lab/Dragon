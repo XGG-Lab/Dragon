{
 "cells": [
  {
   "cell_type": "markdown",
   "metadata": {},
   "source": [
    "## 6.3 Types and Declarations"
   ]
  },
  {
   "cell_type": "markdown",
   "metadata": {},
   "source": [
    "### 6.3.1\n",
    "\n",
    "> Determine the types and relative addresses for the identifiers in the following sequence of declarations:\n",
    "\n",
    "> ```\n",
    "float x;\n",
    "record { float x; float y; } p;\n",
    "record { int tag; float x; float y;} q;\n",
    "```"
   ]
  },
  {
   "cell_type": "markdown",
   "metadata": {},
   "source": [
    "| id | type | relative address |\n",
    "|:---|:-----|:-----------------|\n",
    "| `x` | `float` | 0 |\n",
    "| `p.x` | `float` | 0 |\n",
    "| `p.y` | `float` | 8 |\n",
    "| `p` | `record` | 8 |\n",
    "| `q.tag` | `int` | 0 |\n",
    "| `q.x` | `float` | 4 |\n",
    "| `q.y` | `float` | 12 |\n",
    "| `q` | `record` | 24 |"
   ]
  },
  {
   "cell_type": "markdown",
   "metadata": {},
   "source": [
    "### 6.3.2\n",
    "\n",
    "> Extend the handling of field names in Fig. 6.18 to classes and single-inheritance class hierarchies.\n",
    "\n",
    "> a) Give an implementation of class _Env_ that allows linked symbol tables, so that a subclass can either redefine a field name or refer directly to a field name in a superclass."
   ]
  },
  {
   "cell_type": "markdown",
   "metadata": {},
   "source": [
    "Each field name is a linked list, subclass insert new definition to the head of the linked list."
   ]
  },
  {
   "cell_type": "markdown",
   "metadata": {},
   "source": [
    "> b) Give a translation scheme that allocates a contiguous data area for the fields in a class, including inherited fields. Inherited fields must maintain the relative addresses they were assigned in the layout for the superclass."
   ]
  },
  {
   "cell_type": "markdown",
   "metadata": {},
   "source": [
    "Append."
   ]
  }
 ],
 "metadata": {
  "kernelspec": {
   "display_name": "Python 2",
   "language": "python",
   "name": "python2"
  },
  "language_info": {
   "codemirror_mode": {
    "name": "ipython",
    "version": 2
   },
   "file_extension": ".py",
   "mimetype": "text/x-python",
   "name": "python",
   "nbconvert_exporter": "python",
   "pygments_lexer": "ipython2",
   "version": "2.7.12"
  }
 },
 "nbformat": 4,
 "nbformat_minor": 2
}
