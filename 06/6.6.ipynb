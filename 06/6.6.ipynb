{
 "cells": [
  {
   "cell_type": "markdown",
   "metadata": {},
   "source": [
    "## 6.6 Control Flow"
   ]
  },
  {
   "cell_type": "markdown",
   "metadata": {},
   "source": [
    "### 6.6.1\n",
    "\n",
    "> Add rules to the syntax-directed definition of Fig. 6.36 for the following control-flow constructs:\n",
    "\n",
    "> a) A repeat-statement $\\mathbf{repeat}~S~\\mathbf{while}~B$."
   ]
  },
  {
   "cell_type": "markdown",
   "metadata": {},
   "source": [
    "$S~\\rightarrow~\\mathbf{repeat}~S_1~\\mathbf{while}~B$\n",
    "\n",
    "$$\\begin{array}{lll}\n",
    "begin &=& newlabel() \\\\\n",
    "B.true &=& begin \\\\\n",
    "B.false &=& S.next \\\\\n",
    "S_1.next &=& newlabel() \\\\\n",
    "S.code &=& label(begin)~||~S_1.code~||~\\\\\n",
    "& & label(S_1.next)~||~B.code\n",
    "\\end{array}$$"
   ]
  },
  {
   "cell_type": "markdown",
   "metadata": {},
   "source": [
    "> b) A for-loop $\\mathbf{for}~(S_1;~B;~S_2)~S_3$."
   ]
  },
  {
   "cell_type": "markdown",
   "metadata": {},
   "source": [
    "$S~\\rightarrow~\\mathbf{for}~(S_1;~B;~S_2)~S_3$\n",
    "\n",
    "$$\\begin{array}{lll}\n",
    "S_1.next &=& newlabel() \\\\\n",
    "B.true &=& newlabel() \\\\\n",
    "B.false &=& S.next \\\\\n",
    "S_2.next &=& S_1.next \\\\\n",
    "S_3.next &=& newlabel() \\\\\n",
    "S.code &=& S_1.code~||~ \\\\\n",
    "& & label(S_1.next)~||~B.code~||~\\\\\n",
    "& & label(B.true)~||~S_3.code~||~\\\\\n",
    "& & label(S_3.next)~||~S_2.code~||~\\\\\n",
    "& & gen(\\text{'goto'}~S_1.next)\n",
    "\\end{array}$$"
   ]
  },
  {
   "cell_type": "markdown",
   "metadata": {},
   "source": [
    "### 6.6.2\n",
    "\n",
    "> Modern machines try to execute many instructions at the same time, including branching instructions. Thus, there is a severe cost if the machine speculatively follows one branch, when control actually goes another way. It is therefore desirable to minimize the number of branches. Notice that the implementation of a while-loop in Fig. 6.35(c) has two branches per iteration: one to enter the body from the condition $B$ and the other to jump back to the code for $B$. As a result, it is usually preferable to implement $\\mathbf{while}~(B)~S$ as if it were $\\mathbf{if}~B~\\{~\\mathbf{repeat}~S~\\mathbf{until}~!(B)~\\}$. Show what the code layout looks like for this translation, and revise the rule for while-loops in Fig. 6.36."
   ]
  },
  {
   "cell_type": "markdown",
   "metadata": {},
   "source": [
    "Layout:\n",
    "\n",
    "$$\\begin{array}{c}\n",
    "B.code \\\\\n",
    "B.true \\\\\n",
    "S_1.code \\\\\n",
    "S_1.next \\\\\n",
    "B.code \\\\\n",
    "S.next \\\\\n",
    "\\end{array}$$\n",
    "\n",
    "Rule:\n",
    "\n",
    "$S~\\rightarrow~\\mathbf{if}~B~\\{~\\mathbf{repeat}~S~\\mathbf{until}~!(B)~\\}$\n",
    "\n",
    "$$\\begin{array}{lll}\n",
    "B.true &=& newlabel() \\\\\n",
    "B.false &=& S.next \\\\\n",
    "S_1.next &=& newlabel() \\\\\n",
    "S.code &=& B.code~||~\\\\\n",
    "& & label(B.true)~||~S_1.code~||~\\\\\n",
    "& & label(S_1.next)~||~B.code\n",
    "\\end{array}$$"
   ]
  },
  {
   "cell_type": "markdown",
   "metadata": {},
   "source": [
    "### 6.6.3\n",
    "\n",
    "> Suppose that there were an \"exclusive-or\" in C. Write the rule for this operator in the style of Fig. 6.37."
   ]
  },
  {
   "cell_type": "markdown",
   "metadata": {},
   "source": [
    "$B~\\rightarrow~\\mathbf{if}~(B_1)~!B_{2t}~\\mathbf{else}~B_{2f}$\n",
    "\n",
    "$$\\begin{array}{lll}\n",
    "B_1.true &=& newlabel() \\\\\n",
    "B_1.false &=& newlabel() \\\\\n",
    "B_{2t}.true &=& B.false \\\\\n",
    "B_{2t}.false &=& B.true \\\\\n",
    "B_{2f}.true &=& B.true \\\\\n",
    "B_{2f}.false &=& B.false \\\\\n",
    "B.code &=& B_1.code~||~\\\\\n",
    "& & label(B_1.true)~||~B_{2t}.code~||~\\\\\n",
    "& & label(B_1.false)~||~B_{2f}.code \\\\\n",
    "\\end{array}$$"
   ]
  },
  {
   "cell_type": "markdown",
   "metadata": {},
   "source": [
    "### 6.6.4\n",
    "\n",
    "> Translate the following expressions using the goto-avoiding translation scheme of Section 6.6.5:\n",
    "\n",
    "> a) `if (a==b && c==d || e==f) x == 1;`;"
   ]
  },
  {
   "cell_type": "markdown",
   "metadata": {},
   "source": [
    "$$\\begin{array}{rl}\n",
    "& \\text{ifFalse a==b goto L3} \\\\\n",
    "& \\text{if c==d goto L2} \\\\\n",
    "L3: & \\text{ifFalse e==f goto L1} \\\\\n",
    "L2: & x == 1 \\\\\n",
    "L1: & \\\\\n",
    "\\end{array}$$"
   ]
  },
  {
   "cell_type": "markdown",
   "metadata": {},
   "source": [
    "> b) `if (a==b || c==d || e==f) x == 1;`;"
   ]
  },
  {
   "cell_type": "markdown",
   "metadata": {},
   "source": [
    "$$\\begin{array}{rl}\n",
    "& \\text{if a==b goto L2} \\\\\n",
    "& \\text{if c==d goto L2} \\\\\n",
    "& \\text{ifFalse e==f goto L1} \\\\\n",
    "L2: & x == 1\\\\\n",
    "L1: & \\\\\n",
    "\\end{array}$$"
   ]
  },
  {
   "cell_type": "markdown",
   "metadata": {},
   "source": [
    "> c) `if (a==b && c==d && e==f) x == 1;`;"
   ]
  },
  {
   "cell_type": "markdown",
   "metadata": {},
   "source": [
    "$$\\begin{array}{rl}\n",
    "& \\text{ifFalse a==b goto L1} \\\\\n",
    "& \\text{ifFalse c==d goto L1} \\\\\n",
    "& \\text{ifFalse e==f goto L1} \\\\\n",
    "L2: & x == 1\\\\\n",
    "L1: & \\\\\n",
    "\\end{array}$$"
   ]
  },
  {
   "cell_type": "markdown",
   "metadata": {},
   "source": [
    "### 6.6.5\n",
    "\n",
    "> Give a translation scheme based on the syntax-directed definition in Figs. 6.36 and 6.37."
   ]
  },
  {
   "cell_type": "markdown",
   "metadata": {},
   "source": [
    "### 6.6.6\n",
    "\n",
    "> Adapt the semantic rules in Figs. 6.36 and 6.37 to allow control to fall through, using rules like the ones in Figs. 6.39 and 6.40."
   ]
  },
  {
   "cell_type": "markdown",
   "metadata": {},
   "source": [
    "| PRODUCTION | SEMANTIC RULES |\n",
    "|:-----------|:---------------|\n",
    "| $P \\rightarrow S$ | $\\begin{array}{lll} S.next &=& fall \\\\ P.code &=& S.code \\end{array}$ |\n",
    "| $S \\rightarrow \\mathbf{assign}$ | $\\begin{array}{lll} S.code &=& \\mathbf{assign}.code \\end{array}$ |\n",
    "| $S \\rightarrow \\mathbf{if}~(~B~)~S_1$ | $\\begin{array}{lll} B.true &=& fall \\\\ B.false &=& S.next \\\\ S_1.next &=& S.next \\\\ S.code &=& B.code~||~S_1.code \\end{array}$ |\n",
    "| $S \\rightarrow \\mathbf{if}~(~B~)~S_1~\\mathbf{else}~S_2$ | $\\begin{array}{lll} B.true &=& fall \\\\ B.false &=& newlabel() \\\\ S_1.next &=& S.next \\\\ S_2.next &=& S.next \\\\ S.code &=& B.code~||~S_1.code~||~\\\\ & & gen(\\text{'goto'}~S_1.next)~||~\\\\& &S_2.code \\end{array}$ |\n",
    "| $S \\rightarrow \\mathbf{while}~(~B~)~S_1$ | $\\begin{array}{lll} begin &=& newlabel() \\\\ B.true &=& fall \\\\ B.false &=& S.next \\\\ S_1.next &=& begin \\\\ S.code &=& label(begin)~||~B.code~||~ \\\\& & S_1.code~||~gen(\\text{'goto'}~begin) \\end{array}$ |\n",
    "| $S \\rightarrow S_1~S_2$ | $\\begin{array}{lll} S_1.next &=& fall \\\\ S_2.next &=& S.next \\\\ S.code &=& S_1.code~||~S_2.code \\end{array}$ |\n",
    "| | |\n",
    "| $B \\rightarrow B_1~||~B_2$ | $\\begin{array}{lll} B_1.true &=& \\mathbf{if}~ B.true \\ne fall ~\\mathbf{then}~ B.true ~\\mathbf{else}~ newlabel() \\\\ B_1.false &=& fall \\\\ B_2.true &=& B.true \\\\ B_2.false &=& B.false \\\\ B.code &=& \\mathbf{if}~ B.true \\ne fall ~\\mathbf{then}~ B_1.code ~||~ B_2.code \\\\ & & \\mathbf{else}~ B_1.code~||~B_2.code~||~label(B_1.true) \\end{array}$ |\n",
    "| $B \\rightarrow B_1~\\&\\&~B_2$ | $\\begin{array}{lll} B_1.true &=& fall \\\\ B_1.false &=& \\mathbf{if}~ B.false \\ne fall ~\\mathbf{then}~ B.true ~\\mathbf{else}~ newlabel() \\\\ B_2.true &=& B.true \\\\ B_2.false &=& B.false \\\\ B.code &=& \\mathbf{if}~ B.false \\ne fall ~\\mathbf{then}~ B_1.code ~||~ B_2.code \\\\ & & \\mathbf{else}~ B_1.code~||~B_2.code~||~label(B_1.true) \\end{array}$ |\n",
    "| $B \\rightarrow !~B_1$ | $\\begin{array}{lll} B_1.true &=& B.false \\\\ B_1.false &=& B.true \\\\ B.code &=& B_1.code \\end{array}$ |\n",
    "| $B \\rightarrow E_1~\\mathbf{rel}~E_2$ | $\\begin{array}{lll} test &=& E_1.addr ~\\mathbf{rel}~.op E_2.addr \\\\ s &=& \\mathbf{if}~B.true \\ne fall ~\\mathbf{and}~ B.false \\ne fall ~\\mathbf{then} \\\\& & ~~~~gen(\\text{'if'}~test~\\text{'goto'}~B.true)~||~gen(\\text{'goto'}~B.false) \\\\& & \\mathbf{else}~\\mathbf{if}~B.true \\ne fall ~\\mathbf{then}~ gen(\\text{'if'}~test~\\text{'goto'}~B.true) \\\\& & \\mathbf{else}~\\mathbf{if}~B.false \\ne fall ~\\mathbf{then}~ gen(\\text{'ifFalse'}~test~\\text{'goto'}~B.false) \\\\& &\\mathbf{else}~\\text{''} \\\\B.code &=& E_1.code~||~E_2.code~||~s \\end{array}$ |\n",
    "| $B \\rightarrow \\mathbf{true}$ | $\\begin{array}{lll} B.code &=& gen(\\text{'goto'}~B.true) \\end{array}$ |\n",
    "| $B \\rightarrow \\mathbf{false}$ | $\\begin{array}{lll} B.code &=& gen(\\text{'goto'}~B.false) \\end{array}$ |"
   ]
  },
  {
   "cell_type": "markdown",
   "metadata": {},
   "source": [
    "### 6.6.7\n",
    "\n",
    "> The semantic rules for statements in Exercise 6.6.6 generate unnecessary labels. Modify the rules for statements in Fig.  6.36 to create labels as needed, using a special label _deferred_ to mean that a label has not yet been created. Your rules must generate code similar to that in Example 6.21."
   ]
  },
  {
   "cell_type": "markdown",
   "metadata": {},
   "source": [
    "### 6.6.8\n",
    "\n",
    "> Section 6.6.5 talks about using fall-through code to minimize the number of jumps in the generated intermediate code. However, it does not take advantage of the option to replace a condition by its complement, e.g., replace `if a<b goto L1; goto L2` by `if a>=b goto L2; goto L1`. Develop a SDD that does take advantage of this option when needed."
   ]
  }
 ],
 "metadata": {
  "kernelspec": {
   "display_name": "Python 2",
   "language": "python",
   "name": "python2"
  },
  "language_info": {
   "codemirror_mode": {
    "name": "ipython",
    "version": 2
   },
   "file_extension": ".py",
   "mimetype": "text/x-python",
   "name": "python",
   "nbconvert_exporter": "python",
   "pygments_lexer": "ipython2",
   "version": "2.7.12"
  }
 },
 "nbformat": 4,
 "nbformat_minor": 2
}
