{
 "cells": [
  {
   "cell_type": "markdown",
   "metadata": {},
   "source": [
    "## 6.4 Translation of Expressions"
   ]
  },
  {
   "cell_type": "markdown",
   "metadata": {},
   "source": [
    "### 6.4.1\n",
    "\n",
    "> Add to the translation of Fig. 6.19 rules for the following productions:\n",
    "\n",
    "> a) $E~\\rightarrow~E_1~*~E_2$.\n",
    "\n",
    "> b) $E~\\rightarrow~+~E_1$."
   ]
  },
  {
   "cell_type": "markdown",
   "metadata": {},
   "source": [
    "| PRODUCTION | SEMANTIC RULES |\n",
    "|:-----------|:---------------|\n",
    "|$S\\rightarrow\\mathbf{id}=E;$|$\\begin{array}{ll}S.code =&E.code~||~\\\\ &gen(top.get(\\mathbf{id}.lexeme)~'='~E.addr)\\end{array}$|\n",
    "|$E\\rightarrow E_1+E_2$|$\\begin{array}{ll}E.addr =& \\mathbf{new}~Temp()\\\\ E.code =& E_1.code~||~E_2.code~||~\\\\&gen(E.addr~'='~E_1.addr~'+'~E_2.addr)\\end{array}$|\n",
    "|$E\\rightarrow E_1*E_2$|$\\begin{array}{ll}E.addr =& \\mathbf{new}~Temp()\\\\ E.code =& E_1.code~||~E_2.code~||~\\\\&gen(E.addr~'='~E_1.addr~'*'~E_2.addr)\\end{array}$|\n",
    "|$~~|+E_1$|$\\begin{array}{ll}E.addr =& E_1.addr\\\\ E.code =& E_1.code\\end{array}$|\n",
    "|$~~|-E_1$|$\\begin{array}{ll}E.addr =& \\mathbf{new}~Temp()\\\\ E.code =& E_1.code~||~\\\\&gen(E.addr~'='~'\\mathbf{minus}'~E_1.addr)\\end{array}$|\n",
    "|$~~|~(E_1)$|$\\begin{array}{ll}E.addr=&E_1.addr\\\\E.code=&E_1.code\\end{array}$|\n",
    "|$~~|~\\mathbf{id}$|$\\begin{array}{ll}E.addr=&top.get(\\mathbf{id}.lexeme)\\\\ E.code =& ''\\end{array}$"
   ]
  },
  {
   "cell_type": "markdown",
   "metadata": {},
   "source": [
    "### 6.4.2\n",
    "\n",
    "> Repeat Exercise 6.4.1 for the incremental translation of Fig. 6.20."
   ]
  },
  {
   "cell_type": "markdown",
   "metadata": {},
   "source": [
    "$$\\begin{array}{rcll}\n",
    "S &\\rightarrow& \\mathbf{id} = E; & \\{ gen(top.get(\\mathbf{id}.lexeme)~'='~E.addr);\\} \\\\\n",
    "E &\\rightarrow& E_1 + E_2 & \\{ E.addr = \\mathbf{new}~Temp();\\\\\n",
    "&&& ~gen(E.addr~'='~E_1.addr~'+'~+E_2.addr;\\}\\\\\n",
    "E &\\rightarrow& E_1 * E_2 & \\{ E.addr = \\mathbf{new}~Temp();\\\\\n",
    "&&& ~gen(E.addr~'='~E_1.addr~'*'~+E_2.addr;\\}\\\\\n",
    "&|& +E_1& \\{ E.addr = E_1.addr; \\}\\\\\n",
    "&|& -E_1& \\{ E.addr = \\mathbf{new}~Temp();\\\\\n",
    "&&& ~gen(E.addr~'='~'\\mathbf{minus}'~E_1.addr;\\}\\\\\n",
    "&|& (E_1)& \\{ E.addr = E_1.addr; \\}\\\\\n",
    "&|& \\mathbf{id}& \\{ E.addr = top.get(\\mathbf{id}.lexeme); \\}\\\\\n",
    "\\end{array}$$"
   ]
  },
  {
   "cell_type": "markdown",
   "metadata": {},
   "source": [
    "### 6.4.3\n",
    "\n",
    "> Use the translation of Fig. 6.22 to translate the following assignments:\n",
    "\n",
    "> a) `x = a[i] + b[j]`."
   ]
  },
  {
   "cell_type": "markdown",
   "metadata": {},
   "source": [
    "```\n",
    "t1 = a.type.width * i\n",
    "t2 = a.array.base [ t1 ]\n",
    "t3 = b.type.width * j\n",
    "t4 = b.array.base [ t3 ]\n",
    "t5 = t2 + t4\n",
    "x = t5\n",
    "```"
   ]
  },
  {
   "cell_type": "markdown",
   "metadata": {},
   "source": [
    "> b) `x = a[i][j] + b[i][j]`."
   ]
  },
  {
   "cell_type": "markdown",
   "metadata": {},
   "source": [
    "```\n",
    "t1 = a.type.width * i\n",
    "t2 = a.type.elem.type.width * j\n",
    "t3 = t1 + t2\n",
    "t4 = a.array.base [ t3 ]\n",
    "t5 = b.type.width * i\n",
    "t6 = b.type.elem.type.width * j\n",
    "t7 = t1 + t2\n",
    "t8 = b.array.base [ t7 ]\n",
    "t9 = t4 + t8\n",
    "x = t9\n",
    "```"
   ]
  },
  {
   "cell_type": "markdown",
   "metadata": {},
   "source": [
    "> c) `x = a[b[i][j]][c[k]]`."
   ]
  },
  {
   "cell_type": "markdown",
   "metadata": {},
   "source": [
    "```\n",
    "t1 = b.type.width * i\n",
    "t2 = b.type.elem.type.width * j\n",
    "t3 = t1 + t2\n",
    "t4 = b.array.base [ t3 ]\n",
    "t5 = a.type.width * t4\n",
    "t6 = c.type.width * k\n",
    "t7 = c.array.base [ t6 ]\n",
    "t8 = a.type.elem.type.width * t7\n",
    "t9 = t5 + t8\n",
    "t10 = a.array.base [ t9 ]\n",
    "x = t10\n",
    "```"
   ]
  },
  {
   "cell_type": "markdown",
   "metadata": {},
   "source": [
    "### 6.4.4\n",
    "\n",
    "> Revise the translation of Fig. 6.22 for array references of the Fortran style, that is, $\\mathbf{id}[E_1, E_2, \\dots, E_n]$ for an $n$-dimensional array."
   ]
  },
  {
   "cell_type": "markdown",
   "metadata": {},
   "source": [
    "$$\\begin{array}{rcl}\n",
    "L &\\rightarrow& \\mathbf{id}~[~T~] \\\\\n",
    "T &\\rightarrow& E \\\\\n",
    "&|& T_1, E \\\\\n",
    "\\end{array}$$"
   ]
  },
  {
   "cell_type": "markdown",
   "metadata": {},
   "source": [
    "### 6.4.5\n",
    "\n",
    "> Generalize formula (6.7) to multidimensional arrays, and indicate what values can be stored in the symbol table and used to compute offsets. Consider the following cases:\n",
    "\n",
    "> a) An array $A$ of two dimensions, in row-major form. The first dimension has indexes running from $l_1$ to $h_1$, and the second dimension has indexes from $l_2$ to $h_2$. The width of a single array element is $w$."
   ]
  },
  {
   "cell_type": "markdown",
   "metadata": {},
   "source": [
    "$base + (i_1 - l_1) * (h_2 - l_2 + 1) * w + (i_2 - l_2) * w$"
   ]
  },
  {
   "cell_type": "markdown",
   "metadata": {},
   "source": [
    "> b) The same as (a), but with the array stored in column-major form."
   ]
  },
  {
   "cell_type": "markdown",
   "metadata": {},
   "source": [
    "$base + (i_2 - l_2) * (h_1 - l_1 + 1) * w + (i_1 - l_1) * w$"
   ]
  },
  {
   "cell_type": "markdown",
   "metadata": {},
   "source": [
    "> c) An array $A$ of $k$ dimensions, stored in row-major form, with elements of size $w$. The $j$th dimension has indexes running from $l_j$ to $h_j$."
   ]
  },
  {
   "cell_type": "markdown",
   "metadata": {},
   "source": [
    "$base + ((\\cdots(((i_1 - l_1) * (i_2 - l2 + 1) + (i_2 - l2)) * (i_3 - l_3 + 1))\\cdots) + (i_k - l_k))*w$"
   ]
  },
  {
   "cell_type": "markdown",
   "metadata": {},
   "source": [
    "> d) The same as (c) but with the array stored in column-major form."
   ]
  },
  {
   "cell_type": "markdown",
   "metadata": {},
   "source": [
    "$base + ((\\cdots(((i_k - l_k) * (i_{k-1} - l_{k-1} + 1) + (i_{k-2} - l_{k-2})) * (i_{k-3} - l_{k-3} + 1))\\cdots) + (i_1 - l_1))*w$"
   ]
  },
  {
   "cell_type": "markdown",
   "metadata": {},
   "source": [
    "### 6.4.6\n",
    "\n",
    "> An integer array $A[i, j]$, stored row-major, has index $i$ ranging from 1 to 10 and index $j$ ranging from 1 to 20. Integers take 4 bytes each. Suppose array $A$ is stored starting at byte 0. Find the location of:\n",
    "\n",
    "> a) $A[4, 5]$"
   ]
  },
  {
   "cell_type": "markdown",
   "metadata": {},
   "source": [
    "$3 \\times 80 + 4 \\times 4 = 256$"
   ]
  },
  {
   "cell_type": "markdown",
   "metadata": {},
   "source": [
    "> b) $A[10, 8]$"
   ]
  },
  {
   "cell_type": "markdown",
   "metadata": {},
   "source": [
    "$9 \\times 80 + 7 \\times 4 = 748$"
   ]
  },
  {
   "cell_type": "markdown",
   "metadata": {},
   "source": [
    "> c) $A[3, 17]$."
   ]
  },
  {
   "cell_type": "markdown",
   "metadata": {},
   "source": [
    "$2 \\times 80 + 16 \\times 4 = 224$"
   ]
  },
  {
   "cell_type": "markdown",
   "metadata": {},
   "source": [
    "### 6.4.7\n",
    "\n",
    "> Repeat Exercise 6.4.6 if $A$ is stored in column-major order.\n",
    "\n",
    "> a) $A[4, 5]$"
   ]
  },
  {
   "cell_type": "markdown",
   "metadata": {},
   "source": [
    "$3 \\times 4 + 4 \\times 80 = 172$"
   ]
  },
  {
   "cell_type": "markdown",
   "metadata": {},
   "source": [
    "> b) $A[10, 8]$"
   ]
  },
  {
   "cell_type": "markdown",
   "metadata": {},
   "source": [
    "$9 \\times 4 + 7 \\times 80 = 316$"
   ]
  },
  {
   "cell_type": "markdown",
   "metadata": {},
   "source": [
    "> c) $A[3, 17]$."
   ]
  },
  {
   "cell_type": "markdown",
   "metadata": {},
   "source": [
    "$2 \\times 4 + 16 \\times 80 = 648$"
   ]
  },
  {
   "cell_type": "markdown",
   "metadata": {},
   "source": [
    "### 6.4.8\n",
    "\n",
    "> A real array $A[i, j, k]$ has index $i$ ranging from 1 to 4, $j$ is ranging from 0 to 4, and $k$ ranging from 5 to 10. Reals take 8 bytes each. If $A$ is stored row-major, starting at byte 0, find the locations of:\n",
    "\n",
    "> a) $A[3, 4, 5]$"
   ]
  },
  {
   "cell_type": "markdown",
   "metadata": {},
   "source": [
    "$2 \\times 240 + 4 \\times 48 + 0 \\times 8 = 672$"
   ]
  },
  {
   "cell_type": "markdown",
   "metadata": {},
   "source": [
    "> b) $A[1, 2, 7]$"
   ]
  },
  {
   "cell_type": "markdown",
   "metadata": {},
   "source": [
    "$0 \\times 240 + 2 \\times 48 + 2 \\times 8 = 112$"
   ]
  },
  {
   "cell_type": "markdown",
   "metadata": {},
   "source": [
    "> c) $A[4, 3, 9]$."
   ]
  },
  {
   "cell_type": "markdown",
   "metadata": {},
   "source": [
    "$3 \\times 240 + 3 \\times 48 + 4 \\times 8 = 896$"
   ]
  },
  {
   "cell_type": "markdown",
   "metadata": {},
   "source": [
    "### 6.4.9\n",
    "\n",
    "> Repeat Exercise 6.4.8 if $A$ is stored in column-major order.\n",
    "\n",
    "> a) $A[3, 4, 5]$"
   ]
  },
  {
   "cell_type": "markdown",
   "metadata": {},
   "source": [
    "$2 \\times 8 + 4 \\times 32 + 0 \\times 160 = 144$"
   ]
  },
  {
   "cell_type": "markdown",
   "metadata": {},
   "source": [
    "> b) $A[1, 2, 7]$"
   ]
  },
  {
   "cell_type": "markdown",
   "metadata": {},
   "source": [
    "$0 \\times 8 + 2 \\times 32 + 2 \\times 160 = 384$"
   ]
  },
  {
   "cell_type": "markdown",
   "metadata": {},
   "source": [
    "> c) $A[4, 3, 9]$."
   ]
  },
  {
   "cell_type": "markdown",
   "metadata": {},
   "source": [
    "$3 \\times 8 + 3 \\times 32 + 4 \\times 160 = 760$"
   ]
  }
 ],
 "metadata": {
  "kernelspec": {
   "display_name": "Python 2",
   "language": "python",
   "name": "python2"
  },
  "language_info": {
   "codemirror_mode": {
    "name": "ipython",
    "version": 2
   },
   "file_extension": ".py",
   "mimetype": "text/x-python",
   "name": "python",
   "nbconvert_exporter": "python",
   "pygments_lexer": "ipython2",
   "version": "2.7.12"
  }
 },
 "nbformat": 4,
 "nbformat_minor": 2
}
