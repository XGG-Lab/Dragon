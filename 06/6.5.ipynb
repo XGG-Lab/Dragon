{
 "cells": [
  {
   "cell_type": "markdown",
   "metadata": {},
   "source": [
    "## 6.5 Type Checking"
   ]
  },
  {
   "cell_type": "markdown",
   "metadata": {},
   "source": [
    "### 6.5.1\n",
    "\n",
    "> Assuming that function _widen_ in Fig. 6.26 can handle any of the types in the hierarchy of Fig. 6.25(a), translate the expressions below. Assume that $c$ and $d$ are characters, $s$ and $t$ are short integers, $i$ and $j$ are integers, and $x$ is a float.\n",
    "\n",
    "> a) `x = s + c`."
   ]
  },
  {
   "cell_type": "markdown",
   "metadata": {},
   "source": [
    "```\n",
    "t1 = (int) s\n",
    "t2 = (int) c\n",
    "t3 = t1 + t2\n",
    "t4 = (float) x\n",
    "x = t4\n",
    "```"
   ]
  },
  {
   "cell_type": "markdown",
   "metadata": {},
   "source": [
    "> b) `i = s + c`."
   ]
  },
  {
   "cell_type": "markdown",
   "metadata": {},
   "source": [
    "```\n",
    "t1 = (int) s\n",
    "t2 = (int) c\n",
    "t3 = t1 + t2\n",
    "i = t3\n",
    "```"
   ]
  },
  {
   "cell_type": "markdown",
   "metadata": {},
   "source": [
    "> c) `x = (s + c) * (t + d)`."
   ]
  },
  {
   "cell_type": "markdown",
   "metadata": {},
   "source": [
    "```\n",
    "t1 = (int) s\n",
    "t2 = (int) c\n",
    "t3 = t1 + t2\n",
    "t4 = (int) t\n",
    "t5 = (int) d\n",
    "t6 = t4 + t5\n",
    "t7 = t3 * t6\n",
    "t8 = (float) t7\n",
    "x = t7\n",
    "```"
   ]
  },
  {
   "cell_type": "markdown",
   "metadata": {},
   "source": [
    "### 6.5.2\n",
    "\n",
    "> As in Ada, suppose that each expression must have a unique type, but that from a subexpression, by itself, all we can deduce is a set of possible types. That is, the application of function $E_1$ to argument $E_2$, represented by $E \\rightarrow E_1 ( E_2)$, has the associated rule\n",
    "\n",
    "> $E.type = \\{ t~|~\\text{for some } s \\text{ in } E_2.type, s \\rightarrow t \\text{ is in } E_1.type\\}$\n",
    "\n",
    "> Describe an SDD that determines a unique type for each subexpression by using an attribute _type_ to synthesize a set of possible types bottom-up, and, once the unique type of the overall expression is determined, proceeds top-down to determine attribute _unique_ for the type of each subexpression."
   ]
  }
 ],
 "metadata": {
  "kernelspec": {
   "display_name": "Python 2",
   "language": "python",
   "name": "python2"
  },
  "language_info": {
   "codemirror_mode": {
    "name": "ipython",
    "version": 2
   },
   "file_extension": ".py",
   "mimetype": "text/x-python",
   "name": "python",
   "nbconvert_exporter": "python",
   "pygments_lexer": "ipython2",
   "version": "2.7.12"
  }
 },
 "nbformat": 4,
 "nbformat_minor": 2
}
