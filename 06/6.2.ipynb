{
 "cells": [
  {
   "cell_type": "markdown",
   "metadata": {},
   "source": [
    "## 6.2 Three-Address Code"
   ]
  },
  {
   "cell_type": "markdown",
   "metadata": {},
   "source": [
    "### 6.2.1\n",
    "\n",
    "> Translate the arithmetic expression `a + -(b+c)` into:\n",
    "\n",
    "> a) A syntax tree."
   ]
  },
  {
   "cell_type": "markdown",
   "metadata": {},
   "source": [
    "![](./img/6.2.1.png)"
   ]
  },
  {
   "cell_type": "markdown",
   "metadata": {},
   "source": [
    "> b) Quadruples."
   ]
  },
  {
   "cell_type": "markdown",
   "metadata": {},
   "source": [
    "| | $op$ | $arg_1$ | $arg_2$ | $result$ |\n",
    "|-:|:------:|:---------:|:---------:|:----------:|\n",
    "| 0| + | b | c | t1 |\n",
    "| 1| minus | t1 | | t2 |\n",
    "| 2| + | a | t2 | t3 |"
   ]
  },
  {
   "cell_type": "markdown",
   "metadata": {},
   "source": [
    "> c) Triples."
   ]
  },
  {
   "cell_type": "markdown",
   "metadata": {},
   "source": [
    "| | $op$ | $arg_1$ | $arg_2$ |\n",
    "|-:|:------:|:---------:|:---------:|\n",
    "| 0| + | b | c |\n",
    "| 1| minus | (0) | |\n",
    "| 2| + | a | (1) |"
   ]
  },
  {
   "cell_type": "markdown",
   "metadata": {},
   "source": [
    "> d) Indirect triples."
   ]
  },
  {
   "cell_type": "markdown",
   "metadata": {},
   "source": [
    "| | $instructions$ |\n",
    "|-:|:-----------------|\n",
    "| 0| (0) |\n",
    "| 1| (1) |\n",
    "| 2| (2) |"
   ]
  },
  {
   "cell_type": "markdown",
   "metadata": {},
   "source": [
    "### 6.2.2\n",
    "\n",
    "> Repeat Exercise 6.2.1 for the following assignment statements:\n",
    "\n",
    "> i. `a = b[i] + c[j]`."
   ]
  },
  {
   "cell_type": "markdown",
   "metadata": {},
   "source": [
    "* Quadruples\n",
    "\n",
    "| | $op$ | $arg_1$ | $arg_2$ | $result$ |\n",
    "|-:|:------:|:---------:|:---------:|:----------:|\n",
    "| 0| =[] | b | i | t1 |\n",
    "| 1| =[] | c | j | t2 |\n",
    "| 2| + | t1 | t2 | t3 |\n",
    "| 3| = | t3 | | a |\n",
    "\n",
    "* Triples\n",
    "\n",
    "| | $op$ | $arg_1$ | $arg_2$ |\n",
    "|-:|:------:|:---------:|:---------:|\n",
    "| 0| =[] | b | i |\n",
    "| 1| =[] | c | j |\n",
    "| 2| + | (0) | (1) |\n",
    "| 3| = | a | (2) |"
   ]
  },
  {
   "cell_type": "markdown",
   "metadata": {},
   "source": [
    "> ii. `a[i] = b*c - b*d`."
   ]
  },
  {
   "cell_type": "markdown",
   "metadata": {},
   "source": [
    "* Quadruples\n",
    "\n",
    "| | $op$ | $arg_1$ | $arg_2$ | $result$ |\n",
    "|-:|:------:|:---------:|:---------:|:----------:|\n",
    "| 0| * | b | c | t1 |\n",
    "| 1| * | b | d | t2 |\n",
    "| 2| - | t1 | t2 | t3 |\n",
    "| 3| []= | a | i | t4 |\n",
    "| 4| = | t3 | | t4 |\n",
    "\n",
    "* Triples\n",
    "\n",
    "| | $op$ | $arg_1$ | $arg_2$ |\n",
    "|-:|:------:|:---------:|:---------:|\n",
    "| 0| * | b | c |\n",
    "| 1| * | b | d |\n",
    "| 2| - | (0) | (1) |\n",
    "| 3| []= | a | i |\n",
    "| 4| = | (3) | (2) |"
   ]
  },
  {
   "cell_type": "markdown",
   "metadata": {},
   "source": [
    "> iii. `x = f(y+1) + 2`."
   ]
  },
  {
   "cell_type": "markdown",
   "metadata": {},
   "source": [
    "* Quadruples\n",
    "\n",
    "| | $op$ | $arg_1$ | $arg_2$ | $result$ |\n",
    "|-:|:------:|:---------:|:---------:|:----------:|\n",
    "| 0| + | y | 1 | t1 |\n",
    "| 1| param | t1 | | |\n",
    "| 2| call | f | 1 | t2 |\n",
    "| 3| + | t2 | 2 | t3 |\n",
    "| 4| = | t3 | | x |\n",
    "\n",
    "* Triples\n",
    "\n",
    "| | $op$ | $arg_1$ | $arg_2$ |\n",
    "|-:|:------:|:---------:|:---------:|\n",
    "| 0| + | y | 1 |\n",
    "| 1| param | (0) | |\n",
    "| 2| call | f | 1 |\n",
    "| 3| + | (2) | 2 |\n",
    "| 4| = | x | (3) |"
   ]
  },
  {
   "cell_type": "markdown",
   "metadata": {},
   "source": [
    "> iv. `x = *p + &y`."
   ]
  },
  {
   "cell_type": "markdown",
   "metadata": {},
   "source": [
    "* Quadruples\n",
    "\n",
    "| | $op$ | $arg_1$ | $arg_2$ | $result$ |\n",
    "|-:|:------:|:---------:|:---------:|:----------:|\n",
    "| 0| =* | p | | t1 |\n",
    "| 1| =& | y | | t2 |\n",
    "| 2| + | t1 | t2 | t3 |\n",
    "| 3| = | t3 | | x |\n",
    "\n",
    "* Triples\n",
    "\n",
    "| | $op$ | $arg_1$ | $arg_2$ |\n",
    "|-:|:------:|:---------:|:---------:|\n",
    "| 0| =* | p | |\n",
    "| 1| =* | y | |\n",
    "| 2| + | (0) | (1) |\n",
    "| 3| = | x | (2) |"
   ]
  },
  {
   "cell_type": "markdown",
   "metadata": {},
   "source": [
    "### 6.2.3\n",
    "\n",
    "> Show how to transform a three-address code sequence into one in which each defined variable gets a unique variable name."
   ]
  },
  {
   "cell_type": "markdown",
   "metadata": {},
   "source": [
    "t + position"
   ]
  }
 ],
 "metadata": {
  "kernelspec": {
   "display_name": "Python 2",
   "language": "python",
   "name": "python2"
  },
  "language_info": {
   "codemirror_mode": {
    "name": "ipython",
    "version": 2
   },
   "file_extension": ".py",
   "mimetype": "text/x-python",
   "name": "python",
   "nbconvert_exporter": "python",
   "pygments_lexer": "ipython2",
   "version": "2.7.12"
  }
 },
 "nbformat": 4,
 "nbformat_minor": 2
}
