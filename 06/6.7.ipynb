{
 "cells": [
  {
   "cell_type": "markdown",
   "metadata": {},
   "source": [
    "## 6.7 Backpatching"
   ]
  },
  {
   "cell_type": "markdown",
   "metadata": {},
   "source": [
    "### 6.7.1\n",
    "\n",
    "> Using the translation of Fig. 6.43, translate each of the following expressions. Show the true and false lists for each subexpression. You may assume the address of the first instruction generated is 100.\n",
    "\n",
    "> a) `a==b && (c==d || e==f)`"
   ]
  },
  {
   "cell_type": "markdown",
   "metadata": {},
   "source": [
    "| Expressions | True & false lists |\n",
    "|:------------|:-------------------|\n",
    "| `a==b` | $\\begin{array}{l}B.t = \\{100\\} \\\\B.f = \\{101\\} \\end{array}$ |\n",
    "| `c==d` | $\\begin{array}{l}B.t = \\{102\\} \\\\B.f = \\{103\\} \\end{array}$ |\n",
    "| `e==f` | $\\begin{array}{l}B.t = \\{104\\} \\\\B.f = \\{105\\} \\end{array}$ |\n",
    "| `(c==d \\|\\| e==f)` | $\\begin{array}{l}B.t = \\{102, 104\\} \\\\B.f = \\{105\\} \\end{array}$ |\n",
    "| `a==b && (c==d \\|\\| e==f)` | $\\begin{array}{l}B.t = \\{102, 104\\} \\\\B.f = \\{101, 105\\} \\end{array}$ |"
   ]
  },
  {
   "cell_type": "markdown",
   "metadata": {},
   "source": [
    "> b) `(a==b || c==d) || e==f`"
   ]
  },
  {
   "cell_type": "markdown",
   "metadata": {},
   "source": [
    "| Expressions | True & false lists |\n",
    "|:------------|:-------------------|\n",
    "| `a==b` | $\\begin{array}{l}B.t = \\{100\\} \\\\B.f = \\{101\\} \\end{array}$ |\n",
    "| `c==d` | $\\begin{array}{l}B.t = \\{102\\} \\\\B.f = \\{103\\} \\end{array}$ |\n",
    "| `(a==b \\|\\| c==d)` | $\\begin{array}{l}B.t = \\{100, 102\\} \\\\B.f = \\{103\\} \\end{array}$ |\n",
    "| `e==f` | $\\begin{array}{l}B.t = \\{104\\} \\\\B.f = \\{105\\} \\end{array}$ |\n",
    "| `(a==b \\|\\| c==d) \\|\\| e==f` | $\\begin{array}{l}B.t = \\{100, 102, 104\\} \\\\B.f = \\{105\\} \\end{array}$ |"
   ]
  },
  {
   "cell_type": "markdown",
   "metadata": {},
   "source": [
    "> c) `(a==b && c==d) && e==f`"
   ]
  },
  {
   "cell_type": "markdown",
   "metadata": {},
   "source": [
    "| Expressions | True & false lists |\n",
    "|:------------|:-------------------|\n",
    "| `a==b` | $\\begin{array}{l}B.t = \\{100\\} \\\\B.f = \\{101\\} \\end{array}$ |\n",
    "| `c==d` | $\\begin{array}{l}B.t = \\{102\\} \\\\B.f = \\{103\\} \\end{array}$ |\n",
    "| `(a==b && c==d)` | $\\begin{array}{l}B.t = \\{102\\} \\\\B.f = \\{101, 103\\} \\end{array}$ |\n",
    "| `e==f` | $\\begin{array}{l}B.t = \\{104\\} \\\\B.f = \\{105\\} \\end{array}$ |\n",
    "| `(a==b && c==d) && e==f` | $\\begin{array}{l}B.t = \\{104\\} \\\\B.f = \\{101, 104, 105\\} \\end{array}$ |"
   ]
  },
  {
   "cell_type": "markdown",
   "metadata": {},
   "source": [
    "### 6.7.2\n",
    "\n",
    "> Give the value that eventually replaces each place on each of the following lists:\n",
    "\n",
    "> (a) $B_3.false$ (b) $S_2.next$ (c) $B_4.false$ (d) $S_1.next$ (e) $B_2.true$"
   ]
  },
  {
   "cell_type": "markdown",
   "metadata": {},
   "source": [
    "* $B_3.false = i_1$\n",
    "* $S_2.next = i_7$\n",
    "* $B_4.false = i_7$\n",
    "* $S_1.next = i_3$\n",
    "* $B_2.true = i_3$"
   ]
  },
  {
   "cell_type": "markdown",
   "metadata": {},
   "source": [
    "### 6.7.3\n",
    "\n",
    "> Give the rules for\n",
    "\n",
    "> (a) $S_4.next$ (b) $S_5.next$ (c) $S_6.next$ (d) $S_7.next$ (e) $S_8.next$"
   ]
  },
  {
   "cell_type": "markdown",
   "metadata": {},
   "source": [
    "* $S_4.next = B_3.false$\n",
    "* $S_5.next = merge(B_4.false, S_2.next)$\n",
    "* $S_6.next = S_3.next$\n",
    "* $S_7.next = merge(S_4.next, N.next, S_6.next)$\n",
    "* $S_8.next = B_1.false$"
   ]
  }
 ],
 "metadata": {
  "kernelspec": {
   "display_name": "Python 2",
   "language": "python",
   "name": "python2"
  },
  "language_info": {
   "codemirror_mode": {
    "name": "ipython",
    "version": 2
   },
   "file_extension": ".py",
   "mimetype": "text/x-python",
   "name": "python",
   "nbconvert_exporter": "python",
   "pygments_lexer": "ipython2",
   "version": "2.7.12"
  }
 },
 "nbformat": 4,
 "nbformat_minor": 2
}
