{
 "cells": [
  {
   "cell_type": "markdown",
   "metadata": {},
   "source": [
    "## 6.1 Variants of Syntax Trees"
   ]
  },
  {
   "cell_type": "markdown",
   "metadata": {},
   "source": [
    "### 6.1.1\n",
    "\n",
    "> Construct the DAG for the expression\n",
    "\n",
    "> $((x + y) - ((x + y) * (x - y))) + ((x + y) * (x - y))$"
   ]
  },
  {
   "cell_type": "markdown",
   "metadata": {},
   "source": [
    "![](./img/6.1.1.png)"
   ]
  },
  {
   "cell_type": "markdown",
   "metadata": {},
   "source": [
    "### 6.1.2\n",
    "\n",
    "> Construct the DAG and identify the value numbers for the subexpressions of the following expressions, assuming $+$ associates from the left.\n",
    " \n",
    "> a) $a + b + (a + b)$."
   ]
  },
  {
   "cell_type": "markdown",
   "metadata": {},
   "source": [
    "| value numbers |  |  |  |\n",
    "|:-------------:|:-|:-|:-|\n",
    "| 1 | $\\mathbf{id}$ | $a$ | |\n",
    "| 2 | $\\mathbf{id}$ | $b$ | |\n",
    "| 3 | $+$ | 1 | 2 |\n",
    "| 4 | $+$ | 3 | 3 |\n",
    "\n",
    "![](img/6.1.2.a.png)"
   ]
  },
  {
   "cell_type": "markdown",
   "metadata": {},
   "source": [
    "> b) $a + b + a + b$."
   ]
  },
  {
   "cell_type": "markdown",
   "metadata": {},
   "source": [
    "| value numbers |  |  |  |\n",
    "|:-------------:|:-|:-|:-|\n",
    "| 1 | $\\mathbf{id}$ | $a$ | |\n",
    "| 2 | $\\mathbf{id}$ | $b$ | |\n",
    "| 3 | $+$ | 1 | 2 |\n",
    "| 4 | $+$ | 3 | 1 |\n",
    "| 5 | $+$ | 4 | 2 |\n",
    "\n",
    "![](img/6.1.2.b.png)"
   ]
  },
  {
   "cell_type": "markdown",
   "metadata": {},
   "source": [
    "> c) $a + a + (a + a + a + (a + a + a + a))$."
   ]
  },
  {
   "cell_type": "markdown",
   "metadata": {},
   "source": [
    "| value numbers |  |  |  |\n",
    "|:-------------:|:-|:-|:-|\n",
    "| 1 | $\\mathbf{id}$ | $a$ | |\n",
    "| 2 | $+$ | 1 | 1 |\n",
    "| 3 | $+$ | 2 | 1 |\n",
    "| 4 | $+$ | 3 | 1 |\n",
    "| 5 | $+$ | 3 | 4 |\n",
    "| 6 | $+$ | 2 | 5 |\n",
    "\n",
    "![](img/6.1.2.c.png)"
   ]
  }
 ],
 "metadata": {
  "kernelspec": {
   "display_name": "Python 2",
   "language": "python",
   "name": "python2"
  },
  "language_info": {
   "codemirror_mode": {
    "name": "ipython",
    "version": 2
   },
   "file_extension": ".py",
   "mimetype": "text/x-python",
   "name": "python",
   "nbconvert_exporter": "python",
   "pygments_lexer": "ipython2",
   "version": "2.7.12"
  }
 },
 "nbformat": 4,
 "nbformat_minor": 2
}
