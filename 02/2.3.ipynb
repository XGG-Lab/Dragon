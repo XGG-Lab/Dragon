{
 "cells": [
  {
   "cell_type": "markdown",
   "metadata": {},
   "source": [
    "## 2.3 Syntax-Directed Translation"
   ]
  },
  {
   "cell_type": "markdown",
   "metadata": {},
   "source": [
    "### 2.3.1\n",
    "\n",
    "> Construct a syntax-directed translation scheme that translates arithmetic expressions from infix notation into prefix notation in which an operator appears before its operands."
   ]
  },
  {
   "cell_type": "markdown",
   "metadata": {},
   "source": [
    "$$\\begin{array}{rcl}\n",
    "expr &\\rightarrow& \\{\\text{print('+')}\\}~expr~+~term \\\\\n",
    "&|& \\{\\text{print('-')}\\}~expr~-~term \\\\\n",
    "&|& term \\\\\n",
    "term &\\rightarrow& \\{\\text{print('*')}\\}~term~*~factor \\\\\n",
    "&|& \\{\\text{print('/')}\\}~term~/~factor \\\\\n",
    "&|& factor \\\\\n",
    "factor &\\rightarrow& digit~\\{\\text{print(digit)}\\} \\\\\n",
    "&|& (expr) \\\\\n",
    "\\end{array}$$"
   ]
  },
  {
   "cell_type": "markdown",
   "metadata": {},
   "source": [
    "### 2.3.2\n",
    "\n",
    "> Construct a syntax-directed translation scheme that translates arithmetic expressions from postfix notation into infix notation."
   ]
  },
  {
   "cell_type": "markdown",
   "metadata": {},
   "source": [
    "$$\\begin{array}{rcl}\n",
    "expr &\\rightarrow& \\{\\text{print('(')}\\}~expr~\\{\\text{print('+')}\\}~expr~+~\\{\\text{print(')')}\\} \\\\\n",
    "&|& \\{\\text{print('(')}\\}~expr~\\{\\text{print('-')}\\}~expr~-~\\{\\text{print(')')}\\} \\\\\n",
    "&|& \\{\\text{print('(')}\\}~expr~\\{\\text{print('*')}\\}~expr~*~\\{\\text{print(')')}\\} \\\\\n",
    "&|& \\{\\text{print('(')}\\}~expr~\\{\\text{print('/')}\\}~expr~/~\\{\\text{print(')')}\\} \\\\\n",
    "&|& digit ~\\{\\text{print(digit)}\\} \n",
    "\\end{array}$$"
   ]
  },
  {
   "cell_type": "markdown",
   "metadata": {},
   "source": [
    "### 2.3.3\n",
    "\n",
    "> Construct a syntax-directed translation scheme that translates integers into roman numerals."
   ]
  },
  {
   "cell_type": "markdown",
   "metadata": {},
   "source": [
    "$$\\begin{array}{rcl}\n",
    "number &\\rightarrow& thousands~hundreds~tens~digits \\\\\n",
    " &|& hundreds~tens~digits \\\\\n",
    " &|& tens~digits \\\\\n",
    " &|& digits \\\\\n",
    "thousands &\\rightarrow& 1~\\{\\text{print(\"M\")}\\} \\\\\n",
    " &|& 2~\\{\\text{print(\"MM\")}\\} \\\\\n",
    " &|& 3~\\{\\text{print(\"MMM\")}\\} \\\\\n",
    "hundreds &\\rightarrow& 0 \\\\\n",
    " &|& 1~\\{\\text{print(\"C\")}\\} \\\\\n",
    " &|& 2~\\{\\text{print(\"CC\")}\\} \\\\\n",
    " &|& 3~\\{\\text{print(\"CCC\")}\\} \\\\\n",
    " &|& 4~\\{\\text{print(\"CD\")}\\} \\\\\n",
    " &|& 5~\\{\\text{print(\"D\")}\\} \\\\\n",
    " &|& 6~\\{\\text{print(\"DC\")}\\} \\\\\n",
    " &|& 7~\\{\\text{print(\"DCC\")}\\} \\\\\n",
    " &|& 8~\\{\\text{print(\"DCCC\")}\\} \\\\\n",
    " &|& 9~\\{\\text{print(\"CM\")}\\} \\\\\n",
    "tens &\\rightarrow& 0 \\\\\n",
    " &|& 1~\\{\\text{print(\"X\")}\\} \\\\\n",
    " &|& 2~\\{\\text{print(\"XX\")}\\} \\\\\n",
    " &|& 3~\\{\\text{print(\"XXX\")}\\} \\\\\n",
    " &|& 4~\\{\\text{print(\"XL\")}\\} \\\\\n",
    " &|& 5~\\{\\text{print(\"L\")}\\} \\\\\n",
    " &|& 6~\\{\\text{print(\"LX\")}\\} \\\\\n",
    " &|& 7~\\{\\text{print(\"LXX\")}\\} \\\\\n",
    " &|& 8~\\{\\text{print(\"LXXX\")}\\} \\\\\n",
    " &|& 9~\\{\\text{print(\"XC\")}\\} \\\\\n",
    "digits &\\rightarrow& 0 \\\\\n",
    " &|& 1~\\{\\text{print(\"I\")}\\} \\\\\n",
    " &|& 2~\\{\\text{print(\"II\")}\\} \\\\\n",
    " &|& 3~\\{\\text{print(\"III\")}\\} \\\\\n",
    " &|& 4~\\{\\text{print(\"IV\")}\\} \\\\\n",
    " &|& 5~\\{\\text{print(\"V\")}\\} \\\\\n",
    " &|& 6~\\{\\text{print(\"VI\")}\\} \\\\\n",
    " &|& 7~\\{\\text{print(\"VII\")}\\} \\\\\n",
    " &|& 8~\\{\\text{print(\"VIII\")}\\} \\\\\n",
    " &|& 9~\\{\\text{print(\"IX\")}\\} \\\\\n",
    "\\end{array}$$"
   ]
  },
  {
   "cell_type": "markdown",
   "metadata": {},
   "source": [
    "### 2.3.4\n",
    "\n",
    "> Construct a syntax-directed translation scheme that translates roman numerals up to 2000 into integers."
   ]
  },
  {
   "cell_type": "markdown",
   "metadata": {},
   "source": [
    "$$\\begin{array}{rcl}\n",
    "roman &\\rightarrow& thousand~hundreds~tens~digits~\\\\\n",
    "&&\\{\\text{roman.num=thousand.num+hundreds.num+tens.num+digits.num}\\} \\\\\n",
    "thousand &\\rightarrow& M~\\{\\text{thousand.num=1000}\\} \\\\\n",
    " &|&MM~\\{\\text{hundrthousanded.num=2000}\\} \\\\\n",
    " &|&MMM~\\{\\text{thousand.num=3000}\\} \\\\\n",
    " &|&\\epsilon~\\{\\text{thousand.num=0}\\} \\\\\n",
    "hundred &\\rightarrow& C~\\{\\text{hundred.num=100}\\} \\\\\n",
    " &|&CC~\\{\\text{hundred.num=200}\\} \\\\\n",
    " &|&CCC~\\{\\text{hundred.num=300}\\} \\\\\n",
    " &|&\\epsilon~\\{\\text{hundred.num=0}\\} \\\\\n",
    "ten &\\rightarrow& X~\\{\\text{ten.num=10}\\} \\\\\n",
    " &|&XX~\\{\\text{ten.num=20}\\} \\\\\n",
    " &|&XXX~\\{\\text{ten.num=30}\\} \\\\\n",
    " &|&\\epsilon~\\{\\text{ten.num=0}\\} \\\\\n",
    "digit &\\rightarrow& I~\\{\\text{digit.num=1}\\} \\\\\n",
    " &|&II~\\{\\text{digit.num=2}\\} \\\\\n",
    " &|&III~\\{\\text{digit.num=3}\\} \\\\\n",
    " &|&\\epsilon~\\{\\text{digit.num=0}\\} \\\\\n",
    "hundreds &\\rightarrow& hundred~\\{\\text{hundreads.num=hundred.num}\\}\\\\\n",
    " &|&CD~\\{\\text{hundreads.num=400}\\}\\\\\n",
    " &|&D~hundred~\\{\\text{hundreads.num=500+hundred.num}\\}\\\\\n",
    " &|&CM~\\{\\text{hundreads.num=900}\\} \\\\\n",
    "tens &\\rightarrow& ten~\\{\\text{tens.num=ten.num}\\}\\\\\n",
    " &|&XL~\\{\\text{tens.num=40}\\}\\\\\n",
    " &|&L~ten\\\\\n",
    " &|&XC~\\{\\text{tens.num=90}\\} \\\\\n",
    "digits &\\rightarrow& digit~\\{\\text{digits.num=digit.num}\\}\\\\\n",
    " &|&IV~\\{\\text{digits.num=4}\\}\\\\\n",
    " &|&V~digit~\\{\\text{digits.num=5 + digit.num}\\}\\\\\n",
    " &|&IX~\\{\\text{digits.num=9}\\} \\\\\n",
    "\\end{array}$$"
   ]
  },
  {
   "cell_type": "markdown",
   "metadata": {},
   "source": [
    "### 2.3.5\n",
    "\n",
    "> Construct a syntax-directed translation scheme to translate postfix arithmetic expressions into equivalent prefix arithmetic expressions."
   ]
  },
  {
   "cell_type": "markdown",
   "metadata": {},
   "source": [
    "$$\\begin{array}{rcl}\n",
    "expr &\\rightarrow& \\{\\text{print('+')}\\}~expr~expr~+ \\\\\n",
    "&|& \\{\\text{print('-')}\\}~expr~expr~- \\\\\n",
    "&|& \\{\\text{print('*')}\\}~expr~expr~* \\\\\n",
    "&|& \\{\\text{print('/')}\\}~expr~expr~/ \\\\\n",
    "&|& digit ~\\{\\text{print(digit)}\\} \n",
    "\\end{array}$$"
   ]
  }
 ],
 "metadata": {
  "kernelspec": {
   "display_name": "Python 2",
   "language": "python",
   "name": "python2"
  },
  "language_info": {
   "codemirror_mode": {
    "name": "ipython",
    "version": 2
   },
   "file_extension": ".py",
   "mimetype": "text/x-python",
   "name": "python",
   "nbconvert_exporter": "python",
   "pygments_lexer": "ipython2",
   "version": "2.7.12"
  }
 },
 "nbformat": 4,
 "nbformat_minor": 2
}
