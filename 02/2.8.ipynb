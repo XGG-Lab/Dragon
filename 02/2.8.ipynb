{
 "cells": [
  {
   "cell_type": "markdown",
   "metadata": {},
   "source": [
    "## 2.8 Intermediate Code Generation"
   ]
  },
  {
   "cell_type": "markdown",
   "metadata": {},
   "source": [
    "### 2.8.1\n",
    "\n",
    "> For-statements in C and Java have the form:\n",
    "\n",
    "> $\\text{for}~(~expr_1~;~expr_2~;~expr_3~)~stmt$\n",
    "\n",
    "> The first expression is executed before the loop; it is typically used for initialization the loop index. The second expression is a test made before each iterator of the loop; the loop is exited if the expression becomes 0. The loop itself can be thought of as the statement $\\{stmt~expr_3;\\}$. The third expression is executed at the end of each iteration; it is typically used to increment the loop index. The meaning of thefor-statement is similar to\n",
    "\n",
    "> $expr_1;~\\text{while}~(~expr_2~)~\\{~stmt~expr_3;~\\}$\n",
    "\n",
    "> Define a class `For` for for-statements, similar to class `If1` in Fig. 2.43."
   ]
  },
  {
   "cell_type": "markdown",
   "metadata": {},
   "source": [
    "```java\n",
    "class For extends Stmt {\n",
    "    Expr expr1;\n",
    "    Expr expr2;\n",
    "    Expr expr3;\n",
    "    Stmt stmt;\n",
    "    \n",
    "    public For(Expr e1, Expr e2, Expr e3, Stmt t) {\n",
    "        expr1 = e1;\n",
    "        expr2 = e2;\n",
    "        expr3 = e3;\n",
    "        stmt = t;\n",
    "        before = newlabel();\n",
    "        after = newlabel();\n",
    "    }\n",
    "    \n",
    "    public void gen() {\n",
    "        expr1.gen();\n",
    "        emit(before + \":\");\n",
    "        emit(\"ifFalse \" + expr2.rvalue().toString() + \" goto \" + after);\n",
    "        stmt.gen();\n",
    "        expr3.gen();\n",
    "        emit(\"goto \" + before);\n",
    "        emit(after + \":\");\n",
    "    }\n",
    "}\n",
    "```"
   ]
  },
  {
   "cell_type": "markdown",
   "metadata": {},
   "source": [
    "### 2.8.2\n",
    "\n",
    "> The programming language C does not have a boolean type. Show how a C compiler might translate an if-statement into three-address code."
   ]
  },
  {
   "cell_type": "markdown",
   "metadata": {},
   "source": [
    "```\n",
    "Expr n = Rel(\"!=\", E.rvalue().toString(), 0).rvalue();\n",
    "```"
   ]
  }
 ],
 "metadata": {
  "kernelspec": {
   "display_name": "Python 2",
   "language": "python",
   "name": "python2"
  },
  "language_info": {
   "codemirror_mode": {
    "name": "ipython",
    "version": 2
   },
   "file_extension": ".py",
   "mimetype": "text/x-python",
   "name": "python",
   "nbconvert_exporter": "python",
   "pygments_lexer": "ipython2",
   "version": "2.7.12"
  }
 },
 "nbformat": 4,
 "nbformat_minor": 2
}
