{
 "cells": [
  {
   "cell_type": "markdown",
   "metadata": {},
   "source": [
    "## 2.4 Parsing"
   ]
  },
  {
   "cell_type": "markdown",
   "metadata": {},
   "source": [
    "### 2.4.1\n",
    "\n",
    "> Construct recursive-descent parsers, starting with the following grammars:\n",
    "\n",
    "> a) $S ~\\rightarrow~ +~S~S~|~-~S~S~|~\\mathbf{a}$"
   ]
  },
  {
   "cell_type": "markdown",
   "metadata": {},
   "source": [
    "```java\n",
    "import java.io.*;\n",
    "\n",
    "class Parser {\n",
    "    static int lookahead;\n",
    "    \n",
    "    public Parser() throws IOException {\n",
    "        lookahead = System.in.read();\n",
    "    }\n",
    "    \n",
    "    public void S() throws Exception {\n",
    "        switch (lookahead) {\n",
    "        case '+':\n",
    "            match('+'); S(); S(); break;\n",
    "        case '-':\n",
    "            match('-'); S(); S(); break;\n",
    "        case 'a':\n",
    "            match('a'); break;\n",
    "        default:\n",
    "            throw new Error(\"syntax error\");\n",
    "        }\n",
    "    }\n",
    "    \n",
    "    void match(int t) throws IOException {\n",
    "        if (lookahead == t) {\n",
    "            lookahead = System.in.read();\n",
    "        } else {\n",
    "            throw new Error(\"syntax error\");\n",
    "        }\n",
    "    }\n",
    "}\n",
    "\n",
    "public class Main {\n",
    "    public static void main(String[] args) throws IOException {\n",
    "        Parser parse = new Parser();\n",
    "        try {\n",
    "            parse.S();\n",
    "        } catch (Exception e) {\n",
    "            System.out.println(e.toString());\n",
    "        }\n",
    "    }\n",
    "}\n",
    "\n",
    "```"
   ]
  },
  {
   "cell_type": "markdown",
   "metadata": {},
   "source": [
    "> b) $S ~\\rightarrow~ S~(~S~)~S~|~\\epsilon$"
   ]
  },
  {
   "cell_type": "markdown",
   "metadata": {},
   "source": [
    "```java\n",
    "import java.io.*;\n",
    "\n",
    "class Parser {\n",
    "    static int lookahead;\n",
    "    \n",
    "    public Parser() throws IOException {\n",
    "        lookahead = System.in.read();\n",
    "    }\n",
    "    \n",
    "    public void S() throws Exception {\n",
    "        if (lookahead == '(') {\n",
    "            match('('); S(); match(')'); S();\n",
    "        } else {\n",
    "            new Error(\"syntax error\");\n",
    "        }\n",
    "    }\n",
    "    \n",
    "    void match(int t) throws IOException {\n",
    "        if (lookahead == t) {\n",
    "            lookahead = System.in.read();\n",
    "        } else {\n",
    "            throw new Error(\"syntax error\");\n",
    "        }\n",
    "    }\n",
    "}\n",
    "\n",
    "public class Main {\n",
    "    public static void main(String[] args) throws IOException {\n",
    "        Parser parse = new Parser();\n",
    "        try {\n",
    "            parse.S();\n",
    "        } catch (Exception e) {\n",
    "            System.out.println(e.toString());\n",
    "        }\n",
    "    }\n",
    "}\n",
    "\n",
    "```"
   ]
  },
  {
   "cell_type": "markdown",
   "metadata": {},
   "source": [
    "> c) $S ~\\rightarrow~ 0~S~1~|~0~1$"
   ]
  },
  {
   "cell_type": "markdown",
   "metadata": {},
   "source": [
    "```java\n",
    "import java.io.*;\n",
    "\n",
    "class Parser {\n",
    "    static int lookahead;\n",
    "    \n",
    "    public Parser() throws IOException {\n",
    "        lookahead = System.in.read();\n",
    "    }\n",
    "    \n",
    "    public void S() throws Exception {\n",
    "        match('0');\n",
    "        if (lookahead == '1') {\n",
    "            match('1');\n",
    "        } else {\n",
    "            S(); match('1');\n",
    "        }\n",
    "    }\n",
    "    \n",
    "    void match(int t) throws IOException {\n",
    "        if (lookahead == t) {\n",
    "            lookahead = System.in.read();\n",
    "        } else {\n",
    "            throw new Error(\"syntax error\");\n",
    "        }\n",
    "    }\n",
    "}\n",
    "\n",
    "public class Main {\n",
    "    public static void main(String[] args) throws IOException {\n",
    "        Parser parse = new Parser();\n",
    "        try {\n",
    "            parse.S();\n",
    "        } catch (Exception e) {\n",
    "            System.out.println(e.toString());\n",
    "        }\n",
    "    }\n",
    "}\n",
    "\n",
    "```"
   ]
  }
 ],
 "metadata": {
  "kernelspec": {
   "display_name": "Python 2",
   "language": "python",
   "name": "python2"
  },
  "language_info": {
   "codemirror_mode": {
    "name": "ipython",
    "version": 2
   },
   "file_extension": ".py",
   "mimetype": "text/x-python",
   "name": "python",
   "nbconvert_exporter": "python",
   "pygments_lexer": "ipython2",
   "version": "2.7.12"
  }
 },
 "nbformat": 4,
 "nbformat_minor": 2
}
