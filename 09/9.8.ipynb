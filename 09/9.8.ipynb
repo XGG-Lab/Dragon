{
 "cells": [
  {
   "cell_type": "markdown",
   "metadata": {},
   "source": [
    "## 9.8 Symbolic Analysis"
   ]
  },
  {
   "cell_type": "markdown",
   "metadata": {},
   "source": [
    "### 9.8.1\n",
    "\n",
    "> For the flow graph of Fig. 9.10, give the transfer functions for\n",
    "\n",
    "> a) Block $B_2$.\n",
    "\n",
    "> b) Block $B_4$.\n",
    "\n",
    "> c) Block $B_5$."
   ]
  },
  {
   "cell_type": "markdown",
   "metadata": {},
   "source": [
    "| $f$ | $f(m)(a)$ | $f(m)(b)$ | $f(m)(c)$ | $f(m)(d)$ | $f(m)(e)$ |\n",
    "|:-|:-|:-|:-|:-|:-|\n",
    "| $f_{B2}$ | $m(a)$ | $m(b)$ | $m(a) + m(b)$ | $m(b)$ | $m(e)$ |\n",
    "| $f_{B4}$ |$m(a)$ | $m(b)$ | $m(c)$ | $m(a) + m(b)$ | $m(e) + 1$ |\n",
    "| $f_{B5}$ |$m(a)$ | $m(a) + m(b)$ | $m(c)$ | $m(d)$ | $m(c) - m(a)$ |"
   ]
  }
 ],
 "metadata": {
  "kernelspec": {
   "display_name": "Python 2",
   "language": "python",
   "name": "python2"
  },
  "language_info": {
   "codemirror_mode": {
    "name": "ipython",
    "version": 2
   },
   "file_extension": ".py",
   "mimetype": "text/x-python",
   "name": "python",
   "nbconvert_exporter": "python",
   "pygments_lexer": "ipython2",
   "version": "2.7.12"
  }
 },
 "nbformat": 4,
 "nbformat_minor": 2
}
