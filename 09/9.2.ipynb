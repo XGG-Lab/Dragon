{
 "cells": [
  {
   "cell_type": "markdown",
   "metadata": {},
   "source": [
    "## 9.2 Introduction to Data-Flow Analysis"
   ]
  },
  {
   "cell_type": "markdown",
   "metadata": {},
   "source": [
    "### 9.2.1\n",
    "\n",
    "> For the flow graph of Fig. 9.10, compute\n",
    "\n",
    "> a) The $gen$ and $kill$ sets for each block."
   ]
  },
  {
   "cell_type": "markdown",
   "metadata": {},
   "source": [
    "| Block $B$ | $gen$ | $kill$ |\n",
    "|:-:|:--|:--|\n",
    "| $B_{1}$ | $\\{b_{1}, b_{2}\\}$ | $\\{b_{8}, b_{10}, b_{11}\\}$ |\n",
    "| $B_{2}$ | $\\{b_{3}, b_{4}\\}$ | $\\{b_{5}, b_{6}\\}$ |\n",
    "| $B_{3}$ | $\\{b_{5}\\}$ | $\\{b_{4}, b_{6}\\}$ |\n",
    "| $B_{4}$ | $\\{b_{6}, b_{7}\\}$ | $\\{b_{4}, b_{5}, b_{9}\\}$ |\n",
    "| $B_{5}$ | $\\{b_{8}, b_{9}\\}$ | $\\{b_{2}, b_{7}, b_{11}\\}$ |\n",
    "| $B_{6}$ | $\\{b_{10}, b_{11}\\}$ | $\\{b_{1}, b_{2}, b_{8}\\}$ |"
   ]
  },
  {
   "cell_type": "markdown",
   "metadata": {},
   "source": [
    "> b) The IN and OUT sets for each block."
   ]
  },
  {
   "cell_type": "markdown",
   "metadata": {},
   "source": [
    "| Block $B$ | $\\text{OUT}[B]^0$ | $\\text{IN}[B]^1$ | $\\text{OUT}[B]^1$ | $\\text{IN}[B]^2$ | $\\text{OUT}[B]^2$ |\n",
    "|:-:|:-:|:-:|:-:|:-:|:-:|\n",
    "| $B_{1}$ | 00000000000 | 00000000000 | 11000000000 | 00000000000 | 11000000000 |\n",
    "| $B_{2}$ | 00000000000 | 11000000000 | 11110000000 | 11101001100 | 11110001100 |\n",
    "| $B_{3}$ | 00000000000 | 11110000000 | 11101000000 | 11110111100 | 11101011100 |\n",
    "| $B_{4}$ | 00000000000 | 11101000000 | 11100110000 | 11101011100 | 11100111000 |\n",
    "| $B_{5}$ | 00000000000 | 11101000000 | 10101001100 | 11101011100 | 10101001100 |\n",
    "| $B_{6}$ | 00000000000 | 10101001100 | 00101000111 | 10101001100 | 00101000111 |\n",
    "| EXIT | 00000000000 | 00101000111 | 00101000111 | 00101000111 | 00101000111 |"
   ]
  }
 ],
 "metadata": {
  "kernelspec": {
   "display_name": "Python 2",
   "language": "python",
   "name": "python2"
  },
  "language_info": {
   "codemirror_mode": {
    "name": "ipython",
    "version": 2
   },
   "file_extension": ".py",
   "mimetype": "text/x-python",
   "name": "python",
   "nbconvert_exporter": "python",
   "pygments_lexer": "ipython2",
   "version": "2.7.12"
  }
 },
 "nbformat": 4,
 "nbformat_minor": 2
}
