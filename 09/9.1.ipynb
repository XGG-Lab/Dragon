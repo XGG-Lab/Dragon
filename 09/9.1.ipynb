{
 "cells": [
  {
   "cell_type": "markdown",
   "metadata": {},
   "source": [
    "## 9.1 The Principal Sources of Optimization"
   ]
  },
  {
   "cell_type": "markdown",
   "metadata": {},
   "source": [
    "### 9.1.1\n",
    "\n",
    "> For the flow graph in Fig. 9.10:"
   ]
  },
  {
   "cell_type": "markdown",
   "metadata": {},
   "source": [
    "```\n",
    "                           +-----+\n",
    "                           |ENTRY|\n",
    "                           +--+--+\n",
    "                              |\n",
    "                              |\n",
    "                              |\n",
    "                        +-----v-----+\n",
    "                        |(1) a = 1  | B1\n",
    "                        |(2) b = 2  |\n",
    "                        +-----+-----+\n",
    "                              |\n",
    "                              |\n",
    "                              |\n",
    "                        +-----v-----+\n",
    "                        |(3) c = a+b<---+\n",
    "  B3      +-------------+(4) d = c-a|   |\n",
    "          |             +-----------+   |\n",
    "    +-----v-----+                       |\n",
    "+--->(5) d = b+d|                B2     |\n",
    "|   |           +---+                   |\n",
    "|   +-----+-----+   |                   |\n",
    "|         |         |   +-----------+   |\n",
    "|         |         +--->(8) b = a+b|   |\n",
    "|         |             |(9) e = c-a+---+\n",
    "|   +-----v-----+       +-----+-----+\n",
    "|   |(6) d = a+b|             |       B5\n",
    "+---+(7) e = e+1|             |\n",
    "    +-----------+             |\n",
    "                        +-----v------+\n",
    "    B4                  |(10) a = b*d| B6\n",
    "                        |(11) b = a-d|\n",
    "                        +-----+------+\n",
    "                              |\n",
    "                              |\n",
    "                              |\n",
    "                            +-v--+\n",
    "                            |EXIT|\n",
    "                            +----+\n",
    "```"
   ]
  },
  {
   "cell_type": "markdown",
   "metadata": {},
   "source": [
    "> a) Identify the loops of the flow graph."
   ]
  },
  {
   "cell_type": "markdown",
   "metadata": {},
   "source": [
    "* $\\{ B_2, B_3, B_4, B_5 \\}$\n",
    "* $\\{ B_3, B_4 \\}$"
   ]
  },
  {
   "cell_type": "markdown",
   "metadata": {},
   "source": [
    "> b) Statements (1) and (2) in $B_1$ are both copy statements, in which $a$ and $b$ can we perform copy propagation and replace these uses of variables by uses of constant? Do so, wherever possible.\n",
    "\n",
    "> c) Identify any global common subexpressions for each loop.\n",
    "\n",
    "> d) Identify any induction variables for each loop. Be sure to take into account any constants introduced in (b).\n",
    "\n",
    "> e) Identify any loop-invariant computations for each loop."
   ]
  },
  {
   "cell_type": "markdown",
   "metadata": {},
   "source": [
    "```\n",
    "                           +-----+\n",
    "                           |ENTRY|\n",
    "                           +--+--+\n",
    "                              |\n",
    "                              |\n",
    "                              |\n",
    "                        +-----v-----+\n",
    "                        |(2) b = 2  | B1\n",
    "                        |   t1=b    |\n",
    "                        +-----+-----+\n",
    "                              |\n",
    "                              |\n",
    "                              |\n",
    "                        +-----v------+\n",
    "                        |   t1 = 1+t1|\n",
    "                        |(3) c = t1  <---+\n",
    "  B3      +-------------+   t2 = b   |   |\n",
    "          |             |    d = t2  |   |\n",
    "    +-----v-----+       +------------+   |\n",
    "+--->(5) d =t2+d|                B2      |\n",
    "|   |           +---+                    |\n",
    "|   +-----+-----+   |                    |\n",
    "|         |         |   +-----------+    |\n",
    "|         |         +--->           |    |\n",
    "|         |             |(9) e = t2 +----+\n",
    "|   +-----v-----+       +-----+-----+\n",
    "|   |(6) d = t1 |             |       B5\n",
    "+---+(7) e = e+1|             |\n",
    "    +-----------+             |\n",
    "                        +-----v-------+\n",
    "    B4                  |(10) a = t1*d| B6\n",
    "                        |(11) b = a-d |\n",
    "                        +-----+-------+\n",
    "                              |\n",
    "                              |\n",
    "                              |\n",
    "                            +-v--+\n",
    "                            |EXIT|\n",
    "                            +----+\n",
    "```"
   ]
  },
  {
   "cell_type": "markdown",
   "metadata": {},
   "source": [
    "> e) Identify any loop-invariant computations for each loop."
   ]
  },
  {
   "cell_type": "markdown",
   "metadata": {},
   "source": [
    "### 9.1.2\n",
    "\n",
    "### 9.1.3"
   ]
  },
  {
   "cell_type": "markdown",
   "metadata": {},
   "source": [
    "### 9.1.4\n",
    "\n",
    "> In Fig. 9.11 is intermediate code to compute the dot product of two vectors $A$ and $B$. Optimize this code by eliminating common subexpressions, performing reduction in strength on induction variables, and eliminating all the induction variables you can."
   ]
  },
  {
   "cell_type": "markdown",
   "metadata": {},
   "source": [
    "```\n",
    "    dp = 0.\n",
    "    t1 = 0\n",
    "    t6 = n * 8\n",
    "L:  t2 = A[t1]\n",
    "    t4 = B[t1]\n",
    "    t5 = t2 * t4\n",
    "    dp = dp + t5\n",
    "    t1 = t1 + 8\n",
    "    if t1 < t6 goto L\n",
    "```"
   ]
  }
 ],
 "metadata": {
  "kernelspec": {
   "display_name": "Python 2",
   "language": "python",
   "name": "python2"
  },
  "language_info": {
   "codemirror_mode": {
    "name": "ipython",
    "version": 2
   },
   "file_extension": ".py",
   "mimetype": "text/x-python",
   "name": "python",
   "nbconvert_exporter": "python",
   "pygments_lexer": "ipython2",
   "version": "2.7.12"
  }
 },
 "nbformat": 4,
 "nbformat_minor": 2
}
