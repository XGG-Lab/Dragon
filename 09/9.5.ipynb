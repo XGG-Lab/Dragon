{
 "cells": [
  {
   "cell_type": "markdown",
   "metadata": {},
   "source": [
    "## 9.5 Partial-Redundancy Elimination"
   ]
  },
  {
   "cell_type": "markdown",
   "metadata": {},
   "source": [
    "### 9.5.1\n",
    "\n",
    "> For the flow graph in Fig. 9.37:\n",
    "\n",
    "> ```\n",
    "          +-----+\n",
    "          |ENTRY|\n",
    "          +--+--+\n",
    "             |\n",
    "             |\n",
    "             |\n",
    "        +----v----+\n",
    "        |   = x+y |   B1\n",
    "        +----+----+\n",
    "             |\n",
    "             |\n",
    "             |\n",
    "        +----v----+\n",
    "+-------> x =     |   B2\n",
    "|       +----+----+\n",
    "|            |\n",
    "|            |\n",
    "|            |\n",
    "|       +----v----+\n",
    "+-------+   = x+y |   B3\n",
    "        +----+----+\n",
    "             |\n",
    "             |\n",
    "             |\n",
    "        +----v----+\n",
    "        |   = x+y |   B4\n",
    "        +----+----+\n",
    "             |\n",
    "             |\n",
    "             |\n",
    "          +--v-+\n",
    "          |EXIT|\n",
    "          +----+\n",
    "```"
   ]
  },
  {
   "cell_type": "markdown",
   "metadata": {},
   "source": [
    "> a) Compute $anticipated$ for the beginning and end of each block.\n",
    "\n",
    "> b) Compute $available$ for the beginning and end of each block.\n",
    "\n",
    "> c) Compute $earliest$ for each block.\n",
    "\n",
    "> d) Compute $postponable$ for the beginning and end of each block.\n",
    "\n",
    "> e) Compute $used$ for the beginning and end of each block.\n",
    "\n",
    "> f) Compute $latest$ for each block."
   ]
  },
  {
   "cell_type": "markdown",
   "metadata": {},
   "source": [
    "| Block   | $anticipated$ | $available$ | $earliest$ | $postponable$ | $latest$ | $used$ |\n",
    "|:-------:|:----------------|:--------------|:------------:|:----------------|:----------:|:---------|\n",
    "| ENTRY   | $\\begin{array}{rll}\\text{OUT}[\\text{ENTRY}] &=& \\{ x+y \\} \\end{array}$ | $\\begin{array}{rll}\\text{OUT}[\\text{ENTRY}] &=& \\emptyset \\end{array}$ | $\\emptyset$ | $\\begin{array}{rll}\\text{OUT}[\\text{ENTRY}] &=& \\emptyset \\end{array}$ | $\\emptyset$ | $\\begin{array}{rll}\\text{OUT}[\\text{ENTRY}] &=& \\emptyset \\end{array}$ |\n",
    "| $B_1$ | $\\begin{array}{rll}\\text{IN}[B_1] &=& \\{ x+y \\} \\\\ \\text{OUT}[B_1] &=& \\emptyset \\end{array}$ | $\\begin{array}{rll}\\text{IN}[B_1] &=& \\emptyset \\\\ \\text{OUT}[B_1] &=& \\{ x+y \\} \\end{array}$ | $\\{ x + y \\}$ | $\\begin{array}{rll}\\text{IN}[B_1] &=& \\emptyset \\\\ \\text{OUT}[B_1] &=& \\emptyset \\end{array}$ | $\\{ x + y \\}$ | $\\begin{array}{rll}\\text{IN}[B_1] &=& \\emptyset \\\\ \\text{OUT}[B_1] &=& \\emptyset \\end{array}$ |\n",
    "| $B_2$ | $\\begin{array}{rll}\\text{IN}[B_2] &=& \\emptyset \\\\ \\text{OUT}[B_2] &=& \\{ x+y \\} \\end{array}$ | $\\begin{array}{rll}\\text{IN}[B_2] &=& \\{ x+y \\} \\\\ \\text{OUT}[B_2] &=& \\emptyset \\end{array}$ | $\\emptyset$ | $\\begin{array}{rll}\\text{IN}[B_2] &=& \\emptyset \\\\ \\text{OUT}[B_2] &=& \\emptyset \\end{array}$ | $\\emptyset$ | $\\begin{array}{rll}\\text{IN}[B_2] &=& \\emptyset \\\\ \\text{OUT}[B_2] &=& \\emptyset \\end{array}$ |\n",
    "| $B_3$ | $\\begin{array}{rll}\\text{IN}[B_3] &=& \\{ x+y \\} \\\\ \\text{OUT}[B_3] &=& \\emptyset \\end{array}$ | $\\begin{array}{rll}\\text{IN}[B_3] &=& \\emptyset \\\\ \\text{OUT}[B_3] &=& \\{ x+y \\} \\end{array}$ | $\\{ x + y \\}$ | $\\begin{array}{rll}\\text{IN}[B_3] &=& \\emptyset \\\\ \\text{OUT}[B_3] &=& \\emptyset \\end{array}$ | $\\{ x + y \\}$ | $\\begin{array}{rll}\\text{IN}[B_3] &=& \\emptyset \\\\ \\text{OUT}[B_3] &=& \\{ x+y \\} \\end{array}$ |\n",
    "| $B_4$ | $\\begin{array}{rll}\\text{IN}[B_4] &=& \\{ x+y \\} \\\\ \\text{OUT}[B_4] &=& \\emptyset \\end{array}$ | $\\begin{array}{rll}\\text{IN}[B_4] &=& \\{ x+y \\} \\\\ \\text{OUT}[B_4] &=& \\{ x+y \\} \\end{array}$ | $\\emptyset$ | $\\begin{array}{rll}\\text{IN}[B_4] &=& \\emptyset \\\\ \\text{OUT}[B_4] &=& \\emptyset \\end{array}$ | $\\emptyset$ | $\\begin{array}{rll}\\text{IN}[B_4] &=& \\{ x+y \\}\\\\ \\text{OUT}[B_4] &=& \\emptyset \\end{array}$ |\n",
    "| EXIT    | $\\begin{array}{rll}\\text{IN}[\\text{EXIT}] &=& \\emptyset \\end{array}$ | $\\begin{array}{rll}\\text{IN}[\\text{EXIT}] &=& \\{ x+y \\} \\end{array}$ | $\\emptyset$ | $\\begin{array}{rll}\\text{IN}[\\text{EXIT}] &=& \\emptyset \\end{array}$ | $\\emptyset$ | $\\begin{array}{rll}\\text{IN}[\\text{EXIT}] &=& \\emptyset \\end{array}$ |"
   ]
  },
  {
   "cell_type": "markdown",
   "metadata": {},
   "source": [
    "> g) Introduce temporary variable $t$; show where it is computed and where it is used."
   ]
  },
  {
   "cell_type": "markdown",
   "metadata": {},
   "source": [
    "```\n",
    "          +-----+\n",
    "          |ENTRY|\n",
    "          +--+--+\n",
    "             |\n",
    "             |\n",
    "        +----v----+\n",
    "        |   = x+y |   B1\n",
    "        +----+----+\n",
    "             |\n",
    "             |\n",
    "             |\n",
    "        +----v----+\n",
    "+-------> x =     |   B2\n",
    "|       +----+----+\n",
    "|            |\n",
    "|            |\n",
    "|       +----v----+\n",
    "|       | t = x+y |\n",
    "+-------+   = t   |   B3\n",
    "        +----+----+\n",
    "             |\n",
    "             |\n",
    "             |\n",
    "        +----v----+\n",
    "        |   = t   |   B4\n",
    "        +----+----+\n",
    "             |\n",
    "             |\n",
    "             |\n",
    "          +--v-+\n",
    "          |EXIT|\n",
    "          +----+\n",
    "```"
   ]
  }
 ],
 "metadata": {
  "kernelspec": {
   "display_name": "Python 2",
   "language": "python",
   "name": "python2"
  },
  "language_info": {
   "codemirror_mode": {
    "name": "ipython",
    "version": 2
   },
   "file_extension": ".py",
   "mimetype": "text/x-python",
   "name": "python",
   "nbconvert_exporter": "python",
   "pygments_lexer": "ipython2",
   "version": "2.7.12"
  }
 },
 "nbformat": 4,
 "nbformat_minor": 2
}
