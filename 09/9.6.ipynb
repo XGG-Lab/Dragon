{
 "cells": [
  {
   "cell_type": "markdown",
   "metadata": {},
   "source": [
    "## 9.6 Loops in Flow Graphs"
   ]
  },
  {
   "cell_type": "markdown",
   "metadata": {},
   "source": [
    "### 9.6.1\n",
    "\n",
    "> For the flow graph of Fig. 9.10:\n",
    "\n",
    "> i. Compute the dominator relation.\n",
    "\n",
    "> ii. Find the immediate dominator of each node.\n",
    "\n",
    "> iii. Construct the dominator tree."
   ]
  },
  {
   "cell_type": "markdown",
   "metadata": {},
   "source": [
    "```\n",
    "       +-----+\n",
    "       |ENTRY|\n",
    "       +--+--+\n",
    "          |\n",
    "          |\n",
    "       +--v--+\n",
    "       | B1  |\n",
    "       +--+--+\n",
    "          |\n",
    "          |\n",
    "       +--v--+\n",
    "       | B2  |\n",
    "       +--+--+\n",
    "          |\n",
    "          |\n",
    "       +--v--+\n",
    "       | B3  |\n",
    "       +-+-+-+\n",
    "         | |\n",
    "   +-----+ +-----+\n",
    "   |             |\n",
    "+--v--+       +--v--+\n",
    "| B4  |       | B5  |\n",
    "+-----+       +--+--+\n",
    "                 |\n",
    "                 |\n",
    "              +--v--+\n",
    "              | B6  |\n",
    "              +--+--+\n",
    "                 |\n",
    "                 |\n",
    "              +--v--+\n",
    "              |EXIT |\n",
    "              +-----+\n",
    "```"
   ]
  },
  {
   "cell_type": "markdown",
   "metadata": {},
   "source": [
    "> iv. Find one depth-first ordering for the flow graph."
   ]
  },
  {
   "cell_type": "markdown",
   "metadata": {},
   "source": [
    "```\n",
    "            +-----+\n",
    "            |ENTRY| 1\n",
    "            +--+--+\n",
    "               |\n",
    "               |\n",
    "            +--v--+\n",
    "            | B1  | 2\n",
    "            +--+--+\n",
    "               |\n",
    "               |\n",
    "            +--v--+\n",
    "          3 | B2  <- - - - - -+\n",
    "            +--+--+           |\n",
    "               |\n",
    "               |              |\n",
    "            +--v--+\n",
    "+- - - - - -> B3  | 4         |\n",
    "|           +-+-+-+\n",
    "              | |             |\n",
    "|       +-----+ +-----+\n",
    "        |             |       |\n",
    "|    +--v--+       +--v--+\n",
    "+ - -+ B4  | 5   6 | B5  +- - +\n",
    "     +-----+       +--+--+\n",
    "                      |\n",
    "                      |\n",
    "                   +--v--+\n",
    "                 7 | B6  |\n",
    "                   +--+--+\n",
    "                      |\n",
    "                      |\n",
    "                   +--v--+\n",
    "                 8 |EXIT |\n",
    "                   +-----+\n",
    "```"
   ]
  },
  {
   "cell_type": "markdown",
   "metadata": {},
   "source": [
    "> v. Indicate the advancing, retreating, cross, and tree edges for your answer to iv."
   ]
  },
  {
   "cell_type": "markdown",
   "metadata": {},
   "source": [
    "* Advancing: $\\text{ENTRY} \\rightarrow B_1$, $B_1 \\rightarrow B_2$, $B_2 \\rightarrow B_3$, $B_3 \\rightarrow B_4$, $B_3 \\rightarrow B_5$, $B_5 \\rightarrow B_6$, $B_6 \\rightarrow \\text{EXIT}$\n",
    "* Retreating: $B_4 \\rightarrow B_3$, $B_5 \\rightarrow B_2$\n",
    "* Cross: $\\emptyset$"
   ]
  },
  {
   "cell_type": "markdown",
   "metadata": {},
   "source": [
    "> vi. Is the flow graph reducible?"
   ]
  },
  {
   "cell_type": "markdown",
   "metadata": {},
   "source": [
    "Yes."
   ]
  },
  {
   "cell_type": "markdown",
   "metadata": {},
   "source": [
    "> vii. Compute the depth of the flow graph."
   ]
  },
  {
   "cell_type": "markdown",
   "metadata": {},
   "source": [
    "7"
   ]
  },
  {
   "cell_type": "markdown",
   "metadata": {},
   "source": [
    "> viii. Find the nature loops of the flow graph."
   ]
  },
  {
   "cell_type": "markdown",
   "metadata": {},
   "source": [
    "* $\\{ B_3, B_4 \\}$\n",
    "* $\\{ B_2, B_3, B_4, B_5 \\}$"
   ]
  }
 ],
 "metadata": {
  "kernelspec": {
   "display_name": "Python 2",
   "language": "python",
   "name": "python2"
  },
  "language_info": {
   "codemirror_mode": {
    "name": "ipython",
    "version": 2
   },
   "file_extension": ".py",
   "mimetype": "text/x-python",
   "name": "python",
   "nbconvert_exporter": "python",
   "pygments_lexer": "ipython2",
   "version": "2.7.12"
  }
 },
 "nbformat": 4,
 "nbformat_minor": 2
}
