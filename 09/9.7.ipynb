{
 "cells": [
  {
   "cell_type": "markdown",
   "metadata": {},
   "source": [
    "## 9.7 Region-Based Analysis"
   ]
  },
  {
   "cell_type": "markdown",
   "metadata": {},
   "source": [
    "### 9.7.1\n",
    "\n",
    "> For the flow graph of Fig. 9.10:\n",
    "\n",
    "> i. Find all the possible regions.\n",
    "\n",
    "> ii. Give the set of nested regions constructed by Algorithm 9.52."
   ]
  },
  {
   "cell_type": "markdown",
   "metadata": {},
   "source": [
    "* $R_7 = \\{ R_3, R_4 \\}$\n",
    "* $R_8 = \\{ R_7 \\}$\n",
    "* $R_9 = \\{ R_2, R_8, R_5 \\}$\n",
    "* $R_{10} = \\{ R_9 \\}$\n",
    "* $R_{11} = \\{ R_1, B_{10}, B_6 \\}$"
   ]
  },
  {
   "cell_type": "markdown",
   "metadata": {},
   "source": [
    "> iii. Give a $T_1-T_2$ reduction of the flow graph as described in the box on \"Where 'Reducible' Comes From\" in Section 9.7.2."
   ]
  }
 ],
 "metadata": {
  "kernelspec": {
   "display_name": "Python 2",
   "language": "python",
   "name": "python2"
  },
  "language_info": {
   "codemirror_mode": {
    "name": "ipython",
    "version": 2
   },
   "file_extension": ".py",
   "mimetype": "text/x-python",
   "name": "python",
   "nbconvert_exporter": "python",
   "pygments_lexer": "ipython2",
   "version": "2.7.12"
  }
 },
 "nbformat": 4,
 "nbformat_minor": 2
}
