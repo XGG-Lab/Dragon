{
 "cells": [
  {
   "cell_type": "markdown",
   "metadata": {},
   "source": [
    "## 5.1 Syntax-Directed Definitions"
   ]
  },
  {
   "cell_type": "markdown",
   "metadata": {},
   "source": [
    "### 5.1.1\n",
    "\n",
    "> For the SDD of Fig. 5.1, give annotated parse trees for the following expressions:\n",
    "\n",
    "> a) $(3+4)*(5+6)~\\mathbf{n}$."
   ]
  },
  {
   "cell_type": "markdown",
   "metadata": {},
   "source": [
    "![](./img/5.1.1.a.png)"
   ]
  },
  {
   "cell_type": "markdown",
   "metadata": {},
   "source": [
    "> b) $1*2*3*(4+5)~\\mathbf{n}$."
   ]
  },
  {
   "cell_type": "markdown",
   "metadata": {},
   "source": [
    "![](./img/5.1.1.b.png)"
   ]
  },
  {
   "cell_type": "markdown",
   "metadata": {},
   "source": [
    "> c) $(9 + 8 * (7 + 6) + 5) * 4~\\mathbf{n}$."
   ]
  },
  {
   "cell_type": "markdown",
   "metadata": {},
   "source": [
    "![](./img/5.1.1.c.png)"
   ]
  },
  {
   "cell_type": "markdown",
   "metadata": {},
   "source": [
    "### 5.1.2\n",
    "\n",
    "> Extend the SDD of Fig. 5.4 to handle expressions as in Fig. 5.1."
   ]
  },
  {
   "cell_type": "markdown",
   "metadata": {},
   "source": [
    "| Production | Semantic Rules |\n",
    "|:-----------|:---------------|\n",
    "| $L~\\rightarrow~E~\\mathbf{n}$ | $L.val = E.val$ |\n",
    "| $E~\\rightarrow~T~E'$ | $E'.inh = T.val \\\\ E.val = E'.syn$ |\n",
    "| $E'~\\rightarrow~+~T~E'_1$ | $E'_1.inh = E'.inh + T.val\\\\E'syn = E'_1.syn$ |\n",
    "| $E'~\\rightarrow~\\epsilon$ | $E'.syn = E'.inh$ |\n",
    "| $T~\\rightarrow~F~T'$ | $T'.inh = F.val \\\\T.val=T'.syn$ |\n",
    "| $T'~\\rightarrow~*~F~T'_1$ | $T'_1.inh = T'.inh \\times F.val \\\\ T'.syn = T'_1.syn$ |\n",
    "| $T'~\\rightarrow~\\epsilon$ | $T'.syn = T'.inh$ |\n",
    "| $F~\\rightarrow~(~E~)$ | $F.val = E.val$ |\n",
    "| $F~\\rightarrow~\\mathbf{digit}$ | $F.val = \\mathbf{digit}.lexval$ |"
   ]
  },
  {
   "cell_type": "markdown",
   "metadata": {},
   "source": [
    "### 5.1.3\n",
    "\n",
    "> Repeat Exercise 5.1.1, using your SDD from Exercise 5.1.2.\n",
    "\n",
    "> a) $(3+4)*(5+6)~\\mathbf{n}$."
   ]
  },
  {
   "cell_type": "markdown",
   "metadata": {},
   "source": [
    "[LaTeX](./src/5.3.1.a.tex)"
   ]
  },
  {
   "cell_type": "markdown",
   "metadata": {},
   "source": [
    "> b) $1*2*3*(4+5)~\\mathbf{n}$."
   ]
  },
  {
   "cell_type": "markdown",
   "metadata": {},
   "source": [
    "[LaTeX](./src/5.3.1.b.tex)"
   ]
  },
  {
   "cell_type": "markdown",
   "metadata": {},
   "source": [
    "> c) $(9 + 8 * (7 + 6) + 5) * 4~\\mathbf{n}$."
   ]
  },
  {
   "cell_type": "markdown",
   "metadata": {},
   "source": [
    "[LaTeX](./src/5.3.1.c.tex)"
   ]
  }
 ],
 "metadata": {
  "kernelspec": {
   "display_name": "Python 2",
   "language": "python",
   "name": "python2"
  },
  "language_info": {
   "codemirror_mode": {
    "name": "ipython",
    "version": 2
   },
   "file_extension": ".py",
   "mimetype": "text/x-python",
   "name": "python",
   "nbconvert_exporter": "python",
   "pygments_lexer": "ipython2",
   "version": "2.7.12"
  }
 },
 "nbformat": 4,
 "nbformat_minor": 2
}
