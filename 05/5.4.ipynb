{
 "cells": [
  {
   "cell_type": "markdown",
   "metadata": {},
   "source": [
    "## 5.4 Syntax-Directed Translation Schemes"
   ]
  },
  {
   "cell_type": "markdown",
   "metadata": {},
   "source": [
    "### 5.4.1\n",
    "\n",
    "> We mentioned in Section 5.4.2 that it is possible to deduce, from the LR state on the parsing stack, what grammar symbol is represented by the state. How would we discover the information?"
   ]
  },
  {
   "cell_type": "markdown",
   "metadata": {},
   "source": [
    "Reduce action."
   ]
  },
  {
   "cell_type": "markdown",
   "metadata": {},
   "source": [
    "### 5.4.2\n",
    "\n",
    "> Rewrite the following SDT:\n",
    ">\n",
    "> $$A~\\rightarrow~A~\\{a\\}~B~|~A~B~\\{b\\}~|~0\\\\\n",
    "B~\\rightarrow~B~\\{c\\}~A~|~B~A~\\{d\\}~|~1$$\n",
    ">\n",
    "> so that the underlying grammar becomes non-left-recursive. Here, $a$, $b$, $c$, and $d$ are actions, and $0$ and $1$ are terminals."
   ]
  },
  {
   "cell_type": "markdown",
   "metadata": {},
   "source": [
    "$$\\begin{array}{rcl}\n",
    "A &\\rightarrow& 0~A' \\\\\n",
    "A' &\\rightarrow& \\{a\\}~B~A' \\\\\n",
    "&|& B~\\{b\\}~A' \\\\\n",
    "&|& \\epsilon \\\\\n",
    "B &\\rightarrow& 1~B' \\\\\n",
    "B' &\\rightarrow& \\{c\\}~A~B' \\\\\n",
    "&|& A~\\{d\\}~B' \\\\\n",
    "&|& \\epsilon \\\\\n",
    "\\end{array}$$"
   ]
  },
  {
   "cell_type": "markdown",
   "metadata": {},
   "source": [
    "### 5.4.3\n",
    "\n",
    "> The following SDT computes the value of a string of 0's and 1' interpreted as a positive, binary integer.\n",
    "\n",
    "> $$\n",
    "\\begin{array}{rcl}\n",
    "B &\\rightarrow& B_1~0~\\{B.val = 2 \\times B_1.val\\} \\\\\n",
    "&|& B_1~1~\\{B.val = 2 \\times B_1.val + 1\\} \\\\\n",
    "&|& 1~\\{ B.val = 1 \\}\n",
    "\\end{array}$$\n",
    "\n",
    "> Rewrite this SDT so the underlying grammar is not left recursive, and yet the same value of $B.val$ is computed for the entire input string."
   ]
  },
  {
   "cell_type": "markdown",
   "metadata": {},
   "source": [
    "$$\\begin{array}{rcl}\n",
    "B &\\rightarrow& 1~B'~\\{B'.val = B'.mul + B'.val\\} \\\\\n",
    "B' &\\rightarrow& 0~B'_1~\\{B'.mul = B'_1.mul \\times 2,~B'.val = B'_1.val \\} \\\\\n",
    "&|& 1~B'_1~\\{B'.mul = B'_1.mul \\times 2,~B'.val = B'_1.mul + B'_1.val \\} \\\\\n",
    "&|& \\epsilon~\\{B'.mul = 1,~B'.val=0\\} \\\\\n",
    "\\end{array}$$"
   ]
  },
  {
   "cell_type": "markdown",
   "metadata": {},
   "source": [
    "### 5.4.4\n",
    "\n",
    "> Write L-attributed SDD's analogous to that of Example 5.19 for the following productions, each of which represents a familiar flow-of-control construct, as in the programming language C. You may need to generate a three-address statement to jump to a particular label $L$, in which case you should generate __goto__ $L$.\n",
    "\n",
    "> a) $S~\\rightarrow~\\mathbf{if}~(~C~)~S_1~\\mathbf{else}~S_2$"
   ]
  },
  {
   "cell_type": "markdown",
   "metadata": {},
   "source": [
    "$$\\begin{array}{ll}\n",
    "S~\\rightarrow~\\mathbf{if}~(~C~)~S_1~\\mathbf{else}~S_2&L_1 = new(); \\\\\n",
    "&L_2 = new();\\\\\n",
    "&C.true = L_1;\\\\\n",
    "&C.false = L_2;\\\\\n",
    "&S_1.next = S.next;\\\\\n",
    "&S_2.next = S.next;\\\\\n",
    "&S.code = C.code~||~\\mathbf{label}~||~L_1~||~S_1.code~||~\\mathbf{label}~||~L_2~||~S_2.code;\\\\\n",
    "\\end{array}$$"
   ]
  },
  {
   "cell_type": "markdown",
   "metadata": {},
   "source": [
    "> b) $S~\\rightarrow~\\mathbf{do}~S_1~\\mathbf{while}~(~C~)$"
   ]
  },
  {
   "cell_type": "markdown",
   "metadata": {},
   "source": [
    "$$\\begin{array}{ll}\n",
    "S~\\rightarrow~\\mathbf{do}~S_1~\\mathbf{while}~(~C~) & L_1=new();\\\\\n",
    "&L_2=new();\\\\\n",
    "&S_1.next=L_2;\\\\\n",
    "&C.true=L_1;\\\\\n",
    "&C.false=S.next;\\\\\n",
    "&S.code = \\mathbf{label}~||~L_1~||~S_1.code~||~\\mathbf{label}~||~L_2~||~C.code; \\\\\n",
    "\\end{array}$$"
   ]
  },
  {
   "cell_type": "markdown",
   "metadata": {},
   "source": [
    "> c) $S~\\rightarrow~\\text{'\\{'}~L~\\text{'\\}'};~L~\\rightarrow~L~S~|~\\epsilon$"
   ]
  },
  {
   "cell_type": "markdown",
   "metadata": {},
   "source": [
    "$$\\begin{array}{ll}\n",
    "S~\\rightarrow~\\text{'\\{'}~L~\\text{'\\}'} & L.next = S.next;\\\\\n",
    "&S.code = L.code;\\\\\n",
    "L~\\rightarrow~L_1~S & L_2 = new();\\\\\n",
    "&L_1.next = L_2;\\\\\n",
    "&S.next = L.next;\\\\\n",
    "&L.code = L_1.code~||~\\mathbf{label}~||~L_2~||~S.code; \\\\\n",
    "L~\\rightarrow~\\epsilon & L.code = \\text{''}; \\\\\n",
    "\\end{array}$$"
   ]
  },
  {
   "cell_type": "markdown",
   "metadata": {},
   "source": [
    "### 5.4.5\n",
    "\n",
    "> Convert each of your SDD's from Exercise 5.4.4 to an SDT in the manner of Example 5.19.\n",
    "> a) $S~\\rightarrow~\\mathbf{if}~(~C~)~S_1~\\mathbf{else}~S_2$"
   ]
  },
  {
   "cell_type": "markdown",
   "metadata": {},
   "source": [
    "$$\\begin{array}{rcll}\n",
    "S &\\rightarrow& \\mathbf{if}~(&\\{L_1 = new(); L_2 = new(); C.true = L_1; C.false = L_2;\\}\\\\\n",
    "&& C~)&\\{S_1.next = S.next;\\}\\\\\n",
    "&& S_1~\\mathbf{else}&\\{S_2.next = S.next;\\}\\\\\n",
    "&& S_2&\\{S.code = C.code~||~\\mathbf{label}~||~L_1~||~S_1.code~||~\\mathbf{label}~||~L_2~||~S_2.code;\\}\\\\\n",
    "\\end{array}$$"
   ]
  },
  {
   "cell_type": "markdown",
   "metadata": {},
   "source": [
    "> b) $S~\\rightarrow~\\mathbf{do}~S_1~\\mathbf{while}~(~C~)$"
   ]
  },
  {
   "cell_type": "markdown",
   "metadata": {},
   "source": [
    "$$\\begin{array}{rcll}\n",
    "S &\\rightarrow& \\mathbf{do} & \\{L_1=new(); L_2=new(); S_1.next=L_2;\\} \\\\\n",
    "&& S_1~\\mathbf{while}~(& \\{C.true=L_1; C.false=S.next;\\} \\\\\n",
    "&& C~) &\\{S.code = \\mathbf{label}~||~L_1~||~S_1.code~||~\\mathbf{label}~||~L_2~||~C.code;\\} \\\\\n",
    "\\end{array}$$"
   ]
  },
  {
   "cell_type": "markdown",
   "metadata": {},
   "source": [
    "> c) $S~\\rightarrow~\\text{'\\{'}~L~\\text{'\\}'};~L~\\rightarrow~L~S~|~\\epsilon$"
   ]
  },
  {
   "cell_type": "markdown",
   "metadata": {},
   "source": [
    "$$\\begin{array}{rcll}\n",
    "S &\\rightarrow& \\text{'\\{'} & \\{L.next = S.next;\\} \\\\\n",
    "&& L~\\text{'\\}'} & \\{S.code = L.code;\\} \\\\\n",
    "L&\\rightarrow& & \\{ L_2 = new(); L_1.next = L_2; \\} \\\\\n",
    "&& L_1 & \\{S.next = L.next;\\} \\\\\n",
    "&& S & \\{L.code = L_1.code~||~\\mathbf{label}~||~L_2~||~S.code;\\} \\\\\n",
    "&|& \\epsilon & \\{L.code = \\text{''};\\} \\\\\n",
    "\\end{array}$$"
   ]
  },
  {
   "cell_type": "markdown",
   "metadata": {},
   "source": [
    "### 5.4.6\n",
    "\n",
    "> Modify the SDD of Fig. 5.25 to include a synthesized attribute $B.le$, the length of a box. The length of the concatenation of two boxes is the sum of the lengths of each. Then add your new rules to the proper positions in the SDT of Fig. 5.26."
   ]
  },
  {
   "cell_type": "markdown",
   "metadata": {},
   "source": [
    "$$\\begin{array}{lll}\n",
    "S~\\rightarrow & & \\{B.ps = 10;\\} \\\\\n",
    "& B & \\{S.le = B.le;\\} \\\\\n",
    "B~\\rightarrow & & \\{B_1.ps = B.ps;\\} \\\\\n",
    "& B_1 & \\{B_2.ps = B.ps;\\} \\\\\n",
    "& B_2 & \\{B.ht = \\text{max}(B_1.ht, B_2.ht); \\\\\n",
    "& & B.dp = \\text{max}(B_1.dp, B_2.dp); \\\\\n",
    "& & B.le = B_1.le + B_2.le; \\} \\\\\n",
    "B~\\rightarrow~ & & \\{B_1.ps = B.ps;\\} \\\\\n",
    "& B_1~\\mathbf{sub} & \\{B_2.ps = 0.7 \\times B.ps; \\} \\\\\n",
    "& B_2 & \\{B.ht = \\text{max}\n",
    "(B_1.ht, B_2.ht - 0.25 \\times B.ps); \\\\\n",
    "& & B.dp = \\text{max}(B_1.dp, B_2.dp + 0.25 \\times B.ps); \\\\\n",
    "& & B.le = B_1.le + B_2.le; \\} \\\\\n",
    "B~\\rightarrow & ( & \\{B_1.ps = B.ps;\\} \\\\\n",
    "& B_1~) & \\{ B.ht = B_1.ht; \\\\\n",
    "& & B.dp = B_1.dp; \\\\\n",
    "& & B.le = B_1.le; \\} \\\\\n",
    "B~\\rightarrow & \\mathbf{text} & \\{ B.ht = getHt(B.ps, \\mathbf{text}.lexval); \\\\\n",
    "& & B.dp = getDp(B.ps, \\mathbf{text}.lexval); \\\\\n",
    "& & B.le = getLe(B.ps, \\mathbf{text}.lextval); \\} \\\\\n",
    "\\end{array}$$"
   ]
  },
  {
   "cell_type": "markdown",
   "metadata": {},
   "source": [
    "### 5.4.7\n",
    "\n",
    "> Modify the SDD of Fig. 5.25 to include superscripts denoted by operator __sup__ between boxes. If box $B_2$ is a superscript of box $B_1$, then position the baseline of $B_2$ 0.6 times the point size of $B_1$ above the baseline of $B_1$. Add the new production and rules to the SDT of Fig. 5.26."
   ]
  },
  {
   "cell_type": "markdown",
   "metadata": {},
   "source": [
    "$$\\begin{array}{lll}\n",
    "S~\\rightarrow & & \\{B.ps = 10;\\} \\\\\n",
    "& B \\\\\n",
    "B~\\rightarrow & & \\{B_1.ps = B.ps;\\} \\\\\n",
    "& B_1 & \\{B_2.ps = B.ps;\\} \\\\\n",
    "& B_2 & \\{B.ht = \\text{max}(B_1.ht, B_2.ht); \\\\\n",
    "& & B.dp = \\text{max}(B_1.dp, B_2.dp); \\} \\\\\n",
    "B~\\rightarrow~ & & \\{B_1.ps = B.ps;\\} \\\\\n",
    "& B_1~\\mathbf{sub} & \\{B_2.ps = 0.7 \\times B.ps; \\} \\\\\n",
    "& B_2 & \\{B.ht = \\text{max}\n",
    "(B_1.ht, B_2.ht - 0.25 \\times B.ps); \\\\\n",
    "& & B.dp = \\text{max}(B_1.dp, B_2.dp + 0.25 \\times B.ps); \\} \\\\\n",
    "B~\\rightarrow~ & & \\{B_1.ps = B.ps;\\} \\\\\n",
    "& B_1~\\mathbf{sup} & \\{B_2.ps = 0.6 \\times B.ps; \\} \\\\\n",
    "& B_2 & \\{B.ht = \\text{max}\n",
    "(B_1.ht, B_2.ht + 0.6 \\times B.ps); \\\\\n",
    "& & B.dp = \\text{max}(B_1.dp, B_2.dp - 0.6 \\times B.ps); \\} \\\\\n",
    "B~\\rightarrow & ( & \\{B_1.ps = B.ps;\\} \\\\\n",
    "& B_1~) & \\{ B.ht = B_1.ht; \\\\\n",
    "& & B.dp = B_1.dp; \\} \\\\\n",
    "B~\\rightarrow & \\mathbf{text} & \\{ B.ht = getHt(B.ps, \\mathbf{text}.lexval); \\\\\n",
    "& & B.dp = getDp(B.ps, \\mathbf{text}.lexval); \\} \\\\\n",
    "\\end{array}$$"
   ]
  }
 ],
 "metadata": {
  "kernelspec": {
   "display_name": "Python 2",
   "language": "python",
   "name": "python2"
  },
  "language_info": {
   "codemirror_mode": {
    "name": "ipython",
    "version": 2
   },
   "file_extension": ".py",
   "mimetype": "text/x-python",
   "name": "python",
   "nbconvert_exporter": "python",
   "pygments_lexer": "ipython2",
   "version": "2.7.12"
  }
 },
 "nbformat": 4,
 "nbformat_minor": 2
}
