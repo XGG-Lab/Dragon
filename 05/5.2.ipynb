{
 "cells": [
  {
   "cell_type": "markdown",
   "metadata": {},
   "source": [
    "## 5.2 Evaluation Orders for SDD's"
   ]
  },
  {
   "cell_type": "markdown",
   "metadata": {},
   "source": [
    "### 5.2.1\n",
    "\n",
    "> What are all the topological sorts for the dependency graph of Fig. 5.7?"
   ]
  },
  {
   "cell_type": "markdown",
   "metadata": {},
   "source": [
    "* $[1, 3, 5, 2, 4, 6, 7, 8, 9]$\n",
    "* $[1, 3, 2, 5, 4, 6, 7, 8, 9]$\n",
    "* $[1, 3, 2, 4, 5, 6, 7, 8, 9]$\n",
    "* $[1, 2, 3, 5, 4, 6, 7, 8, 9]$\n",
    "* $[1, 2, 3, 4, 5, 6, 7, 8, 9]$\n",
    "* $[1, 2, 4, 3, 5, 6, 7, 8, 9]$\n",
    "* $[2, 1, 3, 5, 4, 6, 7, 8, 9]$\n",
    "* $[2, 1, 3, 4, 5, 6, 7, 8, 9]$\n",
    "* $[2, 1, 4, 3, 5, 6, 7, 8, 9]$\n",
    "* $[2, 4, 1, 3, 5, 6, 7, 8, 9]$"
   ]
  },
  {
   "cell_type": "markdown",
   "metadata": {},
   "source": [
    "### 5.2.2\n",
    "\n",
    "> For the SDD of Fig. 5.8, give annotated parse trees for the following expressions:\n",
    "\n",
    "> a) int a, b, c.\n",
    "\n",
    "> b) float w, x, y, z."
   ]
  },
  {
   "cell_type": "markdown",
   "metadata": {},
   "source": [
    "### 5.2.3\n",
    "\n",
    "> Suppose that we have a production $A~\\rightarrow~BCD$. Each of the four nonterminals $A$, $B$, $C$, $D$ have two attributes: $s$ is a synthesized attribute, and $i$ is an inherited attribute. For each of the sets of rules below, tell whether (i) the rules are consistent with an S-attributed definition (ii) the rules are consistent with an L-attributed definition, and (iii) whether the rules are consistent with any evaluation order at all?\n",
    "\n",
    "> a) $A.s = B.i + C.s$."
   ]
  },
  {
   "cell_type": "markdown",
   "metadata": {},
   "source": [
    "No. Yes."
   ]
  },
  {
   "cell_type": "markdown",
   "metadata": {},
   "source": [
    "> b) $A.s = B.i + C.s$ and $D.i = A.i + B.s$."
   ]
  },
  {
   "cell_type": "markdown",
   "metadata": {},
   "source": [
    "No. Yes."
   ]
  },
  {
   "cell_type": "markdown",
   "metadata": {},
   "source": [
    "> c) $A.s = B.s + D.s$."
   ]
  },
  {
   "cell_type": "markdown",
   "metadata": {},
   "source": [
    "Yes. Yes."
   ]
  },
  {
   "cell_type": "markdown",
   "metadata": {},
   "source": [
    "> d) $A.s = D.i$, $B.i = A.s + C.s$, $C.i = B.s$, and $D.i = B.i + C.i$."
   ]
  },
  {
   "cell_type": "markdown",
   "metadata": {},
   "source": [
    "No. No."
   ]
  },
  {
   "cell_type": "markdown",
   "metadata": {},
   "source": [
    "### 5.2.4\n",
    "\n",
    "> This grammar generates binary numbers with a \"decimal\" point:\n",
    "\n",
    "> $\n",
    "\\begin{array}{rll}\n",
    "S&\\rightarrow&L~.~L~|~L\\\\\n",
    "L&\\rightarrow&L~B~|~B\\\\\n",
    "B&\\rightarrow&0~|~1\n",
    "\\end{array}\n",
    "$\n",
    "\n",
    "> Design an L-attributed SDD to compute $S.val$, the decimal-number value of an input string. For example, the translation of string $101.101$ should be the decimal number $5.625$."
   ]
  },
  {
   "cell_type": "markdown",
   "metadata": {},
   "source": [
    "|    | Production | Semantic Rules |\n",
    "|:--:|:-----------|:---------------|\n",
    "| 1) | $S~\\rightarrow~L_1~.~L_2$ | $L_1.side = 0 \\\\ L_2.side = 1 \\\\ S.val = L_1.val + L_2.val$ |\n",
    "| 2) | $S~\\rightarrow~L$         | $L.side = 0 \\\\ S.val = L.val$ |\n",
    "| 3) | $L~\\rightarrow~L_1~B$     | $L_1.side = L.side \\\\ \\text{if}~L.side = 0\\\\ \\text{then}~L.val = L_1.val \\times 2 + 1\\\\ \\text{else}~L.dec = L_1.dec \\times 0.5,~L.val = L_1.val + L.dec \\times B.val$\n",
    "| 4）| $L~\\rightarrow~B$         | $L.dec = 0.5 \\\\ L.val = B.val \\times 0.5$ |\n",
    "| 5) | $B~\\rightarrow~0$         | $B.val = 0$ |\n",
    "| 6) | $B~\\rightarrow~1$         | $B.val = 1$ |"
   ]
  },
  {
   "cell_type": "markdown",
   "metadata": {},
   "source": [
    "### 5.2.5\n",
    "\n",
    "> Design an S-attributed SDD for the grammar and translation described in Exercise 5.2.4."
   ]
  },
  {
   "cell_type": "markdown",
   "metadata": {},
   "source": [
    "|    | Production | Semantic Rules |\n",
    "|:--:|:-----------|:---------------|\n",
    "| 1) | $S~\\rightarrow~L_1~.~L_2$ | $S.val = L_1.val + L_2.val \\times L_2.dec$ |\n",
    "| 2) | $S~\\rightarrow~L$         | $S.val = L.val$ |\n",
    "| 3) | $L~\\rightarrow~L_1~B$     | $L.val = L_1.val \\times 2 + B.val \\\\ L.dec = L_1.dec \\times 0.5$\n",
    "| 4）| $L~\\rightarrow~B$         | $L.val = B.val \\\\ L.dec = 0.5$ |\n",
    "| 5) | $B~\\rightarrow~0$         | $B.val = 0$ |\n",
    "| 6) | $B~\\rightarrow~1$         | $B.val = 1$ |"
   ]
  },
  {
   "cell_type": "markdown",
   "metadata": {},
   "source": [
    "### 5.2.6"
   ]
  }
 ],
 "metadata": {
  "kernelspec": {
   "display_name": "Python 2",
   "language": "python",
   "name": "python2"
  },
  "language_info": {
   "codemirror_mode": {
    "name": "ipython",
    "version": 2
   },
   "file_extension": ".py",
   "mimetype": "text/x-python",
   "name": "python",
   "nbconvert_exporter": "python",
   "pygments_lexer": "ipython2",
   "version": "2.7.12"
  }
 },
 "nbformat": 4,
 "nbformat_minor": 2
}
