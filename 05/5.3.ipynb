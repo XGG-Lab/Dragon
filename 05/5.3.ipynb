{
 "cells": [
  {
   "cell_type": "markdown",
   "metadata": {},
   "source": [
    "## 5.3 Applications of Syntax-Directed Translation"
   ]
  },
  {
   "cell_type": "markdown",
   "metadata": {},
   "source": [
    "### 5.3.1\n",
    "\n",
    "> Below is a grammar for expressions involving operation $+$ and integer or floating-point operands. Floating-point numbers are distinguished by having a decimal point.\n",
    "\n",
    "> $$\n",
    "\\begin{array}{rll}\n",
    "E &\\rightarrow& E~+~T~|~T \\\\\n",
    "T &\\rightarrow& \\mathbf{num}~.~\\mathbf{num}~|~\\mathbf{num}\n",
    "\\end{array}\n",
    "$$\n",
    "\n",
    "> a) Give an SDD to determine the type of each Term $T$ and expression $E$."
   ]
  },
  {
   "cell_type": "markdown",
   "metadata": {},
   "source": [
    "|    | Production | Semantic Rules |\n",
    "|:--:|:-----------|:---------------|\n",
    "| 1) | $E~\\rightarrow~E_1~+~T$ | $\\mathbf{if}~E_1.t = integer~\\mathbf{and}~T.t=integer \\\\ \\mathbf{then}~E.t = integer \\\\ \\mathbf{else}~E.t = float$ |\n",
    "| 2) | $E~\\rightarrow~T$ | $E.t = T.t$ |\n",
    "| 3) | $T~\\rightarrow~\\mathbf{num}~.~\\mathbf{num}$ | $T.t = float$ |\n",
    "| 4) | $T~\\rightarrow~\\mathbf{num}$ | $T.t = integer$ |"
   ]
  },
  {
   "cell_type": "markdown",
   "metadata": {},
   "source": [
    "> b) Extend your SDD of (a) to translate expressions into postfix notation. Use the unary operator __intToFloat__ to turn an integer into an equivalent float."
   ]
  },
  {
   "cell_type": "markdown",
   "metadata": {},
   "source": [
    "|    | Production | Semantic Rules |\n",
    "|:--:|:-----------|:---------------|\n",
    "| 1) | $E~\\rightarrow~E_1~+~T$ | $\\mathbf{if}~E_1.t = integer~\\mathbf{and}~T.t=integer \\\\~~~~E.t = integer \\\\~~~~E.lex = E_1.lex + \"~\" + T.lex + \"+\"\\\\ \\mathbf{else~if}~E_1.t = integer~\\mathbf{and}~T.t=float \\\\~~~~E.t = float \\\\~~~~E.lex = E_1.lex + \"~\\mathbf{intToFloat}~\" + T.lex + \"+\" \\\\ \\mathbf{else~if}~E_1.t = float~\\mathbf{and}~T.t=integer \\\\~~~~E.t = float \\\\~~~~E.lex = E_1.lex + \" \" + T.lex +  \"~\\mathbf{intToFloat}~\" + \"+\" \\\\ \\mathbf{else} \\\\\n",
    "~~~~E.t = float \\\\~~~~E.lex = E_1.lex + \"~\" + T.lex + \"+\"$ |\n",
    "| 2) | $E~\\rightarrow~T$ | $E.t = T.t \\\\ E.lex = T.lex$ |\n",
    "| 3) | $T~\\rightarrow~\\mathbf{num}_1~.~\\mathbf{num}_2$ | $T.t = float \\\\ T.lex = \\mathbf{num}_1.lexval + \".\" + \\mathbf{num}_2.lexval $ |\n",
    "| 4) | $T~\\rightarrow~\\mathbf{num}$ | $T.t = integer \\\\ T.lex = \\mathbf{num}.lexval$ |"
   ]
  },
  {
   "cell_type": "markdown",
   "metadata": {},
   "source": [
    "### 5.3.2\n",
    "\n",
    "> Give an SDD to translate infix expressions with $+$ and $*$ into equivalent expressions without redundant parentheses. For example, since both operators associate form the left, and $*$ takes precedence over $+$, $((a*(b+c))*(d))$ translates into $a*(b+c)*d$."
   ]
  },
  {
   "cell_type": "markdown",
   "metadata": {},
   "source": [
    "|    | Production | Semantic Rules |\n",
    "|:---|:-----------|:-----                     ----------|\n",
    "| 1) | $L~\\rightarrow~E~\\mathbf{n}$ | $L.lex = E.lex$ |\n",
    "| 2) | $E~\\rightarrow~E_1~+~T$ | $E.lex = E_1.lex + `+` + T.lex\\\\ E.plus = \\mathbf{true}$ |\n",
    "| 3) | $E~\\rightarrow~T$ | $E.lex = T.lex\\\\ E.plus = T.plus$ |\n",
    "| 4) | $T~\\rightarrow~T_1~*~F$ | $\\mathbf{if}~T_1.plus~\\\\ \\mathbf{then}~T.lex = `(` + T_1.lex + `)`\\\\ \\mathbf{else}~T.lex=T_1.lex\\\\ T.lex += `*`\\\\ \\mathbf{if}~F.plus~\\\\ \\mathbf{then}~T.lex += `(` + F.lex + `)`\\\\ \\mathbf{else}~T.lex+=F.lex\\\\ T.plus=\\mathbf{false} $ |\n",
    "| 5) | $T~\\rightarrow~F$ | $T.lex = F.lex\\\\ T.plus = F.plus$ |\n",
    "| 6) | $F~\\rightarrow~(~E~)$ | $T.lex = E.lex\\\\ T.plus = E.plus$ |\n",
    "| 7) | $F~\\rightarrow~\\mathbf{id}$ | $T.lex = \\mathbf{id}.lex\\\\ T.plus = \\mathbf{false}$ |"
   ]
  },
  {
   "cell_type": "markdown",
   "metadata": {},
   "source": [
    "### 5.3.3\n",
    "\n",
    "> Given an SDD to differentiate expressions such as $x*(3*x+x*x)$ involving the operators $+$ and $*$, the variable $x$, and constants. Assume that no simplification occurs, so that, for examle, $3*x$ will be translated into $3*1+0*x$."
   ]
  },
  {
   "cell_type": "markdown",
   "metadata": {},
   "source": [
    "|    | Production | Semantic Rules |\n",
    "|:---|:-----------|:-----                     ----------|\n",
    "| 1) | $L~\\rightarrow~E~\\mathbf{n}$ | $L.diff = E.diff $ |\n",
    "| 2) | $E~\\rightarrow~E_1~+~T$ | $E.lex = E_1.lex + `+` + T.lex\\\\ E.diff = E_1.diff + `+` + T.diff $ |\n",
    "| 3) | $E~\\rightarrow~T$ | $E.lex = T.lex \\\\ E.diff = T.diff $ |\n",
    "| 4) | $T~\\rightarrow~T_1~*~F$ | $T.lex = T_1.lex + `*` + F.lex\\\\ T.diff = T_1.lex + `*` + F.diff + `+` + T_1.diff + `*` + F.lex $ |\n",
    "| 5) | $T~\\rightarrow~F$ | $T.lex = F.lex\\\\ T.diff = F.diff $ |\n",
    "| 6) | $F~\\rightarrow~(~E~)$ | $F.lex = `(` + E.lex + `)`\\\\F.diff = `(` + E.diff + `)` $ |\n",
    "| 7) | $F~\\rightarrow~\\mathbf{id}$ | $F.lex = \\mathbf{id}.lexval\\\\ F.diff = 1 $ | \n",
    "| 8) | $F~\\rightarrow~\\mathbf{digit}$ | $F.lex = \\mathbf{digit}.lexval\\\\ F.diff = 0 $ | "
   ]
  }
 ],
 "metadata": {
  "kernelspec": {
   "display_name": "Python 2",
   "language": "python",
   "name": "python2"
  },
  "language_info": {
   "codemirror_mode": {
    "name": "ipython",
    "version": 2
   },
   "file_extension": ".py",
   "mimetype": "text/x-python",
   "name": "python",
   "nbconvert_exporter": "python",
   "pygments_lexer": "ipython2",
   "version": "2.7.12"
  }
 },
 "nbformat": 4,
 "nbformat_minor": 2
}
