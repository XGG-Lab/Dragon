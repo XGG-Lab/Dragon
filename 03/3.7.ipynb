{
 "cells": [
  {
   "cell_type": "markdown",
   "metadata": {},
   "source": [
    "## 3.7 From Regular Expressions to Automata"
   ]
  },
  {
   "cell_type": "markdown",
   "metadata": {},
   "source": [
    "### 3.7.1\n",
    "\n",
    "> Convert to DFS's the NFA's of:\n",
    "\n",
    "> a) Fig. 3.26."
   ]
  },
  {
   "cell_type": "markdown",
   "metadata": {},
   "source": [
    "| NFA STATE | DFA STATE | $a$ | $b$ |\n",
    "|:---------:|:---------:|:-----:|:-----:|\n",
    "|$\\{0,1,3\\}$|$A$|$B$|$C$|\n",
    "|$\\{2\\}$|$B$|$B$|$\\emptyset$|\n",
    "|$\\{4\\}$|$C$|$\\emptyset$|$C$|\n",
    "\n",
    "![](./img/3.7.1.a.png)"
   ]
  },
  {
   "cell_type": "markdown",
   "metadata": {},
   "source": [
    "> b) Fig. 3.29."
   ]
  },
  {
   "cell_type": "markdown",
   "metadata": {},
   "source": [
    "| NFA STATE | DFA STATE | $a$ | $b$ |\n",
    "|:---------:|:---------:|:-----:|:-----:|\n",
    "|$\\{0\\}$|$A$|$B$|$A$|\n",
    "|$\\{0, 1\\}$|$B$|$C$|$B$|\n",
    "|$\\{0, 1, 2\\}$|$C$|$C$|$D$|\n",
    "|$\\{0, 1, 2, 3\\}$|$D$|$C$|$D$|\n",
    "\n",
    "![](./img/3.7.1.b.png)"
   ]
  },
  {
   "cell_type": "markdown",
   "metadata": {},
   "source": [
    "> c) Fig. 3.30."
   ]
  },
  {
   "cell_type": "markdown",
   "metadata": {},
   "source": [
    "| NFA STATE | DFA STATE | $a$ | $b$ |\n",
    "|:---------:|:---------:|:-----:|:-----:|\n",
    "|$\\{0, 1, 2, 3\\}$|$A$|$A$|$A$|\n",
    "\n",
    "![](./img/3.7.1.c.png)"
   ]
  },
  {
   "cell_type": "markdown",
   "metadata": {},
   "source": [
    "### 3.7.2\n",
    "\n",
    "> use Algorithm 3.22 to simulate the NFA's:\n",
    "\n",
    "> a) Fig. 3.29."
   ]
  },
  {
   "cell_type": "markdown",
   "metadata": {},
   "source": [
    "| String | State |\n",
    "|:------:|:-----:|\n",
    "| start | $\\{0\\}$ |\n",
    "| a | $\\{0, 1\\}$ |\n",
    "| a | $\\{0, 1, 2\\}$ |\n",
    "| b | $\\{0, 1, 2, 3\\}$ |\n",
    "| b | $\\{0, 1, 2, 3\\}$ |"
   ]
  },
  {
   "cell_type": "markdown",
   "metadata": {},
   "source": [
    "> b) Fig. 3.30."
   ]
  },
  {
   "cell_type": "markdown",
   "metadata": {},
   "source": [
    "| String | State |\n",
    "|:------:|:-----:|\n",
    "| start | $\\{0, 1, 2, 3\\}$ |\n",
    "| a | $\\{0, 1, 2, 3\\}$ |\n",
    "| a | $\\{0, 1, 2, 3\\}$ |\n",
    "| b | $\\{0, 1, 2, 3\\}$ |\n",
    "| b | $\\{0, 1, 2, 3\\}$ |"
   ]
  },
  {
   "cell_type": "markdown",
   "metadata": {},
   "source": [
    "### 3.7.3\n",
    "\n",
    "> Convert the following regular expressions to deterministic finite automata, using algorithms 3.23 and 3.20:\n",
    "\n",
    "> a) $(a|b)*$"
   ]
  },
  {
   "cell_type": "markdown",
   "metadata": {},
   "source": [
    "[NFA](https://cyberzhg.github.io/toolbox/regex2nfa?regex=KGF8Yikq)\n",
    "[DFA](https://cyberzhg.github.io/toolbox/nfa2dfa?regex=KGF8Yikq)\n",
    "\n",
    "![](./img/3.7.3.a.nfa.png)\n",
    "\n",
    "| NFA STATE | DFA STATE | $a$ | $b$ |\n",
    "|:---------:|:---------:|:-----:|:-----:|\n",
    "|$\\{0, 1, 2, 3, 7\\}$|$A$|$B$|$C$|\n",
    "|$\\{1, 2, 3, 4, 6, 7\\}$|$B$|$B$|$C$|\n",
    "|$\\{1, 2, 3, 5, 6, 7\\}$|$C$|$B$|$C$|\n",
    "\n",
    "![](./img/3.7.3.a.dfa.png)"
   ]
  },
  {
   "cell_type": "markdown",
   "metadata": {},
   "source": [
    "> b) $(a*|b*)*$"
   ]
  },
  {
   "cell_type": "markdown",
   "metadata": {},
   "source": [
    "[NFA](https://cyberzhg.github.io/toolbox/regex2nfa?regex=KGEqfGIqKSo=)\n",
    "[DFA](https://cyberzhg.github.io/toolbox/nfa2dfa?regex=KGEqfGIqKSo=)\n",
    "\n",
    "![](./img/3.7.3.b.nfa.png)\n",
    "\n",
    "| NFA STATE | DFA STATE | $a$ | $b$ |\n",
    "|:---------:|:---------:|:-----:|:-----:|\n",
    "|$\\{0,1,2,3,4,5,8,9,10,11\\}$|$A$|$B$|$C$|\n",
    "|$\\{1,2,3,4,5,6,8,9,10,11\\}$|$A$|$B$|$C$|\n",
    "|$\\{1,2,3,4,5,7,8,9,10,11\\}$|$A$|$B$|$C$|\n",
    "\n",
    "![](./img/3.7.3.b.dfa.png)"
   ]
  },
  {
   "cell_type": "markdown",
   "metadata": {},
   "source": [
    "> c) $((\\epsilon|a)b*)*$"
   ]
  },
  {
   "cell_type": "markdown",
   "metadata": {},
   "source": [
    "[NFA](https://cyberzhg.github.io/toolbox/regex2nfa?regex=KCjPtXxhKWIqKSo=)\n",
    "[DFA](https://cyberzhg.github.io/toolbox/nfa2dfa?regex=KCjPtXxhKWIqKSo=)\n",
    "\n",
    "![](./img/3.7.3.c.nfa.png)\n",
    "\n",
    "| NFA STATE | DFA STATE | $a$ | $b$ |\n",
    "|:---------:|:---------:|:-----:|:-----:|\n",
    "|$\\{0,1,2,3,4,6,7,9,10,11\\}$|$A$|$B$|$C$|\n",
    "|$\\{1,2,3,4,5,6,7,9,10,11\\}$|$A$|$B$|$C$|\n",
    "|$\\{1,2,3,4,6,7,8,9,10,11\\}$|$A$|$B$|$C$|\n",
    "\n",
    "![](./img/3.7.3.c.dfa.png)"
   ]
  },
  {
   "cell_type": "markdown",
   "metadata": {},
   "source": [
    "> d) $(a|b)*abb(a|b)*$"
   ]
  },
  {
   "cell_type": "markdown",
   "metadata": {},
   "source": [
    "[NFA](https://cyberzhg.github.io/toolbox/regex2nfa?regex=KGF8YikqYWJiKGF8Yikq)\n",
    "[DFA](https://cyberzhg.github.io/toolbox/nfa2dfa?regex=KGF8YikqYWJiKGF8Yikq)\n",
    "\n",
    "![](./img/3.7.3.d.nfa.png)\n",
    "\n",
    "| NFA STATE | DFA STATE | $a$ | $b$ |\n",
    "|:---------:|:---------:|:-----:|:-----:|\n",
    "|$\\{0,1,2,3,7\\}$|$A$|$B$|$C$|\n",
    "|$\\{1,2,3,4,6,7,8\\}$|$B$|$B$|$D$|\n",
    "|$\\{1,2,3,5,6,7\\}$|$C$|$B$|$C$|\n",
    "|$\\{1,2,3,4,6,7,9\\}$|$D$|$B$|$E$|\n",
    "|$\\{1,2,3,5,6,7,10,11,12,13,17\\}$|$E$|$F$|$G$|\n",
    "|$\\{1,2,3,4,6,7,8,11,12,13,14,16,17\\}$|$F$|$F$|$H$|\n",
    "|$\\{1,2,3,5,6,7,11,12,13,15,16,17\\}$|$G$|$F$|$G$|\n",
    "|$\\{1,2,3,5,6,7,9,11,12,13,15,16,17\\}$|$H$|$F$|$I$|\n",
    "|$\\{1,2,3,5,6,7,10,11,12,13,15,16,17\\}$|$I$|$F$|$G$|\n",
    "\n",
    "![](./img/3.7.3.d.dfa.png)"
   ]
  }
 ],
 "metadata": {
  "kernelspec": {
   "display_name": "Python 2",
   "language": "python",
   "name": "python2"
  },
  "language_info": {
   "codemirror_mode": {
    "name": "ipython",
    "version": 2
   },
   "file_extension": ".py",
   "mimetype": "text/x-python",
   "name": "python",
   "nbconvert_exporter": "python",
   "pygments_lexer": "ipython2",
   "version": "2.7.12"
  }
 },
 "nbformat": 4,
 "nbformat_minor": 2
}
