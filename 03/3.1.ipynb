{
 "cells": [
  {
   "cell_type": "markdown",
   "metadata": {},
   "source": [
    "## 3.1 The Role of the Lexical Analyzer"
   ]
  },
  {
   "cell_type": "markdown",
   "metadata": {},
   "source": [
    "### 3.1.1\n",
    "\n",
    "> Divide the following C++ program into appropriate lexemes."
   ]
  },
  {
   "cell_type": "markdown",
   "metadata": {},
   "source": [
    "* < __float__ >\n",
    "* < __id__, pointer to symbol-table entry for limitedSquare >\n",
    "* < __(__ >\n",
    "* < __id__, pointer to symbol-table entry for x >\n",
    "* < __)__ >\n",
    "* < __float__ >\n",
    "* < __id__, pointer to symbol-table entry for x >\n",
    "* < __;__ >\n",
    "* < __{__ >\n",
    "* < __return__ >\n",
    "* < __(__ >\n",
    "* < __id__, pointer to symbol-table entry for x >\n",
    "* < __op__, \"<=\" >\n",
    "* < __number__, -10.0 >\n",
    "* < __op__, \"||\" >\n",
    "* < __id__, pointer to symbol-table entry for x >\n",
    "* < __op__, \">=\" >\n",
    "* < __number__, -10.0 >\n",
    "* < __)__ >\n",
    "* < __op__, \"?\" >\n",
    "* < __number__, 100 >\n",
    "* < __op__, \":\" >\n",
    "* < __id__, pointer to symbol-table entry for x >\n",
    "* < __op__, \"*\" >\n",
    "* < __id__, pointer to symbol-table entry for x >\n",
    "* < __;__ >\n",
    "* < __}__ >"
   ]
  },
  {
   "cell_type": "markdown",
   "metadata": {},
   "source": [
    "### 3.1.2\n",
    "\n",
    "> Tagged languages like HTML or XML are different from conventional programming languages in that the punctuation (tags) are either very numerous (as in HTML) or a user-definable set (as in XML). Further, tags can often have parameters. Suggest how to divide the following HTML document into appropriate lexemes. Which lexemes should get associated lexical values and what should those values be?"
   ]
  },
  {
   "cell_type": "markdown",
   "metadata": {},
   "source": [
    "* < __text node__, \"Here is a photo of\" >\n",
    "* < __<__ >\n",
    "* < __attribute__, \"B\" >\n",
    "* < __>__ >\n",
    "* < __text node__, \"my house\" >\n",
    "* < __</__ >\n",
    "* < __attribute__, \"B\" >\n",
    "* < __>__ >\n",
    "* < __text node__, \":\" >\n",
    "* < __<__ >\n",
    "* < __attribute__, \"P\" >\n",
    "* < __>__ >\n",
    "* < __<__ >\n",
    "* < __attribute__, \"IMG\" >\n",
    "* < __attribute__, \"SRC\" >\n",
    "* < __=__ >\n",
    "* < __text__, \"house.gif\" >\n",
    "* $\\dots$"
   ]
  }
 ],
 "metadata": {
  "kernelspec": {
   "display_name": "Python 2",
   "language": "python",
   "name": "python2"
  },
  "language_info": {
   "codemirror_mode": {
    "name": "ipython",
    "version": 2
   },
   "file_extension": ".py",
   "mimetype": "text/x-python",
   "name": "python",
   "nbconvert_exporter": "python",
   "pygments_lexer": "ipython2",
   "version": "2.7.12"
  }
 },
 "nbformat": 4,
 "nbformat_minor": 2
}
