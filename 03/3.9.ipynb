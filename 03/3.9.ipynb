{
 "cells": [
  {
   "cell_type": "markdown",
   "metadata": {},
   "source": [
    "## 3.9 Optimization of DFA-Based Pattern Matches"
   ]
  },
  {
   "cell_type": "markdown",
   "metadata": {},
   "source": [
    "### 3.9.1\n",
    "\n",
    "> Extend the table of Fig. 3.58 to include the operators (a) `?` and (b) `+`."
   ]
  },
  {
   "cell_type": "markdown",
   "metadata": {},
   "source": [
    "| NODE $n$ | $nullable(n)$ | $firstpos(n)$ |\n",
    "|:-:|:-:|:-:|\n",
    "| $n=c_1?$ | __true__ | $firstpos(c_1)$ |\n",
    "| $n=c_1+$ | __false__ | $firstpos(c_1)$ |"
   ]
  },
  {
   "cell_type": "markdown",
   "metadata": {},
   "source": [
    "### 3.9.2\n",
    "\n",
    "> Use Algorithm 3.36 to convert the regular expressions of Exercise 3.7.3 directly to deterministic finite automata.\n",
    "\n",
    "> a) $(a|b)*$"
   ]
  },
  {
   "cell_type": "markdown",
   "metadata": {},
   "source": [
    "![](./img/3.9.2.a.1.png)\n",
    "\n",
    "![](./img/3.9.2.a.2.png)\n",
    "\n",
    "| POSITION $n$ | $followpos(n)$ |\n",
    "|:-:|:-:|\n",
    "| 1 | $\\{1,2,3\\}$ |\n",
    "| 2 | $\\{1,2,3\\}$ |\n",
    "| 3 | $\\emptyset$ |\n",
    "\n",
    "![](./img/3.9.2.a.3.png)"
   ]
  },
  {
   "cell_type": "markdown",
   "metadata": {},
   "source": [
    "### 3.9.3\n",
    "\n",
    "### 3.9.4\n",
    "\n",
    "### 3.9.5"
   ]
  }
 ],
 "metadata": {
  "kernelspec": {
   "display_name": "Python 2",
   "language": "python",
   "name": "python2"
  },
  "language_info": {
   "codemirror_mode": {
    "name": "ipython",
    "version": 2
   },
   "file_extension": ".py",
   "mimetype": "text/x-python",
   "name": "python",
   "nbconvert_exporter": "python",
   "pygments_lexer": "ipython2",
   "version": "2.7.12"
  }
 },
 "nbformat": 4,
 "nbformat_minor": 2
}
