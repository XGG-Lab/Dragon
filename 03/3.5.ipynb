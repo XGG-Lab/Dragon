{
 "cells": [
  {
   "cell_type": "markdown",
   "metadata": {},
   "source": [
    "## 3.5 The Lexical-Analyzer Generator Lex"
   ]
  },
  {
   "cell_type": "markdown",
   "metadata": {},
   "source": [
    "### 3.5.1\n",
    "\n",
    "> Describe how to make the following modifications to the `Lex` program of Fig. 3.23:\n",
    "> \n",
    "> a\\) Add the keyword `while`."
   ]
  },
  {
   "cell_type": "markdown",
   "metadata": {},
   "source": [
    "```\n",
    "%%\n",
    "while    {return(WHILE);}\n",
    "%%\n",
    "```"
   ]
  },
  {
   "cell_type": "markdown",
   "metadata": {},
   "source": [
    "> b\\) Change the comparision operators to be the C operators of that kind."
   ]
  },
  {
   "cell_type": "markdown",
   "metadata": {},
   "source": [
    "```\n",
    "%%\n",
    "\"==\"     {yylval = EQ; return(RELOP);}\n",
    "\"!=\"     {yylval = NE; return(RELOP);}\n",
    "%%\n",
    "```"
   ]
  },
  {
   "cell_type": "markdown",
   "metadata": {},
   "source": [
    "> c\\) Allow the underscore \\(\\_\\) as an additional letter."
   ]
  },
  {
   "cell_type": "markdown",
   "metadata": {},
   "source": [
    "```\n",
    "id      ({letter}|_)({letter}|{digit}|_)*\n",
    "%%\n",
    "%%\n",
    "```"
   ]
  },
  {
   "cell_type": "markdown",
   "metadata": {},
   "source": [
    "> d\\) Add a new pattern with token `STRING`."
   ]
  },
  {
   "cell_type": "markdown",
   "metadata": {},
   "source": [
    "```\n",
    "string  \"([^\\\\\"]|\\\\\\\\|\\\\\")*\"\n",
    "%%\n",
    "{string} {yylval = (int) installString(); return(STRING);}\n",
    "%%\n",
    "int installString() {\n",
    "}\n",
    "```"
   ]
  },
  {
   "cell_type": "markdown",
   "metadata": {},
   "source": [
    "### 3.5.2\n",
    "\n",
    "> Write a `Lex` program that copies a file, replacing each non-empty sequence of white space by a single blank."
   ]
  },
  {
   "cell_type": "markdown",
   "metadata": {},
   "source": [
    "```\n",
    "%%\n",
    "[ \\t\\n]+ { putchar(' '); }\n",
    ". { ECHO; }\n",
    "%%\n",
    "\n",
    "int yywrap() {\n",
    "    return 1;\n",
    "}\n",
    "\n",
    "int main() {\n",
    "    yylex();\n",
    "    return 0;\n",
    "}\n",
    "```"
   ]
  },
  {
   "cell_type": "markdown",
   "metadata": {},
   "source": [
    "### 3.5.3\n",
    "\n",
    "> Write a `Lex` program that copies a C program, replacing each instance of the keyword `float` to `double`."
   ]
  },
  {
   "cell_type": "markdown",
   "metadata": {},
   "source": [
    "```\n",
    "%%\n",
    "float { printf(\"double\"); }\n",
    ". { ECHO; }\n",
    "%%\n",
    "\n",
    "int yywrap() {\n",
    "    return 1;\n",
    "}\n",
    "\n",
    "int main() {\n",
    "    yylex();\n",
    "    return 0;\n",
    "}\n",
    "```"
   ]
  },
  {
   "cell_type": "markdown",
   "metadata": {},
   "source": [
    "### 3.5.4\n",
    "\n",
    "> Write a `Lex` program that converts a file to \"Pig latin.\""
   ]
  },
  {
   "cell_type": "markdown",
   "metadata": {},
   "source": [
    "```\n",
    "letter    [a-zA-Z]\n",
    "vowel     [aeiouAEIOU]\n",
    "consonant [^{vowel}]\n",
    "vword     {vowel}{letter}*\n",
    "cword     {letter}+\n",
    "\n",
    "%%\n",
    "\n",
    "{vword}   { printf(\"%s\", yytext); printf(\"ay\"); }\n",
    "{cword}   { printf(\"%s\", yytext + 1); putchar(yytext[0]); printf(\"ay\"); }\n",
    ".         { ECHO; }\n",
    "\n",
    "%%\n",
    "\n",
    "int yywrap() {\n",
    "    return 1;\n",
    "}\n",
    "\n",
    "int main() {\n",
    "    yylex();\n",
    "    return 0;\n",
    "}\n",
    "```"
   ]
  },
  {
   "cell_type": "markdown",
   "metadata": {},
   "source": [
    "### 3.5.5\n",
    "\n",
    "> In SQL, keywords and identifiers are case-insensitive. Write a `Lex` program that recognizes the keywords `SELECT`, `FROM` and `WHERE`, and token `ID`."
   ]
  },
  {
   "cell_type": "markdown",
   "metadata": {},
   "source": [
    "```\n",
    "delim  [ \\t\\n]\n",
    "ws     {delim}+\n",
    "select [sS][eE][lL][eE][cC][tT]\n",
    "from   [fF][rR][oO][mM]\n",
    "where  [wW][hH][eE][rR][eE]\n",
    "\n",
    "letter [a-zA-Z]\n",
    "digit  [0-9]\n",
    "id     {letter}({letter}|{digit})*\n",
    "\n",
    "%%\n",
    "\n",
    "{ws}      { }\n",
    "{select}  { return(SELECT); }\n",
    "{from}    { return(FROM); }\n",
    "{where}   { return(WHERE); }\n",
    "{id}      { str2lower(yytext); yylval = (int) installID(); return(ID); }\n",
    "\n",
    "%%\n",
    "\n",
    "void str2lower(char* text) {\n",
    "    while (*text) {\n",
    "        *text = toupper(*text);\n",
    "        ++text;\n",
    "    }\n",
    "}\n",
    "\n",
    "int installID() {\n",
    "}\n",
    "```"
   ]
  }
 ],
 "metadata": {
  "kernelspec": {
   "display_name": "Python 2",
   "language": "python",
   "name": "python2"
  },
  "language_info": {
   "codemirror_mode": {
    "name": "ipython",
    "version": 2
   },
   "file_extension": ".py",
   "mimetype": "text/x-python",
   "name": "python",
   "nbconvert_exporter": "python",
   "pygments_lexer": "ipython2",
   "version": "2.7.12"
  }
 },
 "nbformat": 4,
 "nbformat_minor": 2
}
