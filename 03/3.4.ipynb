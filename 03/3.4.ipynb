{
 "cells": [
  {
   "cell_type": "markdown",
   "metadata": {},
   "source": [
    "## 3.4 Recognition of Tokens"
   ]
  },
  {
   "cell_type": "markdown",
   "metadata": {},
   "source": [
    "### 3.4.1\n",
    "\n",
    "> Provide transition diagrams to recognize the same languages as each of the regular expressions in Exercise 3.3.2.\n",
    "> \n",
    "> a\\) $\\mathbf{a}(\\mathbf{a}|\\mathbf{b})^*\\mathbf{a}$."
   ]
  },
  {
   "cell_type": "markdown",
   "metadata": {},
   "source": [
    "![](./img/3.4.1.a.png)"
   ]
  },
  {
   "cell_type": "markdown",
   "metadata": {},
   "source": [
    "> b\\) $((ϵ|\\mathbf{a})\\mathbf{b}^*)^*$."
   ]
  },
  {
   "cell_type": "markdown",
   "metadata": {},
   "source": [
    "![](./img/3.4.1.b.png)"
   ]
  },
  {
   "cell_type": "markdown",
   "metadata": {},
   "source": [
    "> c\\) $(\\mathbf{a}|\\mathbf{b})^*\\mathbf{a}(\\mathbf{a}|\\mathbf{b})(\\mathbf{a}|\\mathbf{b})$."
   ]
  },
  {
   "cell_type": "markdown",
   "metadata": {},
   "source": [
    "![](./img/3.4.1.c.png)"
   ]
  },
  {
   "cell_type": "markdown",
   "metadata": {},
   "source": [
    "> d\\) $\\mathbf{a}^*\\mathbf{b}\\mathbf{a}^*\\mathbf{b}\\mathbf{a}^*\\mathbf{b}\\mathbf{a}^*$."
   ]
  },
  {
   "cell_type": "markdown",
   "metadata": {},
   "source": [
    "![](./img/3.4.1.d.png)"
   ]
  },
  {
   "cell_type": "markdown",
   "metadata": {},
   "source": [
    "> e\\) $(\\mathbf{a}\\mathbf{a}|\\mathbf{b}\\mathbf{b})^*((\\mathbf{a}\\mathbf{b}|\\mathbf{b}\\mathbf{a})(\\mathbf{a}\\mathbf{a}|\\mathbf{b}\\mathbf{b})^*(\\mathbf{a}\\mathbf{b}|\\mathbf{b}\\mathbf{a})(\\mathbf{a}\\mathbf{a}|\\mathbf{b}\\mathbf{b})^*)^*$"
   ]
  },
  {
   "cell_type": "markdown",
   "metadata": {},
   "source": [
    "Nonsense."
   ]
  },
  {
   "cell_type": "markdown",
   "metadata": {},
   "source": [
    "### 3.4.2\n",
    "\n",
    "> Provide transition diagrams to recognize the same languages as each of the regular expressions in Exercise 3.3.5.\n",
    "> \n",
    "> d\\) All strings of digits with no repeated digits."
   ]
  },
  {
   "cell_type": "markdown",
   "metadata": {},
   "source": [
    "![](./img/3.4.2.d.png)"
   ]
  },
  {
   "cell_type": "markdown",
   "metadata": {},
   "source": [
    "> e\\) All strings of digits with at most one repeated digit."
   ]
  },
  {
   "cell_type": "markdown",
   "metadata": {},
   "source": [
    "![](./img/3.4.2.e.png)"
   ]
  },
  {
   "cell_type": "markdown",
   "metadata": {},
   "source": [
    "### 3.4.3\n",
    "\n",
    "> Construct the failure function for the strings:\n",
    "> \n",
    "> a\\) abababaab."
   ]
  },
  {
   "cell_type": "markdown",
   "metadata": {},
   "source": [
    "001234512"
   ]
  },
  {
   "cell_type": "markdown",
   "metadata": {},
   "source": [
    "> b\\) aaaaaa."
   ]
  },
  {
   "cell_type": "markdown",
   "metadata": {},
   "source": [
    "012345"
   ]
  },
  {
   "cell_type": "markdown",
   "metadata": {},
   "source": [
    "> c\\) abbaabb."
   ]
  },
  {
   "cell_type": "markdown",
   "metadata": {},
   "source": [
    "0001123"
   ]
  },
  {
   "cell_type": "markdown",
   "metadata": {},
   "source": [
    "### 3.4.4"
   ]
  },
  {
   "cell_type": "markdown",
   "metadata": {},
   "source": [
    "See _32.4 The Knuth-Morris-Pratt algorithm_ in **CLRS**."
   ]
  },
  {
   "cell_type": "markdown",
   "metadata": {},
   "source": [
    "### 3.4.5"
   ]
  },
  {
   "cell_type": "markdown",
   "metadata": {},
   "source": [
    "See 3.4.4."
   ]
  },
  {
   "cell_type": "markdown",
   "metadata": {},
   "source": [
    "### 3.4.6\n",
    "\n",
    "> a\\) abababaab."
   ]
  },
  {
   "cell_type": "markdown",
   "metadata": {},
   "source": [
    "12343456"
   ]
  },
  {
   "cell_type": "markdown",
   "metadata": {},
   "source": [
    "> b\\) abababbaa."
   ]
  },
  {
   "cell_type": "markdown",
   "metadata": {},
   "source": [
    "123434011"
   ]
  },
  {
   "cell_type": "markdown",
   "metadata": {},
   "source": [
    "### 3.4.7"
   ]
  },
  {
   "cell_type": "markdown",
   "metadata": {},
   "source": [
    "See 3.4.4."
   ]
  },
  {
   "cell_type": "markdown",
   "metadata": {},
   "source": [
    "### 3.4.8"
   ]
  },
  {
   "cell_type": "markdown",
   "metadata": {},
   "source": [
    "See 3.4.4."
   ]
  },
  {
   "cell_type": "markdown",
   "metadata": {},
   "source": [
    "### 3.4.9\n",
    "\n",
    "> The _Fibonacci strings_ are defined as follows:\n",
    "> \n",
    "> 1. $s_1 = \\text{b}$.\n",
    "> 2. $s_2 = \\text{a}$.\n",
    "> 3. $s_k = s_{k-1}s_{k-2}$ for $k > 2$.\n",
    "> \n",
    "> For example, $s_3 = \\text{ab}$, $s_4 = \\text{aba}$, and $s_5 = abaab$.\n",
    "> \n",
    "> a\\) What is the length of $s_n$?"
   ]
  },
  {
   "cell_type": "markdown",
   "metadata": {},
   "source": [
    "See problem 4.4 in [CLRS](https://github.com/CyberZHG/CLRS/blob/master/Chapter_04_Divide_and_Conquer/problems.ipynb)"
   ]
  },
  {
   "cell_type": "markdown",
   "metadata": {},
   "source": [
    "> b\\) Construct the failure function for $s_6$."
   ]
  },
  {
   "cell_type": "markdown",
   "metadata": {},
   "source": [
    "$s_6$ = abaababa.\n",
    "\n",
    "00112323"
   ]
  },
  {
   "cell_type": "markdown",
   "metadata": {},
   "source": [
    "> c\\) Construct the failure function for $s_7$."
   ]
  },
  {
   "cell_type": "markdown",
   "metadata": {},
   "source": [
    "$s_7$ = abaababaabaab.\n",
    "\n",
    "0011232345645"
   ]
  },
  {
   "cell_type": "markdown",
   "metadata": {},
   "source": [
    "### 3.4.10"
   ]
  },
  {
   "cell_type": "markdown",
   "metadata": {},
   "source": [
    "HDU 2222"
   ]
  },
  {
   "cell_type": "markdown",
   "metadata": {},
   "source": [
    "### 3.4.11"
   ]
  },
  {
   "cell_type": "markdown",
   "metadata": {},
   "source": [
    "> Construct the tries and compute the failure function for the following sets of keywords:\n",
    "> \n",
    "> a\\) aaa, abaaa, and ababaaa.\n",
    "> \n",
    "> b\\) all, fall, fatal, llama, and lame.\n",
    "> \n",
    "> c\\) pipe, pet, item, temper, and perpetual."
   ]
  },
  {
   "cell_type": "markdown",
   "metadata": {},
   "source": [
    "### 3.4.12"
   ]
  }
 ],
 "metadata": {
  "kernelspec": {
   "display_name": "Python 2",
   "language": "python",
   "name": "python2"
  },
  "language_info": {
   "codemirror_mode": {
    "name": "ipython",
    "version": 2
   },
   "file_extension": ".py",
   "mimetype": "text/x-python",
   "name": "python",
   "nbconvert_exporter": "python",
   "pygments_lexer": "ipython2",
   "version": "2.7.12"
  }
 },
 "nbformat": 4,
 "nbformat_minor": 2
}
