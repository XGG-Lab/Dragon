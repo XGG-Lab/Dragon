{
 "cells": [
  {
   "cell_type": "markdown",
   "metadata": {},
   "source": [
    "## 3.6 Finite Automata"
   ]
  },
  {
   "cell_type": "markdown",
   "metadata": {},
   "source": [
    "### 3.6.1"
   ]
  },
  {
   "cell_type": "markdown",
   "metadata": {},
   "source": [
    "Failure & match: transition."
   ]
  },
  {
   "cell_type": "markdown",
   "metadata": {},
   "source": [
    "### 3.6.2\n",
    "\n",
    "> Design finite automata for each of the languages of Exercise 3.3.5."
   ]
  },
  {
   "cell_type": "markdown",
   "metadata": {},
   "source": [
    "Exercise 3.4.2."
   ]
  },
  {
   "cell_type": "markdown",
   "metadata": {},
   "source": [
    "### 3.6.3\n",
    "\n",
    "> For the NFA of Fig. 3.29, indicate all the paths labeled `aabb`. Does the NFA accept aabb?"
   ]
  },
  {
   "cell_type": "markdown",
   "metadata": {},
   "source": [
    "* $0 \\overset{a}{\\rightarrow} 0 \\overset{a}{\\rightarrow} 0 \\overset{b}{\\rightarrow} 0 \\overset{b}{\\rightarrow} 0$\n",
    "* $0 \\overset{a}{\\rightarrow} 0 \\overset{a}{\\rightarrow} 1 \\overset{b}{\\rightarrow} 1 \\overset{b}{\\rightarrow} 1$\n",
    "* $0 \\overset{a}{\\rightarrow} 1 \\overset{a}{\\rightarrow} 1 \\overset{b}{\\rightarrow} 1 \\overset{b}{\\rightarrow} 1$\n",
    "* $0 \\overset{a}{\\rightarrow} 1 \\overset{a}{\\rightarrow} 2  \\overset{\\epsilon}{\\rightarrow} 0 \\overset{b}{\\rightarrow} 0 \\overset{b}{\\rightarrow} 0$\n",
    "* $0 \\overset{a}{\\rightarrow} 1 \\overset{a}{\\rightarrow} 2 \\overset{b}{\\rightarrow} 2 \\overset{\\epsilon}{\\rightarrow} 0 \\overset{b}{\\rightarrow} 0$\n",
    "* $0 \\overset{a}{\\rightarrow} 1 \\overset{a}{\\rightarrow} 2 \\overset{b}{\\rightarrow} 2 \\overset{b}{\\rightarrow} 2$\n",
    "* $0 \\overset{a}{\\rightarrow} 1 \\overset{a}{\\rightarrow} 2 \\overset{b}{\\rightarrow} 2 \\overset{b}{\\rightarrow} 3$\n",
    "\n",
    "Accepts `aabb`."
   ]
  },
  {
   "cell_type": "markdown",
   "metadata": {},
   "source": [
    "### 3.6.4\n",
    "\n",
    "> Repeat Exercise 3.6.3 for the NFA of Fig. 3.30."
   ]
  },
  {
   "cell_type": "markdown",
   "metadata": {},
   "source": [
    "* $0 \\overset{\\epsilon}{\\rightarrow} 3 \\overset{a}{\\rightarrow} 0 \\overset{\\epsilon}{\\rightarrow} 3 \\overset{a}{\\rightarrow} 0 \\overset{\\epsilon}{\\rightarrow} 3 \\overset{\\epsilon}{\\rightarrow} 2 \\overset{\\epsilon}{\\rightarrow} 1 \\overset{b}{\\rightarrow} 2 \\overset{\\epsilon}{\\rightarrow} 1 \\overset{b}{\\rightarrow} 2$\n",
    "* $0 \\overset{\\epsilon}{\\rightarrow} 3 \\overset{a}{\\rightarrow} 0 \\overset{\\epsilon}{\\rightarrow} 3 \\overset{a}{\\rightarrow} 0 \\overset{\\epsilon}{\\rightarrow} 3 \\overset{\\epsilon}{\\rightarrow} 2 \\overset{\\epsilon}{\\rightarrow} 1 \\overset{b}{\\rightarrow} 2 \\overset{b}{\\rightarrow} 3$\n",
    "* $0 \\overset{\\epsilon}{\\rightarrow} 3 \\overset{a}{\\rightarrow} 0 \\overset{\\epsilon}{\\rightarrow} 3 \\overset{a}{\\rightarrow} 0 \\overset{\\epsilon}{\\rightarrow} 3 \\overset{\\epsilon}{\\rightarrow} 2 \\overset{b}{\\rightarrow} 3 \\overset{\\epsilon}{\\rightarrow} 2 \\overset{\\epsilon}{\\rightarrow} 1 \\overset{b}{\\rightarrow} 2$\n",
    "* $0 \\overset{\\epsilon}{\\rightarrow} 3 \\overset{a}{\\rightarrow} 0 \\overset{\\epsilon}{\\rightarrow} 3 \\overset{a}{\\rightarrow} 0 \\overset{\\epsilon}{\\rightarrow} 3 \\overset{\\epsilon}{\\rightarrow} 2 \\overset{b}{\\rightarrow} 3 \\overset{\\epsilon}{\\rightarrow} 2 \\overset{b}{\\rightarrow} 3$\n",
    "* $0 \\overset{\\epsilon}{\\rightarrow} 3 \\overset{a}{\\rightarrow} 0 \\overset{a}{\\rightarrow} 1 \\overset{\\epsilon}{\\rightarrow} 0 \\overset{\\epsilon}{\\rightarrow} 3 \\overset{\\epsilon}{\\rightarrow} 2 \\overset{b}{\\rightarrow} 3 \\overset{\\epsilon}{\\rightarrow} 2 \\overset{\\epsilon}{\\rightarrow} 1 \\overset{b}{\\rightarrow} 2$\n",
    "* $0 \\overset{\\epsilon}{\\rightarrow} 3 \\overset{a}{\\rightarrow} 0 \\overset{a}{\\rightarrow} 1 \\overset{\\epsilon}{\\rightarrow} 0 \\overset{\\epsilon}{\\rightarrow} 3 \\overset{\\epsilon}{\\rightarrow} 2 \\overset{b}{\\rightarrow} 3 \\overset{\\epsilon}{\\rightarrow} 2 \\overset{b}{\\rightarrow} 3$\n",
    "* $0 \\overset{\\epsilon}{\\rightarrow} 3 \\overset{a}{\\rightarrow} 0 \\overset{a}{\\rightarrow} 1 \\overset{b}{\\rightarrow} 2 \\overset{\\epsilon}{\\rightarrow} 1 \\overset{b}{\\rightarrow} 2$\n",
    "* $0 \\overset{\\epsilon}{\\rightarrow} 3 \\overset{a}{\\rightarrow} 0 \\overset{a}{\\rightarrow} 1 \\overset{b}{\\rightarrow} 2 \\overset{b}{\\rightarrow} 3$\n",
    "* $0 \\overset{a}{\\rightarrow} 1 \\overset{\\epsilon}{\\rightarrow} 0 \\overset{\\epsilon}{\\rightarrow} 3 \\overset{a}{\\rightarrow} 0 \\overset{\\epsilon}{\\rightarrow} 3 \\overset{\\epsilon}{\\rightarrow} 2 \\overset{\\epsilon}{\\rightarrow} 1 \\overset{b}{\\rightarrow} 2 \\overset{\\epsilon}{\\rightarrow} 1 \\overset{b}{\\rightarrow} 2$\n",
    "* $0 \\overset{a}{\\rightarrow} 1 \\overset{\\epsilon}{\\rightarrow} 0 \\overset{\\epsilon}{\\rightarrow} 3 \\overset{a}{\\rightarrow} 0 \\overset{\\epsilon}{\\rightarrow} 3 \\overset{\\epsilon}{\\rightarrow} 2 \\overset{\\epsilon}{\\rightarrow} 1 \\overset{b}{\\rightarrow} 2 \\overset{b}{\\rightarrow} 3$\n",
    "* $0 \\overset{a}{\\rightarrow} 1 \\overset{\\epsilon}{\\rightarrow} 0 \\overset{\\epsilon}{\\rightarrow} 3 \\overset{a}{\\rightarrow} 0 \\overset{\\epsilon}{\\rightarrow} 3 \\overset{\\epsilon}{\\rightarrow} 2 \\overset{b}{\\rightarrow} 3 \\overset{\\epsilon}{\\rightarrow} 2 \\overset{\\epsilon}{\\rightarrow} 1 \\overset{b}{\\rightarrow} 2$\n",
    "* $0 \\overset{a}{\\rightarrow} 1 \\overset{\\epsilon}{\\rightarrow} 0 \\overset{\\epsilon}{\\rightarrow} 3 \\overset{a}{\\rightarrow} 0 \\overset{\\epsilon}{\\rightarrow} 3 \\overset{\\epsilon}{\\rightarrow} 2 \\overset{b}{\\rightarrow} 3 \\overset{\\epsilon}{\\rightarrow} 2 \\overset{b}{\\rightarrow} 3$\n",
    "* $0 \\overset{a}{\\rightarrow} 1 \\overset{\\epsilon}{\\rightarrow} 0 \\overset{a}{\\rightarrow} 1 \\overset{\\epsilon}{\\rightarrow} 0 \\overset{\\epsilon}{\\rightarrow} 3 \\overset{\\epsilon}{\\rightarrow} 2 \\overset{b}{\\rightarrow} 3 \\overset{\\epsilon}{\\rightarrow} 2 \\overset{\\epsilon}{\\rightarrow} 1 \\overset{b}{\\rightarrow} 2$\n",
    "* $0 \\overset{a}{\\rightarrow} 1 \\overset{\\epsilon}{\\rightarrow} 0 \\overset{a}{\\rightarrow} 1 \\overset{\\epsilon}{\\rightarrow} 0 \\overset{\\epsilon}{\\rightarrow} 3 \\overset{\\epsilon}{\\rightarrow} 2 \\overset{b}{\\rightarrow} 3 \\overset{\\epsilon}{\\rightarrow} 2 \\overset{b}{\\rightarrow} 3$\n",
    "* $0 \\overset{a}{\\rightarrow} 1 \\overset{\\epsilon}{\\rightarrow} 0 \\overset{a}{\\rightarrow} 1 \\overset{b}{\\rightarrow} 2 \\overset{\\epsilon}{\\rightarrow} 1 \\overset{b}{\\rightarrow} 2$\n",
    "* $0 \\overset{a}{\\rightarrow} 1 \\overset{\\epsilon}{\\rightarrow} 0 \\overset{a}{\\rightarrow} 1 \\overset{b}{\\rightarrow} 2 \\overset{b}{\\rightarrow} 3$"
   ]
  },
  {
   "cell_type": "markdown",
   "metadata": {},
   "source": [
    "### 3.6.5\n",
    "\n",
    "> Give the transition tables for the NFA of:\n",
    "\n",
    "> a) Exercise 3.6.3."
   ]
  },
  {
   "cell_type": "markdown",
   "metadata": {},
   "source": [
    "| STATE | $a$ | $b$ | $\\epsilon$ |\n",
    "|:-----:|:-----:|:-----:|:------------:|\n",
    "|   0   | $\\{0, 1\\}$ | $\\{ 0 \\}$ | $\\varnothing$ |\n",
    "|   1   | $\\{1, 2\\}$ | $\\{ 1 \\}$ | $\\varnothing$ |\n",
    "|   2   | $\\{ 2 \\}$ | $\\{2, 3\\}$ | $\\{ 0 \\}$ |\n",
    "|   3   | $\\varnothing$ | $\\varnothing$ | $\\varnothing$ |"
   ]
  },
  {
   "cell_type": "markdown",
   "metadata": {},
   "source": [
    "> b) Exercise 3.6.4."
   ]
  },
  {
   "cell_type": "markdown",
   "metadata": {},
   "source": [
    "| STATE | $a$ | $b$ | $\\epsilon$ |\n",
    "|:-----:|:-----:|:-----:|:------------:|\n",
    "|   0   | $\\{1\\}$ | $\\varnothing$ | $\\{3\\}$ |\n",
    "|   1   | $\\varnothing$ | $\\{2\\}$ | $\\{0\\}$ |\n",
    "|   2   | $\\varnothing$ | $\\{3\\}$ | $\\{1\\}$ |\n",
    "|   3   | $\\{0\\}$ | $\\varnothing$ | $\\{2\\}$ |"
   ]
  },
  {
   "cell_type": "markdown",
   "metadata": {},
   "source": [
    "> c) Figure 3.26."
   ]
  },
  {
   "cell_type": "markdown",
   "metadata": {},
   "source": [
    "| STATE | $a$ | $b$ | $\\epsilon$ |\n",
    "|:-----:|:-----:|:-----:|:------------:|\n",
    "|   0   | $\\varnothing$ | $\\varnothing$ | $\\{1, 3\\}$ |\n",
    "|   1   | $\\{2\\}$ | $\\varnothing$ | $\\varnothing$ |\n",
    "|   2   | $\\{2\\}$ | $\\varnothing$ | $\\varnothing$ |\n",
    "|   3   | $\\varnothing$ | $\\{4\\}$ | $\\varnothing$ |\n",
    "|   4   | $\\varnothing$ | $\\{4\\}$ | $\\varnothing$ |"
   ]
  }
 ],
 "metadata": {
  "kernelspec": {
   "display_name": "Python 2",
   "language": "python",
   "name": "python2"
  },
  "language_info": {
   "codemirror_mode": {
    "name": "ipython",
    "version": 2
   },
   "file_extension": ".py",
   "mimetype": "text/x-python",
   "name": "python",
   "nbconvert_exporter": "python",
   "pygments_lexer": "ipython2",
   "version": "2.7.12"
  }
 },
 "nbformat": 4,
 "nbformat_minor": 2
}
