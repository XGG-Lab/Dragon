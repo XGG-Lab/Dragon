{
 "cells": [
  {
   "cell_type": "markdown",
   "metadata": {},
   "source": [
    "## 3.3 Specification of Tokens"
   ]
  },
  {
   "cell_type": "markdown",
   "metadata": {},
   "source": [
    "### 3.3.1\n",
    "\n",
    "> Consult the language reference manuals to determine\n",
    "\n",
    "> ($i$) the sets of characters that form the input alphabet,\n",
    "\n",
    "> ($ii$) the lexical form of numerical constants,\n",
    "\n",
    "> ($iii$) the lexical form of identifiers, for each of the following languages:\n",
    "> (a) C\n",
    "> (b) C++\n",
    "> (c) C#\n",
    "> (d) Fortran\n",
    "> (e) Java\n",
    "> (f) Lisp\n",
    "> (g) SQL"
   ]
  },
  {
   "cell_type": "markdown",
   "metadata": {},
   "source": [
    "### 3.3.2\n",
    "\n",
    "> Describe the languages denoted by the following regular expressions:\n",
    "\n",
    "> a) $\\mathbf{a}(\\mathbf{a}|\\mathbf{b})^*\\mathbf{a}$."
   ]
  },
  {
   "cell_type": "markdown",
   "metadata": {},
   "source": [
    "Strings of $\\mathbf{a}$s and $\\mathbf{b}$s, begin and end with $\\mathbf{a}$s."
   ]
  },
  {
   "cell_type": "markdown",
   "metadata": {},
   "source": [
    "> b) $((ϵ|\\mathbf{a})\\mathbf{b}^*)^*$."
   ]
  },
  {
   "cell_type": "markdown",
   "metadata": {},
   "source": [
    "Strings of $\\mathbf{a}$s and $\\mathbf{b}$s."
   ]
  },
  {
   "cell_type": "markdown",
   "metadata": {},
   "source": [
    "> c) $(\\mathbf{a}|\\mathbf{b})^*\\mathbf{a}(\\mathbf{a}|\\mathbf{b})(\\mathbf{a}|\\mathbf{b})$."
   ]
  },
  {
   "cell_type": "markdown",
   "metadata": {},
   "source": [
    "Strings of $\\mathbf{a}$s and $\\mathbf{b}$s, the third from last is $\\mathbf{a}$."
   ]
  },
  {
   "cell_type": "markdown",
   "metadata": {},
   "source": [
    "> d) $\\mathbf{a}^*\\mathbf{b}\\mathbf{a}^*\\mathbf{b}\\mathbf{a}^*\\mathbf{b}\\mathbf{a}^*$."
   ]
  },
  {
   "cell_type": "markdown",
   "metadata": {},
   "source": [
    "Strings of $\\mathbf{a}$s containing exactly three $\\mathbf{b}$s."
   ]
  },
  {
   "cell_type": "markdown",
   "metadata": {},
   "source": [
    "> e) $(\\mathbf{a}\\mathbf{a}|\\mathbf{b}\\mathbf{b})^*((\\mathbf{a}\\mathbf{b}|\\mathbf{b}\\mathbf{a})(\\mathbf{a}\\mathbf{a}|\\mathbf{b}\\mathbf{b})^*(\\mathbf{a}\\mathbf{b}|\\mathbf{b}\\mathbf{a})(\\mathbf{a}\\mathbf{a}|\\mathbf{b}\\mathbf{b})^*)^*$"
   ]
  },
  {
   "cell_type": "markdown",
   "metadata": {},
   "source": [
    "Strings of $\\mathbf{aa}$s, $\\mathbf{bb}$s, $\\mathbf{ab}$s and $\\mathbf{ba}$s."
   ]
  },
  {
   "cell_type": "markdown",
   "metadata": {},
   "source": [
    "### 3.3.3\n",
    "\n",
    "> In a string of length $n$, how many of the following are there?\n",
    "\n",
    "> a) Prefixes."
   ]
  },
  {
   "cell_type": "markdown",
   "metadata": {},
   "source": [
    "$n + 1$"
   ]
  },
  {
   "cell_type": "markdown",
   "metadata": {},
   "source": [
    "> b) Suffixes."
   ]
  },
  {
   "cell_type": "markdown",
   "metadata": {},
   "source": [
    "$n + 1$"
   ]
  },
  {
   "cell_type": "markdown",
   "metadata": {},
   "source": [
    "> c) Proper prefixes."
   ]
  },
  {
   "cell_type": "markdown",
   "metadata": {},
   "source": [
    "$n - 1$"
   ]
  },
  {
   "cell_type": "markdown",
   "metadata": {},
   "source": [
    "> d) Substrings."
   ]
  },
  {
   "cell_type": "markdown",
   "metadata": {},
   "source": [
    "$\\displaystyle \\frac{n(n+1)}{2}+1$"
   ]
  },
  {
   "cell_type": "markdown",
   "metadata": {},
   "source": [
    "> e) Subsequences."
   ]
  },
  {
   "cell_type": "markdown",
   "metadata": {},
   "source": [
    "$2^n$"
   ]
  },
  {
   "cell_type": "markdown",
   "metadata": {},
   "source": [
    "### 3.3.4\n",
    "\n",
    "> Most languages are case sensitive, so keywords can be written\n",
    "only one way, and the regular expressions describing their lexemes are very simple. However, some languages, like SQL, are case insensitive, so a keyword can be written either in lowercase or in uppercase, or in any mixture of cases. Thus, the SQL keyword SELECT can also be written select, Select, or sElEcT, for instance. Show how to write a regular expression for a keyword in a case-insensitive language. Illustrate the idea by writing the expression for \"select\" in SQL."
   ]
  },
  {
   "cell_type": "markdown",
   "metadata": {},
   "source": [
    "`[Ss][Ee][Ll][Ee][Cc][Tt]`"
   ]
  },
  {
   "cell_type": "markdown",
   "metadata": {},
   "source": [
    "### 3.3.5\n",
    "\n",
    "> Write regular definitions for the following languages:\n",
    "\n",
    "> a) All strings of lowercase letters that contain the five vowels in order."
   ]
  },
  {
   "cell_type": "markdown",
   "metadata": {},
   "source": [
    "`[a-z]*a[a-z]*e[a-z]*i[a-z]*o[a-z]*u[a-z]*`"
   ]
  },
  {
   "cell_type": "markdown",
   "metadata": {},
   "source": [
    "> b) All strings of lowercase letters in which the letters are in ascending lexicographic order."
   ]
  },
  {
   "cell_type": "markdown",
   "metadata": {},
   "source": [
    "`a*b*c*d*e*f*g*h*i*j*k*l*m*n*o*p*q*r*s*t*u*v*w*x*y*z*`"
   ]
  },
  {
   "cell_type": "markdown",
   "metadata": {},
   "source": [
    "> c) Comments, consisting of a string surrounded by `/*` and `*/`, without an intervening `*/`, unless it is inside double-quotes (`\"`)."
   ]
  },
  {
   "cell_type": "markdown",
   "metadata": {},
   "source": [
    "`\\/\\*([^\\*\"]*(\"([^\"]*\")?)?)*\\*\\/`"
   ]
  },
  {
   "cell_type": "markdown",
   "metadata": {},
   "source": [
    "> d) All strings of digits with no repeated digits."
   ]
  },
  {
   "cell_type": "markdown",
   "metadata": {},
   "source": [
    "Nonsense."
   ]
  },
  {
   "cell_type": "markdown",
   "metadata": {},
   "source": [
    "> e) All strings of digits with at most one repeated digit."
   ]
  },
  {
   "cell_type": "markdown",
   "metadata": {},
   "source": [
    "Nonsense."
   ]
  },
  {
   "cell_type": "markdown",
   "metadata": {},
   "source": [
    "> f) All strings of a's and b's with an even number of a's and an odd number of b's."
   ]
  },
  {
   "cell_type": "markdown",
   "metadata": {},
   "source": [
    "Nonsense."
   ]
  },
  {
   "cell_type": "markdown",
   "metadata": {},
   "source": [
    "> g) The set of Chess moves, in the informal notation, such as p-k4 or kbp×qn.\n",
    "\n",
    "> h) All strings of a's and b's that do not contain the substring abb."
   ]
  },
  {
   "cell_type": "markdown",
   "metadata": {},
   "source": [
    "`b*(a+b?)*`"
   ]
  },
  {
   "cell_type": "markdown",
   "metadata": {},
   "source": [
    "> i) All strings of a's and b's that do not contain the subsequence abb."
   ]
  },
  {
   "cell_type": "markdown",
   "metadata": {},
   "source": [
    "`b*a*(ba*)?`"
   ]
  },
  {
   "cell_type": "markdown",
   "metadata": {},
   "source": [
    "### 3.3.6 \n",
    "\n",
    "> Write character classes for the following sets of characters:\n",
    "\n",
    "> a) The first ten letters (up to \"j\") in either upper or lower case."
   ]
  },
  {
   "cell_type": "markdown",
   "metadata": {},
   "source": [
    "`[A-Ja-j]`"
   ]
  },
  {
   "cell_type": "markdown",
   "metadata": {},
   "source": [
    "> b) The lowercase consonants."
   ]
  },
  {
   "cell_type": "markdown",
   "metadata": {},
   "source": [
    "`[bcdfghjklmnpqrstvwxzy]`"
   ]
  },
  {
   "cell_type": "markdown",
   "metadata": {},
   "source": [
    "> c) The \"digits\" in a hexadecimal number (choose either upper or lower case for the \"digits\" above 9)."
   ]
  },
  {
   "cell_type": "markdown",
   "metadata": {},
   "source": [
    "`[0-9a-f]`"
   ]
  },
  {
   "cell_type": "markdown",
   "metadata": {},
   "source": [
    "> d) The characters that can appear at the end of a legitimate English sentence"
   ]
  },
  {
   "cell_type": "markdown",
   "metadata": {},
   "source": [
    "[.!?]"
   ]
  },
  {
   "cell_type": "markdown",
   "metadata": {},
   "source": [
    "### 3.3.7 \n",
    "\n",
    "> Note that these regular expressions give all of the following symbols (operator characters) a special meaning:\n",
    "\n",
    "> `\\ \" . ^ $ [ ] * + ? { } | /`\n",
    "\n",
    "> Their special meaning must be turned off if they are needed to represent themselves in a character string. We can do so by quoting the character within a string of length one or more; e.g., the regular expression `\"**\"` matches the string `**`. We can also get the literal meaning of an operator character by preceding\n",
    "it by a backslash. Thus, the regular expression `\\*\\*` also matches the string `**`. Write a regular expression that matches the string `\"\\`."
   ]
  },
  {
   "cell_type": "markdown",
   "metadata": {},
   "source": [
    "`\\\"\\\\`"
   ]
  },
  {
   "cell_type": "markdown",
   "metadata": {},
   "source": [
    "### 3.3.8 \n",
    "\n",
    "> In Lex, a _complemented character class_ represents any character except the ones listed in the character class. We denote a complemented class by using `^` as the first character; this symbol (caret) is not itself part of the class being complemented, unless it is listed within the class itself. Thus, `[^A-Za-z]` matches any character that is not an uppercase or lowercase letter, and `[^\\^]` represents any character but the caret (or newline, since newline cannot be in any character class). Show that for every regular expression with complemented character classes, there is an equivalent regular expression without complemented character classes."
   ]
  },
  {
   "cell_type": "markdown",
   "metadata": {},
   "source": [
    "The set of characters is finite."
   ]
  },
  {
   "cell_type": "markdown",
   "metadata": {},
   "source": [
    "### 3.3.9 \n",
    "\n",
    "> The regular expression $r\\{m, n\\}$ matches from $m$ to $n$ occurrences of the pattern $r$. For example, $a\\{1, 5\\}$ matches a string of one to five $a$'s. Show that for every regular expression containing repetition operators of this form, there is an equivalent regular expression without repetition operators."
   ]
  },
  {
   "cell_type": "markdown",
   "metadata": {},
   "source": [
    "$\\underset{m}{\\underbrace{r \\dots r}}~\\underset{n - m}{\\underbrace{r? \\dots r?}}$"
   ]
  },
  {
   "cell_type": "markdown",
   "metadata": {},
   "source": [
    "### 3.3.10 \n",
    "\n",
    "> The operator `^` matches the left end of a line, and `$` matches\n",
    "the right end of a line. The operator `^` is also used to introduce complemented character classes, but the context always makes it clear which meaning is intended. For example, `^[^aeiou]*$` matches any complete line that does not contain a lowercase vowel.\n",
    "\n",
    "> a) How do you tell which meaning of `^` is intended?"
   ]
  },
  {
   "cell_type": "markdown",
   "metadata": {},
   "source": [
    "First."
   ]
  },
  {
   "cell_type": "markdown",
   "metadata": {},
   "source": [
    "> b) Can you always replace a regular expression using the `^` and `$` operators by an equivalent expression that does not use either of these operators?"
   ]
  },
  {
   "cell_type": "markdown",
   "metadata": {},
   "source": [
    "No."
   ]
  },
  {
   "cell_type": "markdown",
   "metadata": {},
   "source": [
    "### 3.3.11\n",
    "\n",
    "> The UNIX shell command sh uses the operators in Fig. 3.9 in filename expressions to describe sets of file names. For example, the filename expression `*.o` matches all file names ending in `.o`; `sort1.?` matches all filenames of the form `sort1.c`, where `c` is any character. Show how `sh` filename expressions can be replaced by equivalent regular expressions using only the basic union, concatenation, and closure operators."
   ]
  },
  {
   "cell_type": "markdown",
   "metadata": {},
   "source": [
    "`*` => `.*`\n",
    "\n",
    "`?` => `.?`"
   ]
  },
  {
   "cell_type": "markdown",
   "metadata": {},
   "source": [
    "### 3.3.12\n",
    "\n",
    "> SQL allows a rudimentary form of patterns in which two\n",
    "characters have special meaning: underscore (`_`) stands for any one character and percent-sign (`%`) stands for any string of 0 or more characters. In addition, the programmer may define any character, say `e`, to be the escape character, so an `e` preceding `_`, `%`, or another `e` gives the character that follows its literal meaning. Show how to express any SQL pattern as a regular expression, given that we know which character is the escape character."
   ]
  },
  {
   "cell_type": "markdown",
   "metadata": {},
   "source": [
    "`e_` => `_`\n",
    "\n",
    "`e%` => `%`\n",
    "\n",
    "`_` => `?`\n",
    "\n",
    "`%` => `*`"
   ]
  }
 ],
 "metadata": {
  "kernelspec": {
   "display_name": "Python 2",
   "language": "python",
   "name": "python2"
  },
  "language_info": {
   "codemirror_mode": {
    "name": "ipython",
    "version": 2
   },
   "file_extension": ".py",
   "mimetype": "text/x-python",
   "name": "python",
   "nbconvert_exporter": "python",
   "pygments_lexer": "ipython2",
   "version": "2.7.12"
  }
 },
 "nbformat": 4,
 "nbformat_minor": 2
}
